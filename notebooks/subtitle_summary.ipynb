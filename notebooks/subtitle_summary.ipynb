{
 "cells": [
  {
   "cell_type": "code",
   "execution_count": 5,
   "metadata": {},
   "outputs": [],
   "source": [
    "import os\n",
    "import sys\n",
    "module_path = os.path.abspath(os.path.join('..'))\n",
    "if module_path not in sys.path:\n",
    "    sys.path.append(module_path)\n",
    "from rich import print, print_json\n",
    "from pathlib import Path"
   ]
  },
  {
   "cell_type": "code",
   "execution_count": 2,
   "metadata": {},
   "outputs": [
    {
     "name": "stderr",
     "output_type": "stream",
     "text": [
      "/home/srivatsas/work/repos/personal/raptor.git/branches_wip/master/venv/lib/python3.10/site-packages/tqdm/auto.py:21: TqdmWarning: IProgress not found. Please update jupyter and ipywidgets. See https://ipywidgets.readthedocs.io/en/stable/user_install.html\n",
      "  from .autonotebook import tqdm as notebook_tqdm\n",
      "2024-05-10 06:29:23,595 - Loading faiss with AVX512 support.\n",
      "2024-05-10 06:29:23,612 - Successfully loaded faiss with AVX512 support.\n"
     ]
    }
   ],
   "source": [
    "import raptor\n",
    "from raptor import RetrievalAugmentation"
   ]
  },
  {
   "cell_type": "markdown",
   "metadata": {},
   "source": []
  },
  {
   "cell_type": "code",
   "execution_count": 3,
   "metadata": {},
   "outputs": [
    {
     "name": "stderr",
     "output_type": "stream",
     "text": [
      "2024-05-10 06:29:23,946 - Successfully initialized TreeBuilder with Config \n",
      "        TreeBuilderConfig:\n",
      "            Tokenizer: <Encoding 'cl100k_base'>\n",
      "            Max Tokens: 100\n",
      "            Num Layers: 5\n",
      "            Threshold: 0.5\n",
      "            Top K: 5\n",
      "            Selection Mode: top_k\n",
      "            Summarization Length: 100\n",
      "            Summarization Model: <raptor.SummarizationModels.GPT3TurboSummarizationModel object at 0x7a3efbc86890>\n",
      "            Embedding Models: {'OpenAI': <raptor.EmbeddingModels.OpenAIEmbeddingModel object at 0x7a3efbc868f0>}\n",
      "            Cluster Embedding Model: OpenAI\n",
      "        \n",
      "        Reduction Dimension: 10\n",
      "        Clustering Algorithm: RAPTOR_Clustering\n",
      "        Clustering Parameters: {}\n",
      "        \n",
      "2024-05-10 06:29:23,947 - Successfully initialized ClusterTreeBuilder with Config \n",
      "        TreeBuilderConfig:\n",
      "            Tokenizer: <Encoding 'cl100k_base'>\n",
      "            Max Tokens: 100\n",
      "            Num Layers: 5\n",
      "            Threshold: 0.5\n",
      "            Top K: 5\n",
      "            Selection Mode: top_k\n",
      "            Summarization Length: 100\n",
      "            Summarization Model: <raptor.SummarizationModels.GPT3TurboSummarizationModel object at 0x7a3efbc86890>\n",
      "            Embedding Models: {'OpenAI': <raptor.EmbeddingModels.OpenAIEmbeddingModel object at 0x7a3efbc868f0>}\n",
      "            Cluster Embedding Model: OpenAI\n",
      "        \n",
      "        Reduction Dimension: 10\n",
      "        Clustering Algorithm: RAPTOR_Clustering\n",
      "        Clustering Parameters: {}\n",
      "        \n",
      "2024-05-10 06:29:23,947 - Successfully initialized RetrievalAugmentation with Config \n",
      "        RetrievalAugmentationConfig:\n",
      "            \n",
      "        TreeBuilderConfig:\n",
      "            Tokenizer: <Encoding 'cl100k_base'>\n",
      "            Max Tokens: 100\n",
      "            Num Layers: 5\n",
      "            Threshold: 0.5\n",
      "            Top K: 5\n",
      "            Selection Mode: top_k\n",
      "            Summarization Length: 100\n",
      "            Summarization Model: <raptor.SummarizationModels.GPT3TurboSummarizationModel object at 0x7a3efbc86890>\n",
      "            Embedding Models: {'OpenAI': <raptor.EmbeddingModels.OpenAIEmbeddingModel object at 0x7a3efbc868f0>}\n",
      "            Cluster Embedding Model: OpenAI\n",
      "        \n",
      "        Reduction Dimension: 10\n",
      "        Clustering Algorithm: RAPTOR_Clustering\n",
      "        Clustering Parameters: {}\n",
      "        \n",
      "            \n",
      "            \n",
      "        TreeRetrieverConfig:\n",
      "            Tokenizer: <Encoding 'cl100k_base'>\n",
      "            Threshold: 0.5\n",
      "            Top K: 5\n",
      "            Selection Mode: top_k\n",
      "            Context Embedding Model: OpenAI\n",
      "            Embedding Model: <raptor.EmbeddingModels.OpenAIEmbeddingModel object at 0x7a3efbcbb0a0>\n",
      "            Num Layers: None\n",
      "            Start Layer: None\n",
      "        \n",
      "            \n",
      "            QA Model: <raptor.QAModels.GPT3TurboQAModel object at 0x7a3efbcdd3c0>\n",
      "            Tree Builder Type: cluster\n",
      "        \n"
     ]
    }
   ],
   "source": [
    "RA = RetrievalAugmentation()"
   ]
  },
  {
   "cell_type": "code",
   "execution_count": 12,
   "metadata": {},
   "outputs": [
    {
     "name": "stdout",
     "output_type": "stream",
     "text": [
      "total 0\n"
     ]
    }
   ],
   "source": [
    "! ll ..//../../../../../data/llm_apps/data/txts/"
   ]
  },
  {
   "cell_type": "code",
   "execution_count": 6,
   "metadata": {},
   "outputs": [],
   "source": [
    "txt = Path(\"../../../../../../data/llm_apps/data/txts/blueant/txt/HF_A00779-001.txt\")"
   ]
  },
  {
   "cell_type": "code",
   "execution_count": 7,
   "metadata": {},
   "outputs": [
    {
     "name": "stderr",
     "output_type": "stream",
     "text": [
      "2024-05-10 06:29:44,411 - Creating Leaf Nodes\n",
      "2024-05-10 06:29:44,853 - HTTP Request: POST https://api.openai.com/v1/embeddings \"HTTP/1.1 200 OK\"\n"
     ]
    },
    {
     "data": {
      "text/html": [
       "<pre style=\"white-space:pre;overflow-x:auto;line-height:normal;font-family:Menlo,'DejaVu Sans Mono',consolas,'Courier New',monospace\"><span style=\"color: #008080; text-decoration-color: #008080; font-weight: bold\">2</span>  NARRATOR: To set right what's gone wrong in the wild  WOMAN <span style=\"color: #008080; text-decoration-color: #008080; font-weight: bold\">1</span>: Life in the wild is hard enough, but when man and\n",
       "nature collide, wildlife never wins  More than a <span style=\"color: #008080; text-decoration-color: #008080; font-weight: bold\">1</span>,<span style=\"color: #008080; text-decoration-color: #008080; font-weight: bold\">000</span> injured and orphaned birds and mammals arrive at my farm \n",
       "every year  I just want to give them one last chance  My name is Hope\n",
       "</pre>\n"
      ],
      "text/plain": [
       "\u001b[1;36m2\u001b[0m  NARRATOR: To set right what's gone wrong in the wild  WOMAN \u001b[1;36m1\u001b[0m: Life in the wild is hard enough, but when man and\n",
       "nature collide, wildlife never wins  More than a \u001b[1;36m1\u001b[0m,\u001b[1;36m000\u001b[0m injured and orphaned birds and mammals arrive at my farm \n",
       "every year  I just want to give them one last chance  My name is Hope\n"
      ]
     },
     "metadata": {},
     "output_type": "display_data"
    },
    {
     "name": "stderr",
     "output_type": "stream",
     "text": [
      "2024-05-10 06:29:44,885 - HTTP Request: POST https://api.openai.com/v1/embeddings \"HTTP/1.1 200 OK\"\n"
     ]
    },
    {
     "data": {
      "text/html": [
       "<pre style=\"white-space:pre;overflow-x:auto;line-height:normal;font-family:Menlo,'DejaVu Sans Mono',consolas,'Courier New',monospace\"><span style=\"color: #008080; text-decoration-color: #008080; font-weight: bold\">9</span>  Winter is a little quiet  But the busy season is just around the corner  In the spring, hundreds of babies start\n",
       "coming in  Before the baby boom begins, we've got a few animals from last year left to be released  These White \n",
       "Tailed Deer were rescued as tiny fawns in the spring of last year  Some were only a day or two old  Most arrived \n",
       "because their mothers were hit by cars  NARRATOR: White Tailed Deer aren't native to this area\n",
       "</pre>\n"
      ],
      "text/plain": [
       "\u001b[1;36m9\u001b[0m  Winter is a little quiet  But the busy season is just around the corner  In the spring, hundreds of babies start\n",
       "coming in  Before the baby boom begins, we've got a few animals from last year left to be released  These White \n",
       "Tailed Deer were rescued as tiny fawns in the spring of last year  Some were only a day or two old  Most arrived \n",
       "because their mothers were hit by cars  NARRATOR: White Tailed Deer aren't native to this area\n"
      ]
     },
     "metadata": {},
     "output_type": "display_data"
    },
    {
     "name": "stderr",
     "output_type": "stream",
     "text": [
      "2024-05-10 06:29:44,898 - HTTP Request: POST https://api.openai.com/v1/embeddings \"HTTP/1.1 200 OK\"\n"
     ]
    },
    {
     "data": {
      "text/html": [
       "<pre style=\"white-space:pre;overflow-x:auto;line-height:normal;font-family:Menlo,'DejaVu Sans Mono',consolas,'Courier New',monospace\"><span style=\"color: #008080; text-decoration-color: #008080; font-weight: bold\">4</span>  One of the founder of the Hope for Wildlife Society  In <span style=\"color: #008080; text-decoration-color: #008080; font-weight: bold\">2008</span>, we released over <span style=\"color: #008080; text-decoration-color: #008080; font-weight: bold\">1</span>,<span style=\"color: #008080; text-decoration-color: #008080; font-weight: bold\">100</span> different birds and mammals\n",
       "back into the wild  HOPE: <span style=\"font-weight: bold\">(</span>Narrating<span style=\"font-weight: bold\">)</span> All our animals are injured or orphaned when they arrive  We rescue some of \n",
       "them ourselves  The rest are brought to us by the Department of Natural Resources or just dropped off by regular \n",
       "folks  It was in the middle of the field  It didn't look very good\n",
       "</pre>\n"
      ],
      "text/plain": [
       "\u001b[1;36m4\u001b[0m  One of the founder of the Hope for Wildlife Society  In \u001b[1;36m2008\u001b[0m, we released over \u001b[1;36m1\u001b[0m,\u001b[1;36m100\u001b[0m different birds and mammals\n",
       "back into the wild  HOPE: \u001b[1m(\u001b[0mNarrating\u001b[1m)\u001b[0m All our animals are injured or orphaned when they arrive  We rescue some of \n",
       "them ourselves  The rest are brought to us by the Department of Natural Resources or just dropped off by regular \n",
       "folks  It was in the middle of the field  It didn't look very good\n"
      ]
     },
     "metadata": {},
     "output_type": "display_data"
    },
    {
     "name": "stderr",
     "output_type": "stream",
     "text": [
      "2024-05-10 06:29:44,935 - HTTP Request: POST https://api.openai.com/v1/embeddings \"HTTP/1.1 200 OK\"\n",
      "2024-05-10 06:29:44,935 - HTTP Request: POST https://api.openai.com/v1/embeddings \"HTTP/1.1 200 OK\"\n"
     ]
    },
    {
     "data": {
      "text/html": [
       "<pre style=\"white-space:pre;overflow-x:auto;line-height:normal;font-family:Menlo,'DejaVu Sans Mono',consolas,'Courier New',monospace\"><span style=\"color: #008080; text-decoration-color: #008080; font-weight: bold\">11</span>  But we had a harsh and early winter this year  So I had to keep them a few extra months  I'm going to release \n",
       "them just as soon as our veterinarian can give them a final check-up  Not every animal can be released  This is \n",
       "Gretel  I just love her  Hey, Gret  HOPE: <span style=\"font-weight: bold\">(</span>Narrating<span style=\"font-weight: bold\">)</span> She's a pine marten that came from a captive breeding program\n",
       "Pine martens are an endangered species of Nova Scotia\n",
       "</pre>\n"
      ],
      "text/plain": [
       "\u001b[1;36m11\u001b[0m  But we had a harsh and early winter this year  So I had to keep them a few extra months  I'm going to release \n",
       "them just as soon as our veterinarian can give them a final check-up  Not every animal can be released  This is \n",
       "Gretel  I just love her  Hey, Gret  HOPE: \u001b[1m(\u001b[0mNarrating\u001b[1m)\u001b[0m She's a pine marten that came from a captive breeding program\n",
       "Pine martens are an endangered species of Nova Scotia\n"
      ]
     },
     "metadata": {},
     "output_type": "display_data"
    },
    {
     "name": "stderr",
     "output_type": "stream",
     "text": [
      "2024-05-10 06:29:44,945 - HTTP Request: POST https://api.openai.com/v1/embeddings \"HTTP/1.1 200 OK\"\n"
     ]
    },
    {
     "data": {
      "text/html": [
       "<pre style=\"white-space:pre;overflow-x:auto;line-height:normal;font-family:Menlo,'DejaVu Sans Mono',consolas,'Courier New',monospace\"><span style=\"color: #008080; text-decoration-color: #008080; font-weight: bold\">5</span>  YOUNG WOMAN: Yeah, it was just laying there  Actually, it wasn't even moving  HOPE: <span style=\"font-weight: bold\">(</span>Narrating<span style=\"font-weight: bold\">)</span> They would never\n",
       "survive without our help  Extremely thin when you feel him  There's like-- There's no muscle or fat  HOPE: \n",
       "<span style=\"font-weight: bold\">(</span>Narrating<span style=\"font-weight: bold\">)</span> Our goal is always to rehabilitate and release them  But sometimes, this is just not possible  About \n",
       "<span style=\"color: #008080; text-decoration-color: #008080; font-weight: bold\">65</span>% of our animals make it back to the wild\n",
       "</pre>\n"
      ],
      "text/plain": [
       "\u001b[1;36m5\u001b[0m  YOUNG WOMAN: Yeah, it was just laying there  Actually, it wasn't even moving  HOPE: \u001b[1m(\u001b[0mNarrating\u001b[1m)\u001b[0m They would never\n",
       "survive without our help  Extremely thin when you feel him  There's like-- There's no muscle or fat  HOPE: \n",
       "\u001b[1m(\u001b[0mNarrating\u001b[1m)\u001b[0m Our goal is always to rehabilitate and release them  But sometimes, this is just not possible  About \n",
       "\u001b[1;36m65\u001b[0m% of our animals make it back to the wild\n"
      ]
     },
     "metadata": {},
     "output_type": "display_data"
    },
    {
     "data": {
      "text/html": [
       "<pre style=\"white-space:pre;overflow-x:auto;line-height:normal;font-family:Menlo,'DejaVu Sans Mono',consolas,'Courier New',monospace\"><span style=\"color: #008080; text-decoration-color: #008080; font-weight: bold\">10</span>  They were introduced in the 1940s for food and sport  They're plentiful now in the northern wilderness  HOPE: \n",
       "<span style=\"font-weight: bold\">(</span>Narrating<span style=\"font-weight: bold\">)</span> We don't discriminate between endangered species and common animals here at Hope for Wildlife  I \n",
       "believe they all matter  I like to release the deer as soon as hunting season is over in December because the deer \n",
       "have the opportunity to integrate into a herd  It gives them a better chance of survival for the winter\n",
       "</pre>\n"
      ],
      "text/plain": [
       "\u001b[1;36m10\u001b[0m  They were introduced in the 1940s for food and sport  They're plentiful now in the northern wilderness  HOPE: \n",
       "\u001b[1m(\u001b[0mNarrating\u001b[1m)\u001b[0m We don't discriminate between endangered species and common animals here at Hope for Wildlife  I \n",
       "believe they all matter  I like to release the deer as soon as hunting season is over in December because the deer \n",
       "have the opportunity to integrate into a herd  It gives them a better chance of survival for the winter\n"
      ]
     },
     "metadata": {},
     "output_type": "display_data"
    },
    {
     "name": "stderr",
     "output_type": "stream",
     "text": [
      "2024-05-10 06:29:44,951 - HTTP Request: POST https://api.openai.com/v1/embeddings \"HTTP/1.1 200 OK\"\n",
      "2024-05-10 06:29:44,956 - HTTP Request: POST https://api.openai.com/v1/embeddings \"HTTP/1.1 200 OK\"\n"
     ]
    },
    {
     "data": {
      "text/html": [
       "<pre style=\"white-space:pre;overflow-x:auto;line-height:normal;font-family:Menlo,'DejaVu Sans Mono',consolas,'Courier New',monospace\"><span style=\"color: #008080; text-decoration-color: #008080; font-weight: bold\">6</span>  Oh, I hate this part  Okay  He'll be okay  HOPE: <span style=\"font-weight: bold\">(</span>Narrating<span style=\"font-weight: bold\">)</span> This place isn't just a wildlife rehabilitation \n",
       "Centre  It's my home  <span style=\"font-weight: bold\">(</span>♪♪<span style=\"font-weight: bold\">)</span> This is my farm  Right on the coastline of Nova Scotia  It's just outside the city of \n",
       "Halifax and right on the edge of the Canadian wilderness  We're right at the crossroads of man and nature  And it's\n",
       "that interaction that produces so many injured and orphaned animals\n",
       "</pre>\n"
      ],
      "text/plain": [
       "\u001b[1;36m6\u001b[0m  Oh, I hate this part  Okay  He'll be okay  HOPE: \u001b[1m(\u001b[0mNarrating\u001b[1m)\u001b[0m This place isn't just a wildlife rehabilitation \n",
       "Centre  It's my home  \u001b[1m(\u001b[0m♪♪\u001b[1m)\u001b[0m This is my farm  Right on the coastline of Nova Scotia  It's just outside the city of \n",
       "Halifax and right on the edge of the Canadian wilderness  We're right at the crossroads of man and nature  And it's\n",
       "that interaction that produces so many injured and orphaned animals\n"
      ]
     },
     "metadata": {},
     "output_type": "display_data"
    },
    {
     "data": {
      "text/html": [
       "<pre style=\"white-space:pre;overflow-x:auto;line-height:normal;font-family:Menlo,'DejaVu Sans Mono',consolas,'Courier New',monospace\"><span style=\"color: #008080; text-decoration-color: #008080; font-weight: bold\">12</span>  We think there are less than a <span style=\"color: #008080; text-decoration-color: #008080; font-weight: bold\">100</span> left in the province  She had a parasitic infection when she arrived  \n",
       "Hansel, her brother, died from the same infection shortly after they came to us  We nursed Gretel back to health, \n",
       "but we couldn't release her because she was captive bred  Now she's one of our education animals  She helps us \n",
       "teach people about wildlife and nature\n",
       "</pre>\n"
      ],
      "text/plain": [
       "\u001b[1;36m12\u001b[0m  We think there are less than a \u001b[1;36m100\u001b[0m left in the province  She had a parasitic infection when she arrived  \n",
       "Hansel, her brother, died from the same infection shortly after they came to us  We nursed Gretel back to health, \n",
       "but we couldn't release her because she was captive bred  Now she's one of our education animals  She helps us \n",
       "teach people about wildlife and nature\n"
      ]
     },
     "metadata": {},
     "output_type": "display_data"
    },
    {
     "name": "stderr",
     "output_type": "stream",
     "text": [
      "2024-05-10 06:29:45,103 - HTTP Request: POST https://api.openai.com/v1/embeddings \"HTTP/1.1 200 OK\"\n"
     ]
    },
    {
     "data": {
      "text/html": [
       "<pre style=\"white-space:pre;overflow-x:auto;line-height:normal;font-family:Menlo,'DejaVu Sans Mono',consolas,'Courier New',monospace\"><span style=\"color: #008080; text-decoration-color: #008080; font-weight: bold\">7</span>  That was the break  Caring for them is a round-the-clock, full-time job  But I don't get paid in dollars  It's \n",
       "truly a labour of love  There you go  It's not that bad  Doesn't he look so much bigger  HOPE: <span style=\"font-weight: bold\">(</span>Narrating<span style=\"font-weight: bold\">)</span> I work \n",
       "<span style=\"color: #008080; text-decoration-color: #008080; font-weight: bold\">40</span> hours a week managing a veterinary hospital in the city  I run the rehab on evenings and weekends  I don't get \n",
       "much sleep  We need a coffee\n",
       "</pre>\n"
      ],
      "text/plain": [
       "\u001b[1;36m7\u001b[0m  That was the break  Caring for them is a round-the-clock, full-time job  But I don't get paid in dollars  It's \n",
       "truly a labour of love  There you go  It's not that bad  Doesn't he look so much bigger  HOPE: \u001b[1m(\u001b[0mNarrating\u001b[1m)\u001b[0m I work \n",
       "\u001b[1;36m40\u001b[0m hours a week managing a veterinary hospital in the city  I run the rehab on evenings and weekends  I don't get \n",
       "much sleep  We need a coffee\n"
      ]
     },
     "metadata": {},
     "output_type": "display_data"
    },
    {
     "name": "stderr",
     "output_type": "stream",
     "text": [
      "2024-05-10 06:29:45,220 - HTTP Request: POST https://api.openai.com/v1/embeddings \"HTTP/1.1 200 OK\"\n"
     ]
    },
    {
     "data": {
      "text/html": [
       "<pre style=\"white-space:pre;overflow-x:auto;line-height:normal;font-family:Menlo,'DejaVu Sans Mono',consolas,'Courier New',monospace\"><span style=\"color: #008080; text-decoration-color: #008080; font-weight: bold\">20</span>  So I cleaned his cage just because I had to move him and he wasn't doing very well this morning  It's not \n",
       "pretty, but these are the day-to-day realities of helping wildlife  I'd rather scare off a few volunteers now than \n",
       "have them quit in the middle of the season  NARRATOR: The new recruits are about to come face-to-face with death, \n",
       "disease, and dirty work  Oh, God\n",
       "</pre>\n"
      ],
      "text/plain": [
       "\u001b[1;36m20\u001b[0m  So I cleaned his cage just because I had to move him and he wasn't doing very well this morning  It's not \n",
       "pretty, but these are the day-to-day realities of helping wildlife  I'd rather scare off a few volunteers now than \n",
       "have them quit in the middle of the season  NARRATOR: The new recruits are about to come face-to-face with death, \n",
       "disease, and dirty work  Oh, God\n"
      ]
     },
     "metadata": {},
     "output_type": "display_data"
    },
    {
     "name": "stderr",
     "output_type": "stream",
     "text": [
      "2024-05-10 06:29:45,233 - HTTP Request: POST https://api.openai.com/v1/embeddings \"HTTP/1.1 200 OK\"\n",
      "2024-05-10 06:29:45,236 - HTTP Request: POST https://api.openai.com/v1/embeddings \"HTTP/1.1 200 OK\"\n"
     ]
    },
    {
     "data": {
      "text/html": [
       "<pre style=\"white-space:pre;overflow-x:auto;line-height:normal;font-family:Menlo,'DejaVu Sans Mono',consolas,'Courier New',monospace\"><span style=\"color: #008080; text-decoration-color: #008080; font-weight: bold\">23</span>  And she had a skunk in her house and I was like, <span style=\"color: #008000; text-decoration-color: #008000\">\"Why is there a skunk in your house \"</span> And she started \n",
       "explaining to me about, you know, our wildlife and how they need help  And honestly, I had never thought about it \n",
       "before  We've been at this for, oh, probably <span style=\"color: #008080; text-decoration-color: #008080; font-weight: bold\">16</span> years or so  We became legal about <span style=\"color: #008080; text-decoration-color: #008080; font-weight: bold\">11</span> years ago\n",
       "</pre>\n"
      ],
      "text/plain": [
       "\u001b[1;36m23\u001b[0m  And she had a skunk in her house and I was like, \u001b[32m\"Why is there a skunk in your house \"\u001b[0m And she started \n",
       "explaining to me about, you know, our wildlife and how they need help  And honestly, I had never thought about it \n",
       "before  We've been at this for, oh, probably \u001b[1;36m16\u001b[0m years or so  We became legal about \u001b[1;36m11\u001b[0m years ago\n"
      ]
     },
     "metadata": {},
     "output_type": "display_data"
    },
    {
     "name": "stderr",
     "output_type": "stream",
     "text": [
      "2024-05-10 06:29:45,257 - HTTP Request: POST https://api.openai.com/v1/embeddings \"HTTP/1.1 200 OK\"\n"
     ]
    },
    {
     "data": {
      "text/html": [
       "<pre style=\"white-space:pre;overflow-x:auto;line-height:normal;font-family:Menlo,'DejaVu Sans Mono',consolas,'Courier New',monospace\"><span style=\"color: #008080; text-decoration-color: #008080; font-weight: bold\">25</span>  At the end of that time, we became the first wildlife rehab centre in Nova Scotia  And our mission is not \n",
       "probably what a lot of you think  It's not wildlife rehabilitation per se, it's connecting people to wildlife in a \n",
       "positive way through knowledge and understanding  Oh, I wanna see baby something, baby anything  I love babies  \n",
       "We'll get over to the main part  I want to give everybody a reality check right from the start  Sometimes this job \n",
       "requires a strong stomach\n",
       "</pre>\n"
      ],
      "text/plain": [
       "\u001b[1;36m25\u001b[0m  At the end of that time, we became the first wildlife rehab centre in Nova Scotia  And our mission is not \n",
       "probably what a lot of you think  It's not wildlife rehabilitation per se, it's connecting people to wildlife in a \n",
       "positive way through knowledge and understanding  Oh, I wanna see baby something, baby anything  I love babies  \n",
       "We'll get over to the main part  I want to give everybody a reality check right from the start  Sometimes this job \n",
       "requires a strong stomach\n"
      ]
     },
     "metadata": {},
     "output_type": "display_data"
    },
    {
     "data": {
      "text/html": [
       "<pre style=\"white-space:pre;overflow-x:auto;line-height:normal;font-family:Menlo,'DejaVu Sans Mono',consolas,'Courier New',monospace\"><span style=\"color: #008080; text-decoration-color: #008080; font-weight: bold\">22</span>  NARRATOR: A new batch of recruits is about to see the ugly side of wildlife rehabilitation  HOPE: <span style=\"font-weight: bold\">(</span>Narrating<span style=\"font-weight: bold\">)</span> \n",
       "Winter, you gotta love it  I'm sure if we asked everybody in the room how they found out about Hope for Wildlife, \n",
       "or why they're here, we get <span style=\"color: #008080; text-decoration-color: #008080; font-weight: bold\">20</span> different reasons  I actually met Hope when I was <span style=\"color: #008080; text-decoration-color: #008080; font-weight: bold\">12</span>  I came over here with a friend\n",
       "for pizza\n",
       "</pre>\n"
      ],
      "text/plain": [
       "\u001b[1;36m22\u001b[0m  NARRATOR: A new batch of recruits is about to see the ugly side of wildlife rehabilitation  HOPE: \u001b[1m(\u001b[0mNarrating\u001b[1m)\u001b[0m \n",
       "Winter, you gotta love it  I'm sure if we asked everybody in the room how they found out about Hope for Wildlife, \n",
       "or why they're here, we get \u001b[1;36m20\u001b[0m different reasons  I actually met Hope when I was \u001b[1;36m12\u001b[0m  I came over here with a friend\n",
       "for pizza\n"
      ]
     },
     "metadata": {},
     "output_type": "display_data"
    },
    {
     "name": "stderr",
     "output_type": "stream",
     "text": [
      "2024-05-10 06:29:45,282 - HTTP Request: POST https://api.openai.com/v1/embeddings \"HTTP/1.1 200 OK\"\n",
      "2024-05-10 06:29:45,284 - HTTP Request: POST https://api.openai.com/v1/embeddings \"HTTP/1.1 200 OK\"\n",
      "2024-05-10 06:29:45,311 - HTTP Request: POST https://api.openai.com/v1/embeddings \"HTTP/1.1 200 OK\"\n",
      "2024-05-10 06:29:45,316 - HTTP Request: POST https://api.openai.com/v1/embeddings \"HTTP/1.1 200 OK\"\n",
      "2024-05-10 06:29:45,317 - HTTP Request: POST https://api.openai.com/v1/embeddings \"HTTP/1.1 200 OK\"\n",
      "2024-05-10 06:29:45,325 - HTTP Request: POST https://api.openai.com/v1/embeddings \"HTTP/1.1 200 OK\"\n",
      "2024-05-10 06:29:45,331 - HTTP Request: POST https://api.openai.com/v1/embeddings \"HTTP/1.1 200 OK\"\n",
      "2024-05-10 06:29:45,335 - HTTP Request: POST https://api.openai.com/v1/embeddings \"HTTP/1.1 200 OK\"\n",
      "2024-05-10 06:29:45,370 - HTTP Request: POST https://api.openai.com/v1/embeddings \"HTTP/1.1 200 OK\"\n",
      "2024-05-10 06:29:45,401 - HTTP Request: POST https://api.openai.com/v1/embeddings \"HTTP/1.1 200 OK\"\n",
      "2024-05-10 06:29:45,462 - HTTP Request: POST https://api.openai.com/v1/embeddings \"HTTP/1.1 200 OK\"\n"
     ]
    },
    {
     "data": {
      "text/html": [
       "<pre style=\"white-space:pre;overflow-x:auto;line-height:normal;font-family:Menlo,'DejaVu Sans Mono',consolas,'Courier New',monospace\"><span style=\"color: #008080; text-decoration-color: #008080; font-weight: bold\">18</span>  So, during this orientation day, we need a couple of those carcasses sitting there so they see, <span style=\"color: #008000; text-decoration-color: #008000\">\"Oh, I'm </span>\n",
       "<span style=\"color: #008000; text-decoration-color: #008000\">expected to take a knife and cut this meat up \"</span> So, I need to tell Bobby not to take them all away  Bobby  Hi  \n",
       "BOBBY: Hi  HOPE: <span style=\"font-weight: bold\">(</span>Narrating<span style=\"font-weight: bold\">)</span> Can you leave one of the carcasses there for us to use today  And not to mention, \n",
       "we're doing a volunteer training today  An orientation day\n",
       "</pre>\n"
      ],
      "text/plain": [
       "\u001b[1;36m18\u001b[0m  So, during this orientation day, we need a couple of those carcasses sitting there so they see, \u001b[32m\"Oh, I'm \u001b[0m\n",
       "\u001b[32mexpected to take a knife and cut this meat up \"\u001b[0m So, I need to tell Bobby not to take them all away  Bobby  Hi  \n",
       "BOBBY: Hi  HOPE: \u001b[1m(\u001b[0mNarrating\u001b[1m)\u001b[0m Can you leave one of the carcasses there for us to use today  And not to mention, \n",
       "we're doing a volunteer training today  An orientation day\n"
      ]
     },
     "metadata": {},
     "output_type": "display_data"
    },
    {
     "data": {
      "text/html": [
       "<pre style=\"white-space:pre;overflow-x:auto;line-height:normal;font-family:Menlo,'DejaVu Sans Mono',consolas,'Courier New',monospace\"><span style=\"color: #008080; text-decoration-color: #008080; font-weight: bold\">1</span>  And to know that little bit of blood around his beak there is not his, that would be his dinner  WOMAN <span style=\"color: #008080; text-decoration-color: #008080; font-weight: bold\">1</span>: We're \n",
       "going over to Kentville  And we're taking Ray exactly back to where he was found, and his family might still be \n",
       "there, so it's good practice, I think  NARRATOR: This is the mission of Hope for Wildlife  To fix the problems man \n",
       "creates in nature  Truly amazing every day\n",
       "</pre>\n"
      ],
      "text/plain": [
       "\u001b[1;36m1\u001b[0m  And to know that little bit of blood around his beak there is not his, that would be his dinner  WOMAN \u001b[1;36m1\u001b[0m: We're \n",
       "going over to Kentville  And we're taking Ray exactly back to where he was found, and his family might still be \n",
       "there, so it's good practice, I think  NARRATOR: This is the mission of Hope for Wildlife  To fix the problems man \n",
       "creates in nature  Truly amazing every day\n"
      ]
     },
     "metadata": {},
     "output_type": "display_data"
    },
    {
     "data": {
      "text/html": [
       "<pre style=\"white-space:pre;overflow-x:auto;line-height:normal;font-family:Menlo,'DejaVu Sans Mono',consolas,'Courier New',monospace\"><span style=\"color: #008080; text-decoration-color: #008080; font-weight: bold\">0</span> NARRATOR: After a lengthy rehabilitation, a juvenile bald eagle is about to be released back into the wild  I'm \n",
       "gonna get, maybe Janet, to cover his head  WOMAN <span style=\"color: #008080; text-decoration-color: #008080; font-weight: bold\">1</span>: He was in real hard shape  WOMAN <span style=\"color: #008080; text-decoration-color: #008080; font-weight: bold\">2</span>: Wow, yeah-- WOMAN <span style=\"color: #008080; text-decoration-color: #008080; font-weight: bold\">1</span>: I \n",
       "didn't think he'd make it  So we think it was probably poison\n",
       "</pre>\n"
      ],
      "text/plain": [
       "\u001b[1;36m0\u001b[0m NARRATOR: After a lengthy rehabilitation, a juvenile bald eagle is about to be released back into the wild  I'm \n",
       "gonna get, maybe Janet, to cover his head  WOMAN \u001b[1;36m1\u001b[0m: He was in real hard shape  WOMAN \u001b[1;36m2\u001b[0m: Wow, yeah-- WOMAN \u001b[1;36m1\u001b[0m: I \n",
       "didn't think he'd make it  So we think it was probably poison\n"
      ]
     },
     "metadata": {},
     "output_type": "display_data"
    },
    {
     "data": {
      "text/html": [
       "<pre style=\"white-space:pre;overflow-x:auto;line-height:normal;font-family:Menlo,'DejaVu Sans Mono',consolas,'Courier New',monospace\"><span style=\"color: #008080; text-decoration-color: #008080; font-weight: bold\">16</span>  We sign up <span style=\"color: #008080; text-decoration-color: #008080; font-weight: bold\">20</span> every single time  And usually, you know, three months from now, we look back, we're lucky if we \n",
       "get two people that are still with us  Some people have a really hard time with some of the chores that are \n",
       "involved  Like cutting up deer leg carcasses, bobcat carcasses, and we desperately need them because it saves us \n",
       "all kinds of money by not having to purchase meat\n",
       "</pre>\n"
      ],
      "text/plain": [
       "\u001b[1;36m16\u001b[0m  We sign up \u001b[1;36m20\u001b[0m every single time  And usually, you know, three months from now, we look back, we're lucky if we \n",
       "get two people that are still with us  Some people have a really hard time with some of the chores that are \n",
       "involved  Like cutting up deer leg carcasses, bobcat carcasses, and we desperately need them because it saves us \n",
       "all kinds of money by not having to purchase meat\n"
      ]
     },
     "metadata": {},
     "output_type": "display_data"
    },
    {
     "data": {
      "text/html": [
       "<pre style=\"white-space:pre;overflow-x:auto;line-height:normal;font-family:Menlo,'DejaVu Sans Mono',consolas,'Courier New',monospace\"><span style=\"color: #008080; text-decoration-color: #008080; font-weight: bold\">3</span>  ♪ Hello beautiful ♪ ♪ Hello beautiful ♪ ♪ Hello beautiful ♪ ♪ Hello beautiful ♪ ♪ Hello beautiful life ♪ \n",
       "NARRATOR: It's winter at the Hope for Wildlife Rescue and Rehabilitation Centre on Canada's east coast  So we've \n",
       "got a lot of work to do to make everything look good  NARRATOR: Hope's getting ready for what she knows will be a \n",
       "busy spring  Hi, I'm Hope Swinimer\n",
       "</pre>\n"
      ],
      "text/plain": [
       "\u001b[1;36m3\u001b[0m  ♪ Hello beautiful ♪ ♪ Hello beautiful ♪ ♪ Hello beautiful ♪ ♪ Hello beautiful ♪ ♪ Hello beautiful life ♪ \n",
       "NARRATOR: It's winter at the Hope for Wildlife Rescue and Rehabilitation Centre on Canada's east coast  So we've \n",
       "got a lot of work to do to make everything look good  NARRATOR: Hope's getting ready for what she knows will be a \n",
       "busy spring  Hi, I'm Hope Swinimer\n"
      ]
     },
     "metadata": {},
     "output_type": "display_data"
    },
    {
     "name": "stderr",
     "output_type": "stream",
     "text": [
      "2024-05-10 06:29:45,503 - HTTP Request: POST https://api.openai.com/v1/embeddings \"HTTP/1.1 200 OK\"\n"
     ]
    },
    {
     "data": {
      "text/html": [
       "<pre style=\"white-space:pre;overflow-x:auto;line-height:normal;font-family:Menlo,'DejaVu Sans Mono',consolas,'Courier New',monospace\"><span style=\"color: #008080; text-decoration-color: #008080; font-weight: bold\">28</span>  You may wanna keep a separate set of work clothes for just the rehab  Raccoons can carry distemper  It is a \n",
       "terrible disease and usually causes death in the raccoons  One of the main ones that we really want everybody to \n",
       "learn about, it's called raccoo-- It's a roundworm that racoons carry and can cause death in small children  It can\n",
       "cause blindness in adults\n",
       "</pre>\n"
      ],
      "text/plain": [
       "\u001b[1;36m28\u001b[0m  You may wanna keep a separate set of work clothes for just the rehab  Raccoons can carry distemper  It is a \n",
       "terrible disease and usually causes death in the raccoons  One of the main ones that we really want everybody to \n",
       "learn about, it's called raccoo-- It's a roundworm that racoons carry and can cause death in small children  It can\n",
       "cause blindness in adults\n"
      ]
     },
     "metadata": {},
     "output_type": "display_data"
    },
    {
     "data": {
      "text/html": [
       "<pre style=\"white-space:pre;overflow-x:auto;line-height:normal;font-family:Menlo,'DejaVu Sans Mono',consolas,'Courier New',monospace\"><span style=\"color: #008080; text-decoration-color: #008080; font-weight: bold\">14</span>  Allison is our only full-time, paid staff member  We get some grants from government to create summer student \n",
       "jobs, but volunteers are the lifeblood of Hope for Wildlife  VOLUNTEER: Here we go  HOPE: <span style=\"font-weight: bold\">(</span>Narrating<span style=\"font-weight: bold\">)</span> We've got \n",
       "great ones like Bobby  Okay, so they got some seed down there  I just have to bring them some apples  HOPE: \n",
       "<span style=\"font-weight: bold\">(</span>Narrating<span style=\"font-weight: bold\">)</span> And Shandon who just started\n",
       "</pre>\n"
      ],
      "text/plain": [
       "\u001b[1;36m14\u001b[0m  Allison is our only full-time, paid staff member  We get some grants from government to create summer student \n",
       "jobs, but volunteers are the lifeblood of Hope for Wildlife  VOLUNTEER: Here we go  HOPE: \u001b[1m(\u001b[0mNarrating\u001b[1m)\u001b[0m We've got \n",
       "great ones like Bobby  Okay, so they got some seed down there  I just have to bring them some apples  HOPE: \n",
       "\u001b[1m(\u001b[0mNarrating\u001b[1m)\u001b[0m And Shandon who just started\n"
      ]
     },
     "metadata": {},
     "output_type": "display_data"
    },
    {
     "data": {
      "text/html": [
       "<pre style=\"white-space:pre;overflow-x:auto;line-height:normal;font-family:Menlo,'DejaVu Sans Mono',consolas,'Courier New',monospace\"><span style=\"color: #008080; text-decoration-color: #008080; font-weight: bold\">15</span>  They're hardworkers but we never have enough  We go through more than <span style=\"color: #008080; text-decoration-color: #008080; font-weight: bold\">100</span> volunteers every year  We get so many\n",
       "phone calls each and every week for people wanting to volunteer  What we used to do is we used to handle them on a \n",
       "one-on-one basis  But we found that a lot of work and we found that after about three weeks, people would quit  So \n",
       "we came up with this new idea where about four times a year, we have these big orientation days\n",
       "</pre>\n"
      ],
      "text/plain": [
       "\u001b[1;36m15\u001b[0m  They're hardworkers but we never have enough  We go through more than \u001b[1;36m100\u001b[0m volunteers every year  We get so many\n",
       "phone calls each and every week for people wanting to volunteer  What we used to do is we used to handle them on a \n",
       "one-on-one basis  But we found that a lot of work and we found that after about three weeks, people would quit  So \n",
       "we came up with this new idea where about four times a year, we have these big orientation days\n"
      ]
     },
     "metadata": {},
     "output_type": "display_data"
    },
    {
     "data": {
      "text/html": [
       "<pre style=\"white-space:pre;overflow-x:auto;line-height:normal;font-family:Menlo,'DejaVu Sans Mono',consolas,'Courier New',monospace\"><span style=\"color: #008080; text-decoration-color: #008080; font-weight: bold\">17</span>  When a volunteer comes in and they're faced with a deer leg or a bobcat, you know, they almost-- Some of them \n",
       "will say, <span style=\"color: #008000; text-decoration-color: #008000\">\"Oh, I can't do that \"</span> I have a very hard time  People don't need to like it, but they're gonna have to \n",
       "be able to do it  I hate it <span style=\"color: #008000; text-decoration-color: #008000\">'cause I love bobcats, so, but it'</span>s part of what we have to do and it's better they \n",
       "understand now and are prepared\n",
       "</pre>\n"
      ],
      "text/plain": [
       "\u001b[1;36m17\u001b[0m  When a volunteer comes in and they're faced with a deer leg or a bobcat, you know, they almost-- Some of them \n",
       "will say, \u001b[32m\"Oh, I can't do that \"\u001b[0m I have a very hard time  People don't need to like it, but they're gonna have to \n",
       "be able to do it  I hate it \u001b[32m'cause I love bobcats, so, but it'\u001b[0ms part of what we have to do and it's better they \n",
       "understand now and are prepared\n"
      ]
     },
     "metadata": {},
     "output_type": "display_data"
    },
    {
     "data": {
      "text/html": [
       "<pre style=\"white-space:pre;overflow-x:auto;line-height:normal;font-family:Menlo,'DejaVu Sans Mono',consolas,'Courier New',monospace\"><span style=\"color: #008080; text-decoration-color: #008080; font-weight: bold\">13</span>  So now, she lives with me in a special enclosure with a passageway into my home  She's definitely not a pet but\n",
       "we do have a really special relationship  That would be my water  HOPE: <span style=\"font-weight: bold\">(</span>Narrating<span style=\"font-weight: bold\">)</span> The rehab has grown from a few \n",
       "animals in a trailer to more than <span style=\"color: #008080; text-decoration-color: #008080; font-weight: bold\">1</span>,<span style=\"color: #008080; text-decoration-color: #008080; font-weight: bold\">000</span> animals a year on my farm  It's a massive operation and we rely on \n",
       "volunteers and donations  It's grown so much, I can't do it alone anymore\n",
       "</pre>\n"
      ],
      "text/plain": [
       "\u001b[1;36m13\u001b[0m  So now, she lives with me in a special enclosure with a passageway into my home  She's definitely not a pet but\n",
       "we do have a really special relationship  That would be my water  HOPE: \u001b[1m(\u001b[0mNarrating\u001b[1m)\u001b[0m The rehab has grown from a few \n",
       "animals in a trailer to more than \u001b[1;36m1\u001b[0m,\u001b[1;36m000\u001b[0m animals a year on my farm  It's a massive operation and we rely on \n",
       "volunteers and donations  It's grown so much, I can't do it alone anymore\n"
      ]
     },
     "metadata": {},
     "output_type": "display_data"
    },
    {
     "data": {
      "text/html": [
       "<pre style=\"white-space:pre;overflow-x:auto;line-height:normal;font-family:Menlo,'DejaVu Sans Mono',consolas,'Courier New',monospace\"><span style=\"color: #008080; text-decoration-color: #008080; font-weight: bold\">8</span>  <span style=\"font-weight: bold\">(</span>Laughs<span style=\"font-weight: bold\">)</span> HOPE: <span style=\"font-weight: bold\">(</span>Narrating<span style=\"font-weight: bold\">)</span> Especially in the summer  I do this for the animals  And because nobody else does  \n",
       "Okay, guy  You're coming home with me  Introduce you to some of your own kind  <span style=\"font-weight: bold\">(</span>Bird chirping<span style=\"font-weight: bold\">)</span> In a typical year, \n",
       "we get hundreds of raccoons and songbirds  Dozens of eagles, owls and birds of prey  And about a dozen or more deer\n",
       "Our workload moves with the cycles of nature\n",
       "</pre>\n"
      ],
      "text/plain": [
       "\u001b[1;36m8\u001b[0m  \u001b[1m(\u001b[0mLaughs\u001b[1m)\u001b[0m HOPE: \u001b[1m(\u001b[0mNarrating\u001b[1m)\u001b[0m Especially in the summer  I do this for the animals  And because nobody else does  \n",
       "Okay, guy  You're coming home with me  Introduce you to some of your own kind  \u001b[1m(\u001b[0mBird chirping\u001b[1m)\u001b[0m In a typical year, \n",
       "we get hundreds of raccoons and songbirds  Dozens of eagles, owls and birds of prey  And about a dozen or more deer\n",
       "Our workload moves with the cycles of nature\n"
      ]
     },
     "metadata": {},
     "output_type": "display_data"
    },
    {
     "data": {
      "text/html": [
       "<pre style=\"white-space:pre;overflow-x:auto;line-height:normal;font-family:Menlo,'DejaVu Sans Mono',consolas,'Courier New',monospace\"><span style=\"color: #008080; text-decoration-color: #008080; font-weight: bold\">19</span>  HOPE: <span style=\"font-weight: bold\">(</span>Narrating<span style=\"font-weight: bold\">)</span> And I want the volunteers to see you know, you're expected to have to cut this up  It's not \n",
       "just roadkill that grosses people out  I left the poo here for a reason, <span style=\"color: #008000; text-decoration-color: #008000\">'cause the new volunteers need to learn </span>\n",
       "<span style=\"color: #008000; text-decoration-color: #008000\">that when they come in, if there'</span>s poo on the floor, it's their responsibility to scrub it and clean it and that \n",
       "kind of thing\n",
       "</pre>\n"
      ],
      "text/plain": [
       "\u001b[1;36m19\u001b[0m  HOPE: \u001b[1m(\u001b[0mNarrating\u001b[1m)\u001b[0m And I want the volunteers to see you know, you're expected to have to cut this up  It's not \n",
       "just roadkill that grosses people out  I left the poo here for a reason, \u001b[32m'cause the new volunteers need to learn \u001b[0m\n",
       "\u001b[32mthat when they come in, if there'\u001b[0ms poo on the floor, it's their responsibility to scrub it and clean it and that \n",
       "kind of thing\n"
      ]
     },
     "metadata": {},
     "output_type": "display_data"
    },
    {
     "name": "stderr",
     "output_type": "stream",
     "text": [
      "2024-05-10 06:29:45,556 - HTTP Request: POST https://api.openai.com/v1/embeddings \"HTTP/1.1 200 OK\"\n"
     ]
    },
    {
     "data": {
      "text/html": [
       "<pre style=\"white-space:pre;overflow-x:auto;line-height:normal;font-family:Menlo,'DejaVu Sans Mono',consolas,'Courier New',monospace\"><span style=\"color: #008080; text-decoration-color: #008080; font-weight: bold\">29</span>  The only way you can get this worm is if you eat the poo, okay  You have <span style=\"color: #008080; text-decoration-color: #008080; font-weight: bold\">250</span> raccoons and you're very tired, \n",
       "and one accidentally, you have it here and you're bottle-feeding it, it accidentally puts its foot in your mouth, \n",
       "you've just eaten poo  So this is all the stuff I want you to know, okay  Do you think they'd all fit into the \n",
       "mammal nursery, Allison  ALLISON: Yeah, I think they can\n",
       "</pre>\n"
      ],
      "text/plain": [
       "\u001b[1;36m29\u001b[0m  The only way you can get this worm is if you eat the poo, okay  You have \u001b[1;36m250\u001b[0m raccoons and you're very tired, \n",
       "and one accidentally, you have it here and you're bottle-feeding it, it accidentally puts its foot in your mouth, \n",
       "you've just eaten poo  So this is all the stuff I want you to know, okay  Do you think they'd all fit into the \n",
       "mammal nursery, Allison  ALLISON: Yeah, I think they can\n"
      ]
     },
     "metadata": {},
     "output_type": "display_data"
    },
    {
     "name": "stderr",
     "output_type": "stream",
     "text": [
      "2024-05-10 06:29:45,571 - HTTP Request: POST https://api.openai.com/v1/embeddings \"HTTP/1.1 200 OK\"\n"
     ]
    },
    {
     "data": {
      "text/html": [
       "<pre style=\"white-space:pre;overflow-x:auto;line-height:normal;font-family:Menlo,'DejaVu Sans Mono',consolas,'Courier New',monospace\"><span style=\"color: #008080; text-decoration-color: #008080; font-weight: bold\">30</span>  ALLISON: So this is usually a mammal nursery  Obviously we don't have any mammals in it right now  We usually \n",
       "manage it in the summer  Every one of these cages is filled with litters of raccoons  As many as eight in one \n",
       "litter  On the shelf behind you by the windows, probably six litters of baby squirrels  Couple of litters of \n",
       "snowshoe hares  Sometimes we get mice  Last year we got star-nosed voles\n",
       "</pre>\n"
      ],
      "text/plain": [
       "\u001b[1;36m30\u001b[0m  ALLISON: So this is usually a mammal nursery  Obviously we don't have any mammals in it right now  We usually \n",
       "manage it in the summer  Every one of these cages is filled with litters of raccoons  As many as eight in one \n",
       "litter  On the shelf behind you by the windows, probably six litters of baby squirrels  Couple of litters of \n",
       "snowshoe hares  Sometimes we get mice  Last year we got star-nosed voles\n"
      ]
     },
     "metadata": {},
     "output_type": "display_data"
    },
    {
     "name": "stderr",
     "output_type": "stream",
     "text": [
      "2024-05-10 06:29:45,608 - HTTP Request: POST https://api.openai.com/v1/embeddings \"HTTP/1.1 200 OK\"\n"
     ]
    },
    {
     "data": {
      "text/html": [
       "<pre style=\"white-space:pre;overflow-x:auto;line-height:normal;font-family:Menlo,'DejaVu Sans Mono',consolas,'Courier New',monospace\"><span style=\"color: #008080; text-decoration-color: #008080; font-weight: bold\">32</span>  Now I want to show them something fun  Right  Time to come out and meet everybody  That's what they want  This \n",
       "is one of our education animals  Wanna hold her  She's a little chubby  <span style=\"font-weight: bold\">(</span>Laughs<span style=\"font-weight: bold\">)</span> And she had a really sad story too\n",
       "Her whole litter had been actually stoned and she was the only survivor  Oh my God  So this is Julie  This is Julie\n",
       "</pre>\n"
      ],
      "text/plain": [
       "\u001b[1;36m32\u001b[0m  Now I want to show them something fun  Right  Time to come out and meet everybody  That's what they want  This \n",
       "is one of our education animals  Wanna hold her  She's a little chubby  \u001b[1m(\u001b[0mLaughs\u001b[1m)\u001b[0m And she had a really sad story too\n",
       "Her whole litter had been actually stoned and she was the only survivor  Oh my God  So this is Julie  This is Julie\n"
      ]
     },
     "metadata": {},
     "output_type": "display_data"
    },
    {
     "name": "stderr",
     "output_type": "stream",
     "text": [
      "2024-05-10 06:29:45,612 - HTTP Request: POST https://api.openai.com/v1/embeddings \"HTTP/1.1 200 OK\"\n"
     ]
    },
    {
     "data": {
      "text/html": [
       "<pre style=\"white-space:pre;overflow-x:auto;line-height:normal;font-family:Menlo,'DejaVu Sans Mono',consolas,'Courier New',monospace\"><span style=\"color: #008080; text-decoration-color: #008080; font-weight: bold\">31</span>  All over we see is star-nosed voles  Very strange looking  Got these really weird noses  And like I said, over \n",
       "the course of the summer, as many as <span style=\"color: #008080; text-decoration-color: #008080; font-weight: bold\">250</span> raccoons  HOPE: So this room is just nuts in the summer  Just overflowing \n",
       "The smell can be really bad if you have a weak stomach  <span style=\"font-weight: bold\">(</span>Bell rattling<span style=\"font-weight: bold\">)</span> HOPE: <span style=\"font-weight: bold\">(</span>Narrating<span style=\"font-weight: bold\">)</span> It's not all bad  We \n",
       "talked a lot about the negatives\n",
       "</pre>\n"
      ],
      "text/plain": [
       "\u001b[1;36m31\u001b[0m  All over we see is star-nosed voles  Very strange looking  Got these really weird noses  And like I said, over \n",
       "the course of the summer, as many as \u001b[1;36m250\u001b[0m raccoons  HOPE: So this room is just nuts in the summer  Just overflowing \n",
       "The smell can be really bad if you have a weak stomach  \u001b[1m(\u001b[0mBell rattling\u001b[1m)\u001b[0m HOPE: \u001b[1m(\u001b[0mNarrating\u001b[1m)\u001b[0m It's not all bad  We \n",
       "talked a lot about the negatives\n"
      ]
     },
     "metadata": {},
     "output_type": "display_data"
    },
    {
     "name": "stderr",
     "output_type": "stream",
     "text": [
      "2024-05-10 06:29:45,723 - HTTP Request: POST https://api.openai.com/v1/embeddings \"HTTP/1.1 200 OK\"\n",
      "2024-05-10 06:29:45,742 - HTTP Request: POST https://api.openai.com/v1/embeddings \"HTTP/1.1 200 OK\"\n",
      "2024-05-10 06:29:45,773 - HTTP Request: POST https://api.openai.com/v1/embeddings \"HTTP/1.1 200 OK\"\n",
      "2024-05-10 06:29:45,784 - HTTP Request: POST https://api.openai.com/v1/embeddings \"HTTP/1.1 200 OK\"\n"
     ]
    },
    {
     "data": {
      "text/html": [
       "<pre style=\"white-space:pre;overflow-x:auto;line-height:normal;font-family:Menlo,'DejaVu Sans Mono',consolas,'Courier New',monospace\"><span style=\"color: #008080; text-decoration-color: #008080; font-weight: bold\">35</span>  Our last stop, and I know some of you-- I've gone way over, I'm really sorry, and we'll go up to the kitchen \n",
       "and we have forms there and different general areas that you may or may not be interested in signing up for  HOPE: \n",
       "<span style=\"font-weight: bold\">(</span>Narrating<span style=\"font-weight: bold\">)</span> Looks like everybody's signing up  But we'll have to wait and see who actually shows up for work next \n",
       "month\n",
       "</pre>\n"
      ],
      "text/plain": [
       "\u001b[1;36m35\u001b[0m  Our last stop, and I know some of you-- I've gone way over, I'm really sorry, and we'll go up to the kitchen \n",
       "and we have forms there and different general areas that you may or may not be interested in signing up for  HOPE: \n",
       "\u001b[1m(\u001b[0mNarrating\u001b[1m)\u001b[0m Looks like everybody's signing up  But we'll have to wait and see who actually shows up for work next \n",
       "month\n"
      ]
     },
     "metadata": {},
     "output_type": "display_data"
    },
    {
     "name": "stderr",
     "output_type": "stream",
     "text": [
      "2024-05-10 06:29:45,795 - HTTP Request: POST https://api.openai.com/v1/embeddings \"HTTP/1.1 200 OK\"\n"
     ]
    },
    {
     "data": {
      "text/html": [
       "<pre style=\"white-space:pre;overflow-x:auto;line-height:normal;font-family:Menlo,'DejaVu Sans Mono',consolas,'Courier New',monospace\"><span style=\"color: #008080; text-decoration-color: #008080; font-weight: bold\">36</span>  You know if you feel you can comfortably do twice a month, then we'd much rather that and know you're gonna be \n",
       "there that twice a night  Then it's much easier to get you into an area  And then once you start coming-- Oh, she's\n",
       "a little cranky, so be really careful  Okay  We just basically gotta tour of the place and got a real kind of nitty\n",
       "gritty idea of actually the hard work that goes on here\n",
       "</pre>\n"
      ],
      "text/plain": [
       "\u001b[1;36m36\u001b[0m  You know if you feel you can comfortably do twice a month, then we'd much rather that and know you're gonna be \n",
       "there that twice a night  Then it's much easier to get you into an area  And then once you start coming-- Oh, she's\n",
       "a little cranky, so be really careful  Okay  We just basically gotta tour of the place and got a real kind of nitty\n",
       "gritty idea of actually the hard work that goes on here\n"
      ]
     },
     "metadata": {},
     "output_type": "display_data"
    },
    {
     "name": "stderr",
     "output_type": "stream",
     "text": [
      "2024-05-10 06:29:45,803 - HTTP Request: POST https://api.openai.com/v1/embeddings \"HTTP/1.1 200 OK\"\n",
      "2024-05-10 06:29:45,805 - HTTP Request: POST https://api.openai.com/v1/embeddings \"HTTP/1.1 200 OK\"\n",
      "2024-05-10 06:29:45,809 - HTTP Request: POST https://api.openai.com/v1/embeddings \"HTTP/1.1 200 OK\"\n"
     ]
    },
    {
     "data": {
      "text/html": [
       "<pre style=\"white-space:pre;overflow-x:auto;line-height:normal;font-family:Menlo,'DejaVu Sans Mono',consolas,'Courier New',monospace\"><span style=\"color: #008080; text-decoration-color: #008080; font-weight: bold\">40</span>  This year, we had a couple that had been attacked by dogs, and so that's how they were found, by the dogs' \n",
       "owners  We do see a fair number of broken legs as well  Once the animals are here for a couple of weeks and start \n",
       "settling in, the veterinarian's role does become less because they do seem to do well once they're with some other \n",
       "fawns  HOPE: <span style=\"font-weight: bold\">(</span>Narrating<span style=\"font-weight: bold\">)</span> If we can, we'll release them all today\n",
       "</pre>\n"
      ],
      "text/plain": [
       "\u001b[1;36m40\u001b[0m  This year, we had a couple that had been attacked by dogs, and so that's how they were found, by the dogs' \n",
       "owners  We do see a fair number of broken legs as well  Once the animals are here for a couple of weeks and start \n",
       "settling in, the veterinarian's role does become less because they do seem to do well once they're with some other \n",
       "fawns  HOPE: \u001b[1m(\u001b[0mNarrating\u001b[1m)\u001b[0m If we can, we'll release them all today\n"
      ]
     },
     "metadata": {},
     "output_type": "display_data"
    },
    {
     "name": "stderr",
     "output_type": "stream",
     "text": [
      "2024-05-10 06:29:45,810 - HTTP Request: POST https://api.openai.com/v1/embeddings \"HTTP/1.1 200 OK\"\n",
      "2024-05-10 06:29:45,812 - HTTP Request: POST https://api.openai.com/v1/embeddings \"HTTP/1.1 200 OK\"\n"
     ]
    },
    {
     "data": {
      "text/html": [
       "<pre style=\"white-space:pre;overflow-x:auto;line-height:normal;font-family:Menlo,'DejaVu Sans Mono',consolas,'Courier New',monospace\"><span style=\"color: #008080; text-decoration-color: #008080; font-weight: bold\">38</span>  JESSICA: You can even but you just get in, and you just do it  Exactly  NARRATOR: The next morning, at the \n",
       "crack of dawn, Hope is ready to release the deer  HOPE: <span style=\"font-weight: bold\">(</span>Narrating<span style=\"font-weight: bold\">)</span> Our veterinarian is here to check them over one\n",
       "last time  My name is Barry MacEachern and I'm one of the veterinarians that do the work here at the rehab\n",
       "</pre>\n"
      ],
      "text/plain": [
       "\u001b[1;36m38\u001b[0m  JESSICA: You can even but you just get in, and you just do it  Exactly  NARRATOR: The next morning, at the \n",
       "crack of dawn, Hope is ready to release the deer  HOPE: \u001b[1m(\u001b[0mNarrating\u001b[1m)\u001b[0m Our veterinarian is here to check them over one\n",
       "last time  My name is Barry MacEachern and I'm one of the veterinarians that do the work here at the rehab\n"
      ]
     },
     "metadata": {},
     "output_type": "display_data"
    },
    {
     "data": {
      "text/html": [
       "<pre style=\"white-space:pre;overflow-x:auto;line-height:normal;font-family:Menlo,'DejaVu Sans Mono',consolas,'Courier New',monospace\"><span style=\"color: #008080; text-decoration-color: #008080; font-weight: bold\">34</span>  Over this way is the White Tailed Deer unit  It's a half-acre enclosure  And then down below, that's the big \n",
       "flight cage  It doesn't look like much from here, but it goes back a <span style=\"color: #008080; text-decoration-color: #008080; font-weight: bold\">100</span> feet  That's where those big bald eagles \n",
       "can have the full extension to exercise their wings and fly from end to end\n",
       "</pre>\n"
      ],
      "text/plain": [
       "\u001b[1;36m34\u001b[0m  Over this way is the White Tailed Deer unit  It's a half-acre enclosure  And then down below, that's the big \n",
       "flight cage  It doesn't look like much from here, but it goes back a \u001b[1;36m100\u001b[0m feet  That's where those big bald eagles \n",
       "can have the full extension to exercise their wings and fly from end to end\n"
      ]
     },
     "metadata": {},
     "output_type": "display_data"
    },
    {
     "data": {
      "text/html": [
       "<pre style=\"white-space:pre;overflow-x:auto;line-height:normal;font-family:Menlo,'DejaVu Sans Mono',consolas,'Courier New',monospace\"><span style=\"color: #008080; text-decoration-color: #008080; font-weight: bold\">33</span>  <span style=\"font-weight: bold\">(</span>♪♪<span style=\"font-weight: bold\">)</span> And she has a bit of an odour, I'll warn you  Like we don't mind getting the smell on your coat or your \n",
       "jacket  So, the best part of a volunteer is to be able to build the bonds with the education animals  It gives you \n",
       "an outlet too, <span style=\"color: #008000; text-decoration-color: #008000\">'cause it'</span>s so tempting to want to do that with the wild animal that's gonna go back to wild  We \n",
       "can't do that\n",
       "</pre>\n"
      ],
      "text/plain": [
       "\u001b[1;36m33\u001b[0m  \u001b[1m(\u001b[0m♪♪\u001b[1m)\u001b[0m And she has a bit of an odour, I'll warn you  Like we don't mind getting the smell on your coat or your \n",
       "jacket  So, the best part of a volunteer is to be able to build the bonds with the education animals  It gives you \n",
       "an outlet too, \u001b[32m'cause it'\u001b[0ms so tempting to want to do that with the wild animal that's gonna go back to wild  We \n",
       "can't do that\n"
      ]
     },
     "metadata": {},
     "output_type": "display_data"
    },
    {
     "name": "stderr",
     "output_type": "stream",
     "text": [
      "2024-05-10 06:29:45,825 - HTTP Request: POST https://api.openai.com/v1/embeddings \"HTTP/1.1 200 OK\"\n"
     ]
    },
    {
     "data": {
      "text/html": [
       "<pre style=\"white-space:pre;overflow-x:auto;line-height:normal;font-family:Menlo,'DejaVu Sans Mono',consolas,'Courier New',monospace\"><span style=\"color: #008080; text-decoration-color: #008080; font-weight: bold\">39</span>  As veterinarians, we end up checking up most of these animals so when they come in to Hope for Wildlife  \n",
       "Especially with the deer because they arrive here as orphans, most of them being a day or two old  So they do have \n",
       "to be checked over  Some of them require rehydration with IV fluids  Some of them will have lacerations\n",
       "</pre>\n"
      ],
      "text/plain": [
       "\u001b[1;36m39\u001b[0m  As veterinarians, we end up checking up most of these animals so when they come in to Hope for Wildlife  \n",
       "Especially with the deer because they arrive here as orphans, most of them being a day or two old  So they do have \n",
       "to be checked over  Some of them require rehydration with IV fluids  Some of them will have lacerations\n"
      ]
     },
     "metadata": {},
     "output_type": "display_data"
    },
    {
     "name": "stderr",
     "output_type": "stream",
     "text": [
      "2024-05-10 06:29:45,830 - HTTP Request: POST https://api.openai.com/v1/embeddings \"HTTP/1.1 200 OK\"\n"
     ]
    },
    {
     "data": {
      "text/html": [
       "<pre style=\"white-space:pre;overflow-x:auto;line-height:normal;font-family:Menlo,'DejaVu Sans Mono',consolas,'Courier New',monospace\"><span style=\"color: #008080; text-decoration-color: #008080; font-weight: bold\">44</span>  REID: Counting the little one  Hold it, don't move  Okay, you can take four if want <span style=\"color: #008000; text-decoration-color: #008000\">'em  Close it quick  HOPE: </span>\n",
       "<span style=\"color: #008000; text-decoration-color: #008000\">(Narrating) We'</span>ve got four on board, including Jenny  I'm still worried about how she'll survive in the wild  She's\n",
       "so much smaller than all the rest  NARRATOR: Hope is about to release four White Tailed Deer back into the wild\n",
       "</pre>\n"
      ],
      "text/plain": [
       "\u001b[1;36m44\u001b[0m  REID: Counting the little one  Hold it, don't move  Okay, you can take four if want \u001b[32m'em  Close it quick  HOPE: \u001b[0m\n",
       "\u001b[32m(\u001b[0m\u001b[32mNarrating\u001b[0m\u001b[32m)\u001b[0m\u001b[32m We'\u001b[0mve got four on board, including Jenny  I'm still worried about how she'll survive in the wild  She's\n",
       "so much smaller than all the rest  NARRATOR: Hope is about to release four White Tailed Deer back into the wild\n"
      ]
     },
     "metadata": {},
     "output_type": "display_data"
    },
    {
     "data": {
      "text/html": [
       "<pre style=\"white-space:pre;overflow-x:auto;line-height:normal;font-family:Menlo,'DejaVu Sans Mono',consolas,'Courier New',monospace\"><span style=\"color: #008080; text-decoration-color: #008080; font-weight: bold\">37</span>  I think it's definitely not glamorous work  We have to be willing to get your hands dirty  It'll be a little \n",
       "bit hard getting used to some aspects of feeding live prey  TIFFANY: I have a little trouble making meatballs so \n",
       "I'm gonna have to suck it up big time cutting the meat off an animal's bones  But this is what I wanna do, so if \n",
       "you want it that bad, I guess you gotta do what you gotta do\n",
       "</pre>\n"
      ],
      "text/plain": [
       "\u001b[1;36m37\u001b[0m  I think it's definitely not glamorous work  We have to be willing to get your hands dirty  It'll be a little \n",
       "bit hard getting used to some aspects of feeding live prey  TIFFANY: I have a little trouble making meatballs so \n",
       "I'm gonna have to suck it up big time cutting the meat off an animal's bones  But this is what I wanna do, so if \n",
       "you want it that bad, I guess you gotta do what you gotta do\n"
      ]
     },
     "metadata": {},
     "output_type": "display_data"
    },
    {
     "name": "stderr",
     "output_type": "stream",
     "text": [
      "2024-05-10 06:29:45,842 - HTTP Request: POST https://api.openai.com/v1/embeddings \"HTTP/1.1 200 OK\"\n",
      "2024-05-10 06:29:45,854 - HTTP Request: POST https://api.openai.com/v1/embeddings \"HTTP/1.1 200 OK\"\n",
      "2024-05-10 06:29:45,855 - HTTP Request: POST https://api.openai.com/v1/embeddings \"HTTP/1.1 200 OK\"\n"
     ]
    },
    {
     "data": {
      "text/html": [
       "<pre style=\"white-space:pre;overflow-x:auto;line-height:normal;font-family:Menlo,'DejaVu Sans Mono',consolas,'Courier New',monospace\"><span style=\"color: #008080; text-decoration-color: #008080; font-weight: bold\">42</span>  Today, your freedom  Yeah  How many's on there, Reid  REID: Four  Four  Go on in the trailer  <span style=\"font-weight: bold\">(</span>♪♪<span style=\"font-weight: bold\">)</span> HOPE: \n",
       "<span style=\"font-weight: bold\">(</span>Narrating<span style=\"font-weight: bold\">)</span> Let me know when there's-- REID: About two in there  HOPE: <span style=\"font-weight: bold\">(</span>Narrating<span style=\"font-weight: bold\">)</span> Okay  HOPE: <span style=\"font-weight: bold\">(</span>Narrating<span style=\"font-weight: bold\">)</span> Wanna \n",
       "get some apples and cut <span style=\"color: #008000; text-decoration-color: #008000\">'em up  They'</span>ve never had them but it might entice them to go in\n",
       "</pre>\n"
      ],
      "text/plain": [
       "\u001b[1;36m42\u001b[0m  Today, your freedom  Yeah  How many's on there, Reid  REID: Four  Four  Go on in the trailer  \u001b[1m(\u001b[0m♪♪\u001b[1m)\u001b[0m HOPE: \n",
       "\u001b[1m(\u001b[0mNarrating\u001b[1m)\u001b[0m Let me know when there's-- REID: About two in there  HOPE: \u001b[1m(\u001b[0mNarrating\u001b[1m)\u001b[0m Okay  HOPE: \u001b[1m(\u001b[0mNarrating\u001b[1m)\u001b[0m Wanna \n",
       "get some apples and cut \u001b[32m'em up  They'\u001b[0mve never had them but it might entice them to go in\n"
      ]
     },
     "metadata": {},
     "output_type": "display_data"
    },
    {
     "data": {
      "text/html": [
       "<pre style=\"white-space:pre;overflow-x:auto;line-height:normal;font-family:Menlo,'DejaVu Sans Mono',consolas,'Courier New',monospace\"><span style=\"color: #008080; text-decoration-color: #008080; font-weight: bold\">41</span>  But it's easier said than done  Herding wild deer is impossible  They're supposed to be skittish  It's a \n",
       "survival instinct  We've been putting their food in the trailer for a few months now so they get used to going \n",
       "inside  Let's see how many we can get in at once  Ah, we had like six on  They'll go back  We have two, three, four\n",
       "Yeah, we gotta go up now  Hey, beautiful\n",
       "</pre>\n"
      ],
      "text/plain": [
       "\u001b[1;36m41\u001b[0m  But it's easier said than done  Herding wild deer is impossible  They're supposed to be skittish  It's a \n",
       "survival instinct  We've been putting their food in the trailer for a few months now so they get used to going \n",
       "inside  Let's see how many we can get in at once  Ah, we had like six on  They'll go back  We have two, three, four\n",
       "Yeah, we gotta go up now  Hey, beautiful\n"
      ]
     },
     "metadata": {},
     "output_type": "display_data"
    },
    {
     "name": "stderr",
     "output_type": "stream",
     "text": [
      "2024-05-10 06:29:45,874 - HTTP Request: POST https://api.openai.com/v1/embeddings \"HTTP/1.1 200 OK\"\n"
     ]
    },
    {
     "data": {
      "text/html": [
       "<pre style=\"white-space:pre;overflow-x:auto;line-height:normal;font-family:Menlo,'DejaVu Sans Mono',consolas,'Courier New',monospace\"><span style=\"color: #008080; text-decoration-color: #008080; font-weight: bold\">21</span>  NARRATOR: We'll see who has the stomach for wildlife rehabilitation  <span style=\"font-weight: bold\">(</span>♪♪<span style=\"font-weight: bold\">)</span> NARRATOR: Spring is coming at Hope \n",
       "for Wildlife  Hope rehabilitates more than a <span style=\"color: #008080; text-decoration-color: #008080; font-weight: bold\">1</span>,<span style=\"color: #008080; text-decoration-color: #008080; font-weight: bold\">000</span> wild animals every year  She couldn't do it without an army of \n",
       "volunteers  They all love animals, but working here means dealing with dirt and death  Okay, can you-- You can't \n",
       "push it out  Okay\n",
       "</pre>\n"
      ],
      "text/plain": [
       "\u001b[1;36m21\u001b[0m  NARRATOR: We'll see who has the stomach for wildlife rehabilitation  \u001b[1m(\u001b[0m♪♪\u001b[1m)\u001b[0m NARRATOR: Spring is coming at Hope \n",
       "for Wildlife  Hope rehabilitates more than a \u001b[1;36m1\u001b[0m,\u001b[1;36m000\u001b[0m wild animals every year  She couldn't do it without an army of \n",
       "volunteers  They all love animals, but working here means dealing with dirt and death  Okay, can you-- You can't \n",
       "push it out  Okay\n"
      ]
     },
     "metadata": {},
     "output_type": "display_data"
    },
    {
     "data": {
      "text/html": [
       "<pre style=\"white-space:pre;overflow-x:auto;line-height:normal;font-family:Menlo,'DejaVu Sans Mono',consolas,'Courier New',monospace\"><span style=\"color: #008080; text-decoration-color: #008080; font-weight: bold\">43</span>  <span style=\"font-weight: bold\">(</span>♪♪<span style=\"font-weight: bold\">)</span> HOPE: <span style=\"font-weight: bold\">(</span>Narrating<span style=\"font-weight: bold\">)</span> We'd like to get them all out today, but we'll take as many as we can get  There's a \n",
       "little one named Jenny I'm worried about  I'm not sure she's quite big enough to be on her own  We'll let little \n",
       "Jenny decide  If she gets inside the trailer, she goes today  REID: You got four if want 'em  HOPE: <span style=\"font-weight: bold\">(</span>Narrating<span style=\"font-weight: bold\">)</span> \n",
       "Four\n",
       "</pre>\n"
      ],
      "text/plain": [
       "\u001b[1;36m43\u001b[0m  \u001b[1m(\u001b[0m♪♪\u001b[1m)\u001b[0m HOPE: \u001b[1m(\u001b[0mNarrating\u001b[1m)\u001b[0m We'd like to get them all out today, but we'll take as many as we can get  There's a \n",
       "little one named Jenny I'm worried about  I'm not sure she's quite big enough to be on her own  We'll let little \n",
       "Jenny decide  If she gets inside the trailer, she goes today  REID: You got four if want 'em  HOPE: \u001b[1m(\u001b[0mNarrating\u001b[1m)\u001b[0m \n",
       "Four\n"
      ]
     },
     "metadata": {},
     "output_type": "display_data"
    },
    {
     "name": "stderr",
     "output_type": "stream",
     "text": [
      "2024-05-10 06:29:45,930 - HTTP Request: POST https://api.openai.com/v1/embeddings \"HTTP/1.1 200 OK\"\n"
     ]
    },
    {
     "data": {
      "text/html": [
       "<pre style=\"white-space:pre;overflow-x:auto;line-height:normal;font-family:Menlo,'DejaVu Sans Mono',consolas,'Courier New',monospace\"><span style=\"color: #008080; text-decoration-color: #008080; font-weight: bold\">47</span>  Well, no it's not  <span style=\"color: #008000; text-decoration-color: #008000\">'Cause we got the little one in there  Oh, well  Hopefully they'</span>ll just settle in and lay \n",
       "down and relax for the ride  This is our only our third year and I've heard stories that, you know, deer have \n",
       "broken their leg because they've gotten nervous, or their back or that kind of thing  So we'll keep our fingers \n",
       "crossed that everything goes smoothly\n",
       "</pre>\n"
      ],
      "text/plain": [
       "\u001b[1;36m47\u001b[0m  Well, no it's not  \u001b[32m'Cause we got the little one in there  Oh, well  Hopefully they'\u001b[0mll just settle in and lay \n",
       "down and relax for the ride  This is our only our third year and I've heard stories that, you know, deer have \n",
       "broken their leg because they've gotten nervous, or their back or that kind of thing  So we'll keep our fingers \n",
       "crossed that everything goes smoothly\n"
      ]
     },
     "metadata": {},
     "output_type": "display_data"
    },
    {
     "name": "stderr",
     "output_type": "stream",
     "text": [
      "2024-05-10 06:29:45,950 - HTTP Request: POST https://api.openai.com/v1/embeddings \"HTTP/1.1 200 OK\"\n"
     ]
    },
    {
     "data": {
      "text/html": [
       "<pre style=\"white-space:pre;overflow-x:auto;line-height:normal;font-family:Menlo,'DejaVu Sans Mono',consolas,'Courier New',monospace\"><span style=\"color: #008080; text-decoration-color: #008080; font-weight: bold\">48</span>  <span style=\"font-weight: bold\">(</span>♪♪<span style=\"font-weight: bold\">)</span> HOPE: <span style=\"font-weight: bold\">(</span>Narrating<span style=\"font-weight: bold\">)</span> The moment before we open the door is always a little nerve-racking  Let's see how \n",
       "they've fared on the trip  Oh  They all made it  What a relief  <span style=\"font-weight: bold\">(</span>♪♪<span style=\"font-weight: bold\">)</span> HOPE: Welcome to the big, beautiful world  \n",
       "<span style=\"font-weight: bold\">(</span>♪♪<span style=\"font-weight: bold\">)</span> <span style=\"font-weight: bold\">(</span>♪♪<span style=\"font-weight: bold\">)</span> HOPE: <span style=\"font-weight: bold\">(</span>Narrating<span style=\"font-weight: bold\">)</span> We're in Liscomb Game Sanctuary\n",
       "</pre>\n"
      ],
      "text/plain": [
       "\u001b[1;36m48\u001b[0m  \u001b[1m(\u001b[0m♪♪\u001b[1m)\u001b[0m HOPE: \u001b[1m(\u001b[0mNarrating\u001b[1m)\u001b[0m The moment before we open the door is always a little nerve-racking  Let's see how \n",
       "they've fared on the trip  Oh  They all made it  What a relief  \u001b[1m(\u001b[0m♪♪\u001b[1m)\u001b[0m HOPE: Welcome to the big, beautiful world  \n",
       "\u001b[1m(\u001b[0m♪♪\u001b[1m)\u001b[0m \u001b[1m(\u001b[0m♪♪\u001b[1m)\u001b[0m HOPE: \u001b[1m(\u001b[0mNarrating\u001b[1m)\u001b[0m We're in Liscomb Game Sanctuary\n"
      ]
     },
     "metadata": {},
     "output_type": "display_data"
    },
    {
     "data": {
      "text/html": [
       "<pre style=\"white-space:pre;overflow-x:auto;line-height:normal;font-family:Menlo,'DejaVu Sans Mono',consolas,'Courier New',monospace\"><span style=\"color: #008080; text-decoration-color: #008080; font-weight: bold\">26</span>  We're just gonna talk about little bit about the negatives  There's nothing like fixing and helping and \n",
       "releasing an animal that has been down and out and getting it back to a point where you can let him go  It's all \n",
       "good  One of the things, surprisingly, that people have a really hard time with is we feed a lot of meat eaters  \n",
       "All of our birds of prey are meat eaters  It's very expensive for us to go out and buy meat all the time\n",
       "</pre>\n"
      ],
      "text/plain": [
       "\u001b[1;36m26\u001b[0m  We're just gonna talk about little bit about the negatives  There's nothing like fixing and helping and \n",
       "releasing an animal that has been down and out and getting it back to a point where you can let him go  It's all \n",
       "good  One of the things, surprisingly, that people have a really hard time with is we feed a lot of meat eaters  \n",
       "All of our birds of prey are meat eaters  It's very expensive for us to go out and buy meat all the time\n"
      ]
     },
     "metadata": {},
     "output_type": "display_data"
    },
    {
     "data": {
      "text/html": [
       "<pre style=\"white-space:pre;overflow-x:auto;line-height:normal;font-family:Menlo,'DejaVu Sans Mono',consolas,'Courier New',monospace\"><span style=\"color: #008080; text-decoration-color: #008080; font-weight: bold\">24</span>  And up to this point, I was doing wildlife rehab, and I get a call from Department of Natural Resources one day\n",
       "saying, <span style=\"color: #008000; text-decoration-color: #008000\">\"Hope, what you're doing is illegal  You're not allowed to be helping and healing and releasing wildlife </span>\n",
       "<span style=\"color: #008000; text-decoration-color: #008000\">back without, you know, it's just not done \"</span> So we started the paperwork, and started the procedure to become legal\n",
       "And it took about a year and a half\n",
       "</pre>\n"
      ],
      "text/plain": [
       "\u001b[1;36m24\u001b[0m  And up to this point, I was doing wildlife rehab, and I get a call from Department of Natural Resources one day\n",
       "saying, \u001b[32m\"Hope, what you're doing is illegal  You're not allowed to be helping and healing and releasing wildlife \u001b[0m\n",
       "\u001b[32mback without, you know, it's just not done \"\u001b[0m So we started the paperwork, and started the procedure to become legal\n",
       "And it took about a year and a half\n"
      ]
     },
     "metadata": {},
     "output_type": "display_data"
    },
    {
     "data": {
      "text/html": [
       "<pre style=\"white-space:pre;overflow-x:auto;line-height:normal;font-family:Menlo,'DejaVu Sans Mono',consolas,'Courier New',monospace\"><span style=\"color: #008080; text-decoration-color: #008080; font-weight: bold\">27</span>  This is a hit-by-car bobcat, and you have to understand, I love bobcats probably more that anybody in this \n",
       "room, but you have to cut the meat off and prepare the dishes for the different animals  Some of the other things \n",
       "you need to be aware of are zoonotic diseases, they're called  And those are all the diseases that can be spread \n",
       "from wildlife to people  So, if you have animals at home, make sure they're vaccinated\n",
       "</pre>\n"
      ],
      "text/plain": [
       "\u001b[1;36m27\u001b[0m  This is a hit-by-car bobcat, and you have to understand, I love bobcats probably more that anybody in this \n",
       "room, but you have to cut the meat off and prepare the dishes for the different animals  Some of the other things \n",
       "you need to be aware of are zoonotic diseases, they're called  And those are all the diseases that can be spread \n",
       "from wildlife to people  So, if you have animals at home, make sure they're vaccinated\n"
      ]
     },
     "metadata": {},
     "output_type": "display_data"
    },
    {
     "name": "stderr",
     "output_type": "stream",
     "text": [
      "2024-05-10 06:29:46,052 - HTTP Request: POST https://api.openai.com/v1/embeddings \"HTTP/1.1 200 OK\"\n"
     ]
    },
    {
     "data": {
      "text/html": [
       "<pre style=\"white-space:pre;overflow-x:auto;line-height:normal;font-family:Menlo,'DejaVu Sans Mono',consolas,'Courier New',monospace\"><span style=\"color: #008080; text-decoration-color: #008080; font-weight: bold\">46</span>  She's worried a doe named Jenny might be too small for the wild  <span style=\"font-weight: bold\">(</span>Indiscernible conversation<span style=\"font-weight: bold\">)</span> HOPE: <span style=\"font-weight: bold\">(</span>Narrating<span style=\"font-weight: bold\">)</span>\n",
       "No, she'll be with the herd, so  What a rumbling  REID: She'll probably do best out of all of them  She'll do the \n",
       "best of them all  It would have been nice to get five, but four is good  REID: Four is good  Yeah, that's half  \n",
       "Almost\n",
       "</pre>\n"
      ],
      "text/plain": [
       "\u001b[1;36m46\u001b[0m  She's worried a doe named Jenny might be too small for the wild  \u001b[1m(\u001b[0mIndiscernible conversation\u001b[1m)\u001b[0m HOPE: \u001b[1m(\u001b[0mNarrating\u001b[1m)\u001b[0m\n",
       "No, she'll be with the herd, so  What a rumbling  REID: She'll probably do best out of all of them  She'll do the \n",
       "best of them all  It would have been nice to get five, but four is good  REID: Four is good  Yeah, that's half  \n",
       "Almost\n"
      ]
     },
     "metadata": {},
     "output_type": "display_data"
    },
    {
     "name": "stderr",
     "output_type": "stream",
     "text": [
      "2024-05-10 06:29:46,108 - HTTP Request: POST https://api.openai.com/v1/embeddings \"HTTP/1.1 200 OK\"\n"
     ]
    },
    {
     "data": {
      "text/html": [
       "<pre style=\"white-space:pre;overflow-x:auto;line-height:normal;font-family:Menlo,'DejaVu Sans Mono',consolas,'Courier New',monospace\"><span style=\"color: #008080; text-decoration-color: #008080; font-weight: bold\">53</span>  If coyote's wanted her, they'd probably be able to get her pretty easy <span style=\"color: #008000; text-decoration-color: #008000\">'cause she'</span>s pretty small  So, I'm glad \n",
       "she's back  And we'll get her out, not maybe the next run, but the one after that, so  REID: There's three of them \n",
       "in there  Let's go again  HOPE: Yeah, we should  HOPE: <span style=\"font-weight: bold\">(</span>Narrating<span style=\"font-weight: bold\">)</span> I think we'll give Jenny another month\n",
       "</pre>\n"
      ],
      "text/plain": [
       "\u001b[1;36m53\u001b[0m  If coyote's wanted her, they'd probably be able to get her pretty easy \u001b[32m'cause she'\u001b[0ms pretty small  So, I'm glad \n",
       "she's back  And we'll get her out, not maybe the next run, but the one after that, so  REID: There's three of them \n",
       "in there  Let's go again  HOPE: Yeah, we should  HOPE: \u001b[1m(\u001b[0mNarrating\u001b[1m)\u001b[0m I think we'll give Jenny another month\n"
      ]
     },
     "metadata": {},
     "output_type": "display_data"
    },
    {
     "name": "stderr",
     "output_type": "stream",
     "text": [
      "2024-05-10 06:29:46,119 - HTTP Request: POST https://api.openai.com/v1/embeddings \"HTTP/1.1 200 OK\"\n",
      "2024-05-10 06:29:46,124 - HTTP Request: POST https://api.openai.com/v1/embeddings \"HTTP/1.1 200 OK\"\n"
     ]
    },
    {
     "data": {
      "text/html": [
       "<pre style=\"white-space:pre;overflow-x:auto;line-height:normal;font-family:Menlo,'DejaVu Sans Mono',consolas,'Courier New',monospace\"><span style=\"color: #008080; text-decoration-color: #008080; font-weight: bold\">49</span>  And there's a lot of difference between wilderness areas and sanctuaries and that kind of thing  But there's \n",
       "not a lot of places in Nova Scotia where there isn't hunting and that kind of thing  So this gives them a little \n",
       "bit of an edge because they don't have the advantage that wild deer have  So, hopefully, they'll get used to things\n",
       "and get integrated into a herd 'cause this is a good time of year to get them out and get them into another herd\n",
       "</pre>\n"
      ],
      "text/plain": [
       "\u001b[1;36m49\u001b[0m  And there's a lot of difference between wilderness areas and sanctuaries and that kind of thing  But there's \n",
       "not a lot of places in Nova Scotia where there isn't hunting and that kind of thing  So this gives them a little \n",
       "bit of an edge because they don't have the advantage that wild deer have  So, hopefully, they'll get used to things\n",
       "and get integrated into a herd 'cause this is a good time of year to get them out and get them into another herd\n"
      ]
     },
     "metadata": {},
     "output_type": "display_data"
    },
    {
     "name": "stderr",
     "output_type": "stream",
     "text": [
      "2024-05-10 06:29:46,128 - HTTP Request: POST https://api.openai.com/v1/embeddings \"HTTP/1.1 200 OK\"\n"
     ]
    },
    {
     "data": {
      "text/html": [
       "<pre style=\"white-space:pre;overflow-x:auto;line-height:normal;font-family:Menlo,'DejaVu Sans Mono',consolas,'Courier New',monospace\"><span style=\"color: #008080; text-decoration-color: #008080; font-weight: bold\">55</span>  NARRATOR: Great Horned Owls are the most widespread owls in North America  This is the furthest north you'll \n",
       "ever find one  Great Horned Owls are the largest owls seen at Hope for Wildlife  HOPE: <span style=\"font-weight: bold\">(</span>Narrating<span style=\"font-weight: bold\">)</span> By the time \n",
       "Jenny and the rest of the deer go, this Great Horned Owl will probably be ready for release too\n",
       "</pre>\n"
      ],
      "text/plain": [
       "\u001b[1;36m55\u001b[0m  NARRATOR: Great Horned Owls are the most widespread owls in North America  This is the furthest north you'll \n",
       "ever find one  Great Horned Owls are the largest owls seen at Hope for Wildlife  HOPE: \u001b[1m(\u001b[0mNarrating\u001b[1m)\u001b[0m By the time \n",
       "Jenny and the rest of the deer go, this Great Horned Owl will probably be ready for release too\n"
      ]
     },
     "metadata": {},
     "output_type": "display_data"
    },
    {
     "data": {
      "text/html": [
       "<pre style=\"white-space:pre;overflow-x:auto;line-height:normal;font-family:Menlo,'DejaVu Sans Mono',consolas,'Courier New',monospace\"><span style=\"color: #008080; text-decoration-color: #008080; font-weight: bold\">52</span>  Yeah, yeah  She's wild enough, but she's small  Yeah, this will just give her a better opportunity  Oh, look at\n",
       "the tail  They'll probably stick together, I hope  Oh  <span style=\"font-weight: bold\">(</span>Laughs<span style=\"font-weight: bold\">)</span> The real world  Everything went beautifully  I \n",
       "mean, they loaded on well  They-- The release went fine  They travelled well  I'm glad we brought the little one \n",
       "back  We really didn't want her on there anyway\n",
       "</pre>\n"
      ],
      "text/plain": [
       "\u001b[1;36m52\u001b[0m  Yeah, yeah  She's wild enough, but she's small  Yeah, this will just give her a better opportunity  Oh, look at\n",
       "the tail  They'll probably stick together, I hope  Oh  \u001b[1m(\u001b[0mLaughs\u001b[1m)\u001b[0m The real world  Everything went beautifully  I \n",
       "mean, they loaded on well  They-- The release went fine  They travelled well  I'm glad we brought the little one \n",
       "back  We really didn't want her on there anyway\n"
      ]
     },
     "metadata": {},
     "output_type": "display_data"
    },
    {
     "name": "stderr",
     "output_type": "stream",
     "text": [
      "2024-05-10 06:29:46,139 - HTTP Request: POST https://api.openai.com/v1/embeddings \"HTTP/1.1 200 OK\"\n"
     ]
    },
    {
     "data": {
      "text/html": [
       "<pre style=\"white-space:pre;overflow-x:auto;line-height:normal;font-family:Menlo,'DejaVu Sans Mono',consolas,'Courier New',monospace\"><span style=\"color: #008080; text-decoration-color: #008080; font-weight: bold\">51</span>  That's right, if we could  Yeah  Okay, I'm gonna go close her in  If she hadn't went with all the rest right \n",
       "away  She's pretty tiny  I didn't wanna release her today anyway, so, a little worried  We'll keep her and take her\n",
       "back to the herd back there  HOPE: <span style=\"font-weight: bold\">(</span>Narrating<span style=\"font-weight: bold\">)</span> And as she matures, then we'll get her out  Yeah, I'm kinda glad we \n",
       "didn't let her go\n",
       "</pre>\n"
      ],
      "text/plain": [
       "\u001b[1;36m51\u001b[0m  That's right, if we could  Yeah  Okay, I'm gonna go close her in  If she hadn't went with all the rest right \n",
       "away  She's pretty tiny  I didn't wanna release her today anyway, so, a little worried  We'll keep her and take her\n",
       "back to the herd back there  HOPE: \u001b[1m(\u001b[0mNarrating\u001b[1m)\u001b[0m And as she matures, then we'll get her out  Yeah, I'm kinda glad we \n",
       "didn't let her go\n"
      ]
     },
     "metadata": {},
     "output_type": "display_data"
    },
    {
     "name": "stderr",
     "output_type": "stream",
     "text": [
      "2024-05-10 06:29:46,143 - HTTP Request: POST https://api.openai.com/v1/embeddings \"HTTP/1.1 200 OK\"\n"
     ]
    },
    {
     "data": {
      "text/html": [
       "<pre style=\"white-space:pre;overflow-x:auto;line-height:normal;font-family:Menlo,'DejaVu Sans Mono',consolas,'Courier New',monospace\"><span style=\"color: #008080; text-decoration-color: #008080; font-weight: bold\">56</span>  NARRATOR: One month later, three volunteers from the orientation are supposed to come in for their first shift \n",
       "Let's see who actually shows up  ALLISON: Tiffany's my only one in today  HOPE: Oh no  ALLISON: My other one \n",
       "cancelled  So you had two-- ALLISON: I had three  HOPE: <span style=\"font-weight: bold\">(</span>Narrating<span style=\"font-weight: bold\">)</span> Thanks, Tiffany  ALLISON: One was sick and the \n",
       "other one  Who's the other one  I forget\n",
       "</pre>\n"
      ],
      "text/plain": [
       "\u001b[1;36m56\u001b[0m  NARRATOR: One month later, three volunteers from the orientation are supposed to come in for their first shift \n",
       "Let's see who actually shows up  ALLISON: Tiffany's my only one in today  HOPE: Oh no  ALLISON: My other one \n",
       "cancelled  So you had two-- ALLISON: I had three  HOPE: \u001b[1m(\u001b[0mNarrating\u001b[1m)\u001b[0m Thanks, Tiffany  ALLISON: One was sick and the \n",
       "other one  Who's the other one  I forget\n"
      ]
     },
     "metadata": {},
     "output_type": "display_data"
    },
    {
     "name": "stderr",
     "output_type": "stream",
     "text": [
      "2024-05-10 06:29:46,151 - HTTP Request: POST https://api.openai.com/v1/embeddings \"HTTP/1.1 200 OK\"\n"
     ]
    },
    {
     "data": {
      "text/html": [
       "<pre style=\"white-space:pre;overflow-x:auto;line-height:normal;font-family:Menlo,'DejaVu Sans Mono',consolas,'Courier New',monospace\"><span style=\"color: #008080; text-decoration-color: #008080; font-weight: bold\">50</span>  If we waited till later, they may not be accepted in another herd  So now is a good time to do that  HOPE: \n",
       "<span style=\"font-weight: bold\">(</span>Narrating<span style=\"font-weight: bold\">)</span> Look, Jenny isn't leaving  Let's, let's bring her back  TOGETHER: A little  HOPE: <span style=\"font-weight: bold\">(</span>Narrating<span style=\"font-weight: bold\">)</span> She's too\n",
       "tiny  She'd probably be fine if she'd get there, but-- I know  It doesn't hurt to-- Doesn't hurt to give her a bit \n",
       "more time\n",
       "</pre>\n"
      ],
      "text/plain": [
       "\u001b[1;36m50\u001b[0m  If we waited till later, they may not be accepted in another herd  So now is a good time to do that  HOPE: \n",
       "\u001b[1m(\u001b[0mNarrating\u001b[1m)\u001b[0m Look, Jenny isn't leaving  Let's, let's bring her back  TOGETHER: A little  HOPE: \u001b[1m(\u001b[0mNarrating\u001b[1m)\u001b[0m She's too\n",
       "tiny  She'd probably be fine if she'd get there, but-- I know  It doesn't hurt to-- Doesn't hurt to give her a bit \n",
       "more time\n"
      ]
     },
     "metadata": {},
     "output_type": "display_data"
    },
    {
     "name": "stderr",
     "output_type": "stream",
     "text": [
      "2024-05-10 06:29:46,156 - HTTP Request: POST https://api.openai.com/v1/embeddings \"HTTP/1.1 200 OK\"\n",
      "2024-05-10 06:29:46,156 - HTTP Request: POST https://api.openai.com/v1/embeddings \"HTTP/1.1 200 OK\"\n",
      "2024-05-10 06:29:46,161 - HTTP Request: POST https://api.openai.com/v1/embeddings \"HTTP/1.1 200 OK\"\n"
     ]
    },
    {
     "data": {
      "text/html": [
       "<pre style=\"white-space:pre;overflow-x:auto;line-height:normal;font-family:Menlo,'DejaVu Sans Mono',consolas,'Courier New',monospace\"><span style=\"color: #008080; text-decoration-color: #008080; font-weight: bold\">59</span>  ALLISON: I mean, it's just a lovely smorgasbord of food  NARRATOR: Barred Owls are the most common owl in \n",
       "eastern North America  They thrive in suburban areas  As a result, Barred Owls often fly into windows or get hit by\n",
       "cars  ALLISON: So we use these, so we don't get our fingers  The idea with them is you really gotta get the food \n",
       "right down in their throat\n",
       "</pre>\n"
      ],
      "text/plain": [
       "\u001b[1;36m59\u001b[0m  ALLISON: I mean, it's just a lovely smorgasbord of food  NARRATOR: Barred Owls are the most common owl in \n",
       "eastern North America  They thrive in suburban areas  As a result, Barred Owls often fly into windows or get hit by\n",
       "cars  ALLISON: So we use these, so we don't get our fingers  The idea with them is you really gotta get the food \n",
       "right down in their throat\n"
      ]
     },
     "metadata": {},
     "output_type": "display_data"
    },
    {
     "data": {
      "text/html": [
       "<pre style=\"white-space:pre;overflow-x:auto;line-height:normal;font-family:Menlo,'DejaVu Sans Mono',consolas,'Courier New',monospace\"><span style=\"color: #008080; text-decoration-color: #008080; font-weight: bold\">58</span>  It's just a lot easier to give him little pieces  You could give him big pieces, but, I'm trying to encourage \n",
       "him to eat on his own too and he has eaten a couple of little pieces by himself, so I feed him a little bit and \n",
       "then I leave a bit in his cage  He also needs mice  Wow  You cut him right up there  ALLISON: It's not easy to get \n",
       "used to  <span style=\"font-weight: bold\">(</span>Both laugh<span style=\"font-weight: bold\">)</span> Oh, God\n",
       "</pre>\n"
      ],
      "text/plain": [
       "\u001b[1;36m58\u001b[0m  It's just a lot easier to give him little pieces  You could give him big pieces, but, I'm trying to encourage \n",
       "him to eat on his own too and he has eaten a couple of little pieces by himself, so I feed him a little bit and \n",
       "then I leave a bit in his cage  He also needs mice  Wow  You cut him right up there  ALLISON: It's not easy to get \n",
       "used to  \u001b[1m(\u001b[0mBoth laugh\u001b[1m)\u001b[0m Oh, God\n"
      ]
     },
     "metadata": {},
     "output_type": "display_data"
    },
    {
     "name": "stderr",
     "output_type": "stream",
     "text": [
      "2024-05-10 06:29:46,171 - HTTP Request: POST https://api.openai.com/v1/embeddings \"HTTP/1.1 200 OK\"\n"
     ]
    },
    {
     "data": {
      "text/html": [
       "<pre style=\"white-space:pre;overflow-x:auto;line-height:normal;font-family:Menlo,'DejaVu Sans Mono',consolas,'Courier New',monospace\"><span style=\"color: #008080; text-decoration-color: #008080; font-weight: bold\">54</span>  And then we'll see if we can get her out with the rest of the deer  NARRATOR: Hope also has a Great Horned Owl \n",
       "that's nearing release  HOPE: <span style=\"font-weight: bold\">(</span>Narrating<span style=\"font-weight: bold\">)</span> She was really thin and weak when she came in and needed a lot of care  \n",
       "About three weeks in heavy duty recovery with IV fluids and monitoring and keeping a close eye in one of the \n",
       "nurseries  And then about six weeks out in the flight cage\n",
       "</pre>\n"
      ],
      "text/plain": [
       "\u001b[1;36m54\u001b[0m  And then we'll see if we can get her out with the rest of the deer  NARRATOR: Hope also has a Great Horned Owl \n",
       "that's nearing release  HOPE: \u001b[1m(\u001b[0mNarrating\u001b[1m)\u001b[0m She was really thin and weak when she came in and needed a lot of care  \n",
       "About three weeks in heavy duty recovery with IV fluids and monitoring and keeping a close eye in one of the \n",
       "nurseries  And then about six weeks out in the flight cage\n"
      ]
     },
     "metadata": {},
     "output_type": "display_data"
    },
    {
     "data": {
      "text/html": [
       "<pre style=\"white-space:pre;overflow-x:auto;line-height:normal;font-family:Menlo,'DejaVu Sans Mono',consolas,'Courier New',monospace\"><span style=\"color: #008080; text-decoration-color: #008080; font-weight: bold\">57</span>  Oh, one got a job  HOPE: One got a job  That's the other one, yes  Well, that's good  You'll get one-on-one \n",
       "training  ALLISON: You'll get the nitty gritty today  I've been looking forward to this all week  HOPE: <span style=\"font-weight: bold\">(</span>Narrating<span style=\"font-weight: bold\">)</span>\n",
       "First, Tiffany and Allison are going to feed a juvenile Barred Owl  ALLISON: This is for the little owl  He doesn't\n",
       "eat on his own\n",
       "</pre>\n"
      ],
      "text/plain": [
       "\u001b[1;36m57\u001b[0m  Oh, one got a job  HOPE: One got a job  That's the other one, yes  Well, that's good  You'll get one-on-one \n",
       "training  ALLISON: You'll get the nitty gritty today  I've been looking forward to this all week  HOPE: \u001b[1m(\u001b[0mNarrating\u001b[1m)\u001b[0m\n",
       "First, Tiffany and Allison are going to feed a juvenile Barred Owl  ALLISON: This is for the little owl  He doesn't\n",
       "eat on his own\n"
      ]
     },
     "metadata": {},
     "output_type": "display_data"
    },
    {
     "name": "stderr",
     "output_type": "stream",
     "text": [
      "2024-05-10 06:29:46,227 - HTTP Request: POST https://api.openai.com/v1/embeddings \"HTTP/1.1 200 OK\"\n"
     ]
    },
    {
     "data": {
      "text/html": [
       "<pre style=\"white-space:pre;overflow-x:auto;line-height:normal;font-family:Menlo,'DejaVu Sans Mono',consolas,'Courier New',monospace\"><span style=\"color: #008080; text-decoration-color: #008080; font-weight: bold\">60</span>  So he needs like the fur and the bones And all this gunk  So he'll cast up a pellet  There's a big old \n",
       "intestine right there  ALLISON: Oh, yeah  Along with the leg  How did we end up with that  Oh, that's some good \n",
       "mouse bits right there  TIFFANY: Your lucky day, buddy  ALLISON: Oh, yeah  No  There you go  Oh, got it  Good job\n",
       "</pre>\n"
      ],
      "text/plain": [
       "\u001b[1;36m60\u001b[0m  So he needs like the fur and the bones And all this gunk  So he'll cast up a pellet  There's a big old \n",
       "intestine right there  ALLISON: Oh, yeah  Along with the leg  How did we end up with that  Oh, that's some good \n",
       "mouse bits right there  TIFFANY: Your lucky day, buddy  ALLISON: Oh, yeah  No  There you go  Oh, got it  Good job\n"
      ]
     },
     "metadata": {},
     "output_type": "display_data"
    },
    {
     "name": "stderr",
     "output_type": "stream",
     "text": [
      "2024-05-10 06:29:46,235 - HTTP Request: POST https://api.openai.com/v1/embeddings \"HTTP/1.1 200 OK\"\n",
      "2024-05-10 06:29:46,240 - HTTP Request: POST https://api.openai.com/v1/embeddings \"HTTP/1.1 200 OK\"\n"
     ]
    },
    {
     "data": {
      "text/html": [
       "<pre style=\"white-space:pre;overflow-x:auto;line-height:normal;font-family:Menlo,'DejaVu Sans Mono',consolas,'Courier New',monospace\"><span style=\"color: #008080; text-decoration-color: #008080; font-weight: bold\">62</span>  And then when he went to grab it, he missed it  So I thought, okay, he just can't see his food  And they also \n",
       "don't have a very good sense of smell  So he can't see it, he can't smell it  Maybe that's why he's not eating it  \n",
       "If we don't feed him, he doesn't eat\n",
       "</pre>\n"
      ],
      "text/plain": [
       "\u001b[1;36m62\u001b[0m  And then when he went to grab it, he missed it  So I thought, okay, he just can't see his food  And they also \n",
       "don't have a very good sense of smell  So he can't see it, he can't smell it  Maybe that's why he's not eating it  \n",
       "If we don't feed him, he doesn't eat\n"
      ]
     },
     "metadata": {},
     "output_type": "display_data"
    },
    {
     "data": {
      "text/html": [
       "<pre style=\"white-space:pre;overflow-x:auto;line-height:normal;font-family:Menlo,'DejaVu Sans Mono',consolas,'Courier New',monospace\"><span style=\"color: #008080; text-decoration-color: #008080; font-weight: bold\">61</span>  He's not eating on his own and the reason why I cut it up so small is because he has tried to eat a few little \n",
       "pieces but when they're big pieces he just doesn't even  It doesn't even happen  I originally thought it was \n",
       "because he couldn't really see his food because when he came in, they said he was blind in one eye  And I was \n",
       "feeding him one day and he dropped a piece, and he stared at it for a good <span style=\"color: #008080; text-decoration-color: #008080; font-weight: bold\">30</span> seconds\n",
       "</pre>\n"
      ],
      "text/plain": [
       "\u001b[1;36m61\u001b[0m  He's not eating on his own and the reason why I cut it up so small is because he has tried to eat a few little \n",
       "pieces but when they're big pieces he just doesn't even  It doesn't even happen  I originally thought it was \n",
       "because he couldn't really see his food because when he came in, they said he was blind in one eye  And I was \n",
       "feeding him one day and he dropped a piece, and he stared at it for a good \u001b[1;36m30\u001b[0m seconds\n"
      ]
     },
     "metadata": {},
     "output_type": "display_data"
    },
    {
     "name": "stderr",
     "output_type": "stream",
     "text": [
      "2024-05-10 06:29:46,262 - HTTP Request: POST https://api.openai.com/v1/embeddings \"HTTP/1.1 200 OK\"\n"
     ]
    },
    {
     "data": {
      "text/html": [
       "<pre style=\"white-space:pre;overflow-x:auto;line-height:normal;font-family:Menlo,'DejaVu Sans Mono',consolas,'Courier New',monospace\"><span style=\"color: #008080; text-decoration-color: #008080; font-weight: bold\">64</span>  So we're gonna put these on because we're going into poo infested places now  And I'm gonna give you handling \n",
       "birds of prey <span style=\"color: #008080; text-decoration-color: #008080; font-weight: bold\">101</span>  TIFFANY: Alright  ALLISON: So I'm gonna move this guy first  The thing you need to watch out for\n",
       "are the talons  I didn't quite get the towel all over him but he's going in the big cage  You can see he's a little\n",
       "stressed out  He doesn't like the handling too much\n",
       "</pre>\n"
      ],
      "text/plain": [
       "\u001b[1;36m64\u001b[0m  So we're gonna put these on because we're going into poo infested places now  And I'm gonna give you handling \n",
       "birds of prey \u001b[1;36m101\u001b[0m  TIFFANY: Alright  ALLISON: So I'm gonna move this guy first  The thing you need to watch out for\n",
       "are the talons  I didn't quite get the towel all over him but he's going in the big cage  You can see he's a little\n",
       "stressed out  He doesn't like the handling too much\n"
      ]
     },
     "metadata": {},
     "output_type": "display_data"
    },
    {
     "name": "stderr",
     "output_type": "stream",
     "text": [
      "2024-05-10 06:29:46,300 - HTTP Request: POST https://api.openai.com/v1/embeddings \"HTTP/1.1 200 OK\"\n"
     ]
    },
    {
     "data": {
      "text/html": [
       "<pre style=\"white-space:pre;overflow-x:auto;line-height:normal;font-family:Menlo,'DejaVu Sans Mono',consolas,'Courier New',monospace\"><span style=\"color: #008080; text-decoration-color: #008080; font-weight: bold\">63</span>  So I'm spilling him a couple pieces and I can check that later and see if he's eaten them or even moved them  \n",
       "We cleaned everything out, like all the towels, all the newspaper  Changed their food, changed their water, and we \n",
       "scrubbed the floor because birds of prey have this lovely talent of like shooting their poo out they're cage  <span style=\"font-weight: bold\">(</span>Both\n",
       "laugh<span style=\"font-weight: bold\">)</span> I don't know how they do it but they figured it out\n",
       "</pre>\n"
      ],
      "text/plain": [
       "\u001b[1;36m63\u001b[0m  So I'm spilling him a couple pieces and I can check that later and see if he's eaten them or even moved them  \n",
       "We cleaned everything out, like all the towels, all the newspaper  Changed their food, changed their water, and we \n",
       "scrubbed the floor because birds of prey have this lovely talent of like shooting their poo out they're cage  \u001b[1m(\u001b[0mBoth\n",
       "laugh\u001b[1m)\u001b[0m I don't know how they do it but they figured it out\n"
      ]
     },
     "metadata": {},
     "output_type": "display_data"
    },
    {
     "name": "stderr",
     "output_type": "stream",
     "text": [
      "2024-05-10 06:29:46,319 - HTTP Request: POST https://api.openai.com/v1/embeddings \"HTTP/1.1 200 OK\"\n"
     ]
    },
    {
     "data": {
      "text/html": [
       "<pre style=\"white-space:pre;overflow-x:auto;line-height:normal;font-family:Menlo,'DejaVu Sans Mono',consolas,'Courier New',monospace\"><span style=\"color: #008080; text-decoration-color: #008080; font-weight: bold\">66</span>  We feed them four times a day and by the time we feed them again, they need to be cleaned again  TIFFANY: You \n",
       "know what, it's not cow poo, so anything's cool  That doesn't bother me whatsoever  I've had poo more places than \n",
       "on my hands  ALLISON: Nice  TIFFANY: Nice  HOPE: <span style=\"font-weight: bold\">(</span>Narrating<span style=\"font-weight: bold\">)</span> It looks like Tiffany is getting off to a smooth start\n",
       "but there's bound to be a few bumps along the way\n",
       "</pre>\n"
      ],
      "text/plain": [
       "\u001b[1;36m66\u001b[0m  We feed them four times a day and by the time we feed them again, they need to be cleaned again  TIFFANY: You \n",
       "know what, it's not cow poo, so anything's cool  That doesn't bother me whatsoever  I've had poo more places than \n",
       "on my hands  ALLISON: Nice  TIFFANY: Nice  HOPE: \u001b[1m(\u001b[0mNarrating\u001b[1m)\u001b[0m It looks like Tiffany is getting off to a smooth start\n",
       "but there's bound to be a few bumps along the way\n"
      ]
     },
     "metadata": {},
     "output_type": "display_data"
    },
    {
     "name": "stderr",
     "output_type": "stream",
     "text": [
      "2024-05-10 06:29:46,342 - HTTP Request: POST https://api.openai.com/v1/embeddings \"HTTP/1.1 200 OK\"\n"
     ]
    },
    {
     "data": {
      "text/html": [
       "<pre style=\"white-space:pre;overflow-x:auto;line-height:normal;font-family:Menlo,'DejaVu Sans Mono',consolas,'Courier New',monospace\"><span style=\"color: #008080; text-decoration-color: #008080; font-weight: bold\">65</span>  There you go  He's a little stressed out there  And then get a bucket, warm water with just some dish soap in \n",
       "it  So you kinda got the double cleaning power going on  Yeah  Disinfecting and then you got some scrubbing power \n",
       "there  So go at it  Perfect  ALLISON: In the summer, when we do raccoons, we do it four times a day\n",
       "</pre>\n"
      ],
      "text/plain": [
       "\u001b[1;36m65\u001b[0m  There you go  He's a little stressed out there  And then get a bucket, warm water with just some dish soap in \n",
       "it  So you kinda got the double cleaning power going on  Yeah  Disinfecting and then you got some scrubbing power \n",
       "there  So go at it  Perfect  ALLISON: In the summer, when we do raccoons, we do it four times a day\n"
      ]
     },
     "metadata": {},
     "output_type": "display_data"
    },
    {
     "name": "stderr",
     "output_type": "stream",
     "text": [
      "2024-05-10 06:29:46,376 - HTTP Request: POST https://api.openai.com/v1/embeddings \"HTTP/1.1 200 OK\"\n"
     ]
    },
    {
     "data": {
      "text/html": [
       "<pre style=\"white-space:pre;overflow-x:auto;line-height:normal;font-family:Menlo,'DejaVu Sans Mono',consolas,'Courier New',monospace\"><span style=\"color: #008080; text-decoration-color: #008080; font-weight: bold\">67</span>  Ukh  HOPE: <span style=\"font-weight: bold\">(</span>Narrating<span style=\"font-weight: bold\">)</span> Today is also the big day for the Great Horned Owl and Jenny  Jenny's definitely big \n",
       "enough to survive in the wild now  But I'm a little worried she'll refuse to leave the trailer again  If she \n",
       "doesn't leave this time, I don't know what I'll do  We can't keep her forever  NARRATOR: Hope wants to get the rest\n",
       "of the deer and the Great Horned Owl out today\n",
       "</pre>\n"
      ],
      "text/plain": [
       "\u001b[1;36m67\u001b[0m  Ukh  HOPE: \u001b[1m(\u001b[0mNarrating\u001b[1m)\u001b[0m Today is also the big day for the Great Horned Owl and Jenny  Jenny's definitely big \n",
       "enough to survive in the wild now  But I'm a little worried she'll refuse to leave the trailer again  If she \n",
       "doesn't leave this time, I don't know what I'll do  We can't keep her forever  NARRATOR: Hope wants to get the rest\n",
       "of the deer and the Great Horned Owl out today\n"
      ]
     },
     "metadata": {},
     "output_type": "display_data"
    },
    {
     "name": "stderr",
     "output_type": "stream",
     "text": [
      "2024-05-10 06:29:46,386 - HTTP Request: POST https://api.openai.com/v1/embeddings \"HTTP/1.1 200 OK\"\n",
      "2024-05-10 06:29:46,413 - HTTP Request: POST https://api.openai.com/v1/embeddings \"HTTP/1.1 200 OK\"\n"
     ]
    },
    {
     "data": {
      "text/html": [
       "<pre style=\"white-space:pre;overflow-x:auto;line-height:normal;font-family:Menlo,'DejaVu Sans Mono',consolas,'Courier New',monospace\"><span style=\"color: #008080; text-decoration-color: #008080; font-weight: bold\">68</span>  But they're not going anywhere until Hope can capture them  NARRATOR: Spring is coming at Hope for Wildlife  A \n",
       "new volunteer is learning the ropes  Hope's about to try releasing a deer named Jenny for the second time  Hope \n",
       "plans to release a Great Horned Owl too, but first, she has to catch it  HOPE: <span style=\"font-weight: bold\">(</span>Narrating<span style=\"font-weight: bold\">)</span> He's flying so good  So \n",
       "there he is\n",
       "</pre>\n"
      ],
      "text/plain": [
       "\u001b[1;36m68\u001b[0m  But they're not going anywhere until Hope can capture them  NARRATOR: Spring is coming at Hope for Wildlife  A \n",
       "new volunteer is learning the ropes  Hope's about to try releasing a deer named Jenny for the second time  Hope \n",
       "plans to release a Great Horned Owl too, but first, she has to catch it  HOPE: \u001b[1m(\u001b[0mNarrating\u001b[1m)\u001b[0m He's flying so good  So \n",
       "there he is\n"
      ]
     },
     "metadata": {},
     "output_type": "display_data"
    },
    {
     "name": "stderr",
     "output_type": "stream",
     "text": [
      "2024-05-10 06:29:46,432 - HTTP Request: POST https://api.openai.com/v1/embeddings \"HTTP/1.1 200 OK\"\n"
     ]
    },
    {
     "data": {
      "text/html": [
       "<pre style=\"white-space:pre;overflow-x:auto;line-height:normal;font-family:Menlo,'DejaVu Sans Mono',consolas,'Courier New',monospace\"><span style=\"color: #008080; text-decoration-color: #008080; font-weight: bold\">71</span>  HOPE: <span style=\"font-weight: bold\">(</span>Narrating<span style=\"font-weight: bold\">)</span> Being in darkness helps calm the bird  There's a perch for you  Oh, yes  Cool  HOPE: \n",
       "<span style=\"font-weight: bold\">(</span>Narrating<span style=\"font-weight: bold\">)</span> It's been about a month since we tried to release Jenny  She refused to leave the trailer  Hopefully \n",
       "this time, she'll be a little less timid  We just can't afford the cost of keeping any animal longer than we have \n",
       "to  It costs $<span style=\"color: #008080; text-decoration-color: #008080; font-weight: bold\">30</span> a day to keep a deer\n",
       "</pre>\n"
      ],
      "text/plain": [
       "\u001b[1;36m71\u001b[0m  HOPE: \u001b[1m(\u001b[0mNarrating\u001b[1m)\u001b[0m Being in darkness helps calm the bird  There's a perch for you  Oh, yes  Cool  HOPE: \n",
       "\u001b[1m(\u001b[0mNarrating\u001b[1m)\u001b[0m It's been about a month since we tried to release Jenny  She refused to leave the trailer  Hopefully \n",
       "this time, she'll be a little less timid  We just can't afford the cost of keeping any animal longer than we have \n",
       "to  It costs $\u001b[1;36m30\u001b[0m a day to keep a deer\n"
      ]
     },
     "metadata": {},
     "output_type": "display_data"
    },
    {
     "name": "stderr",
     "output_type": "stream",
     "text": [
      "2024-05-10 06:29:46,437 - HTTP Request: POST https://api.openai.com/v1/embeddings \"HTTP/1.1 200 OK\"\n"
     ]
    },
    {
     "data": {
      "text/html": [
       "<pre style=\"white-space:pre;overflow-x:auto;line-height:normal;font-family:Menlo,'DejaVu Sans Mono',consolas,'Courier New',monospace\"><span style=\"color: #008080; text-decoration-color: #008080; font-weight: bold\">72</span>  Keeping Jenny an extra month cost $<span style=\"color: #008080; text-decoration-color: #008080; font-weight: bold\">900</span>  We don't make decisions on animal welfare based on cost, but we can't \n",
       "afford to waste money either  And Jenny's best chance of survival is in a herd with other deer  I'm also worried \n",
       "about a deer named Karl  CAMERA MAN: No camera shy here  HOPE: There's one every year  HOPE: <span style=\"font-weight: bold\">(</span>Narrating<span style=\"font-weight: bold\">)</span> He might \n",
       "be just a little too friendly\n",
       "</pre>\n"
      ],
      "text/plain": [
       "\u001b[1;36m72\u001b[0m  Keeping Jenny an extra month cost $\u001b[1;36m900\u001b[0m  We don't make decisions on animal welfare based on cost, but we can't \n",
       "afford to waste money either  And Jenny's best chance of survival is in a herd with other deer  I'm also worried \n",
       "about a deer named Karl  CAMERA MAN: No camera shy here  HOPE: There's one every year  HOPE: \u001b[1m(\u001b[0mNarrating\u001b[1m)\u001b[0m He might \n",
       "be just a little too friendly\n"
      ]
     },
     "metadata": {},
     "output_type": "display_data"
    },
    {
     "name": "stderr",
     "output_type": "stream",
     "text": [
      "2024-05-10 06:29:46,447 - HTTP Request: POST https://api.openai.com/v1/embeddings \"HTTP/1.1 200 OK\"\n"
     ]
    },
    {
     "data": {
      "text/html": [
       "<pre style=\"white-space:pre;overflow-x:auto;line-height:normal;font-family:Menlo,'DejaVu Sans Mono',consolas,'Courier New',monospace\"><span style=\"color: #008080; text-decoration-color: #008080; font-weight: bold\">69</span>  He'll-- When I approach, he's gonna fly and bounce off that netting and then usually land on the rope, just \n",
       "like that  Very predictable  And then he goes back there and he'll repeat the procedure  So you might gotta get him\n",
       "in the air, <span style=\"color: #008000; text-decoration-color: #008000\">'cause you know right where he'</span>s going to head  No worries  There, perfect  Okay now, let me see where \n",
       "your feet are  I hate nets  My fault  Okay, one more try\n",
       "</pre>\n"
      ],
      "text/plain": [
       "\u001b[1;36m69\u001b[0m  He'll-- When I approach, he's gonna fly and bounce off that netting and then usually land on the rope, just \n",
       "like that  Very predictable  And then he goes back there and he'll repeat the procedure  So you might gotta get him\n",
       "in the air, \u001b[32m'cause you know right where he'\u001b[0ms going to head  No worries  There, perfect  Okay now, let me see where \n",
       "your feet are  I hate nets  My fault  Okay, one more try\n"
      ]
     },
     "metadata": {},
     "output_type": "display_data"
    },
    {
     "name": "stderr",
     "output_type": "stream",
     "text": [
      "2024-05-10 06:29:46,456 - HTTP Request: POST https://api.openai.com/v1/embeddings \"HTTP/1.1 200 OK\"\n"
     ]
    },
    {
     "data": {
      "text/html": [
       "<pre style=\"white-space:pre;overflow-x:auto;line-height:normal;font-family:Menlo,'DejaVu Sans Mono',consolas,'Courier New',monospace\"><span style=\"color: #008080; text-decoration-color: #008080; font-weight: bold\">70</span>  Now he's looking for a different spot  He's not stupid  Okay, I'll do that  I just didn't wanna break any \n",
       "feathers  Okay  Okay, Sorry  HOPE: <span style=\"font-weight: bold\">(</span>Narrating<span style=\"font-weight: bold\">)</span> We're wrapping him in a blanket to protect him from injury  Careful \n",
       "And now just got to get his feet  There's one and there's the other  Now Careful, 'cause that other claw  Okay\n",
       "</pre>\n"
      ],
      "text/plain": [
       "\u001b[1;36m70\u001b[0m  Now he's looking for a different spot  He's not stupid  Okay, I'll do that  I just didn't wanna break any \n",
       "feathers  Okay  Okay, Sorry  HOPE: \u001b[1m(\u001b[0mNarrating\u001b[1m)\u001b[0m We're wrapping him in a blanket to protect him from injury  Careful \n",
       "And now just got to get his feet  There's one and there's the other  Now Careful, 'cause that other claw  Okay\n"
      ]
     },
     "metadata": {},
     "output_type": "display_data"
    },
    {
     "name": "stderr",
     "output_type": "stream",
     "text": [
      "2024-05-10 06:29:46,471 - HTTP Request: POST https://api.openai.com/v1/embeddings \"HTTP/1.1 200 OK\"\n",
      "2024-05-10 06:29:46,472 - HTTP Request: POST https://api.openai.com/v1/embeddings \"HTTP/1.1 200 OK\"\n"
     ]
    },
    {
     "data": {
      "text/html": [
       "<pre style=\"white-space:pre;overflow-x:auto;line-height:normal;font-family:Menlo,'DejaVu Sans Mono',consolas,'Courier New',monospace\"><span style=\"color: #008080; text-decoration-color: #008080; font-weight: bold\">75</span>  Usually one deer, one maybe, one raccoon, and maybe the odd crow or something like that  but when you consider \n",
       "the sheer numbers that we put through, this problem does not occur very often  But it's definitely there, no matter\n",
       "how hard we try  HOPE: Okay, let's keep our fingers crossed  Hey, Karl, it's freedom day  We'll close it, but, you \n",
       "know  Hey, Jenny you come too\n",
       "</pre>\n"
      ],
      "text/plain": [
       "\u001b[1;36m75\u001b[0m  Usually one deer, one maybe, one raccoon, and maybe the odd crow or something like that  but when you consider \n",
       "the sheer numbers that we put through, this problem does not occur very often  But it's definitely there, no matter\n",
       "how hard we try  HOPE: Okay, let's keep our fingers crossed  Hey, Karl, it's freedom day  We'll close it, but, you \n",
       "know  Hey, Jenny you come too\n"
      ]
     },
     "metadata": {},
     "output_type": "display_data"
    },
    {
     "name": "stderr",
     "output_type": "stream",
     "text": [
      "2024-05-10 06:29:46,482 - HTTP Request: POST https://api.openai.com/v1/embeddings \"HTTP/1.1 200 OK\"\n",
      "2024-05-10 06:29:46,482 - HTTP Request: POST https://api.openai.com/v1/embeddings \"HTTP/1.1 200 OK\"\n"
     ]
    },
    {
     "data": {
      "text/html": [
       "<pre style=\"white-space:pre;overflow-x:auto;line-height:normal;font-family:Menlo,'DejaVu Sans Mono',consolas,'Courier New',monospace\"><span style=\"color: #008080; text-decoration-color: #008080; font-weight: bold\">77</span>  REID: What about Karl  HOPE: No, Karl's still out  Karl's right here  I'm not so much worried for him because \n",
       "even though within this habitat, they're quite comfortable with people  We come in once a day to feed and clean and\n",
       "they tolerate that very well  So I think the deer will do well  It's if the deer runs into people, and then that's \n",
       "where problems could start\n",
       "</pre>\n"
      ],
      "text/plain": [
       "\u001b[1;36m77\u001b[0m  REID: What about Karl  HOPE: No, Karl's still out  Karl's right here  I'm not so much worried for him because \n",
       "even though within this habitat, they're quite comfortable with people  We come in once a day to feed and clean and\n",
       "they tolerate that very well  So I think the deer will do well  It's if the deer runs into people, and then that's \n",
       "where problems could start\n"
      ]
     },
     "metadata": {},
     "output_type": "display_data"
    },
    {
     "name": "stderr",
     "output_type": "stream",
     "text": [
      "2024-05-10 06:29:46,489 - HTTP Request: POST https://api.openai.com/v1/embeddings \"HTTP/1.1 200 OK\"\n"
     ]
    },
    {
     "data": {
      "text/html": [
       "<pre style=\"white-space:pre;overflow-x:auto;line-height:normal;font-family:Menlo,'DejaVu Sans Mono',consolas,'Courier New',monospace\"><span style=\"color: #008080; text-decoration-color: #008080; font-weight: bold\">74</span>  Therefore, we're opening up the door for conflict, for something to go wrong from Karl's point of view or from \n",
       "a human, when he gets a full rack of horns, he could be a dangerous animal  So we really have to be careful with \n",
       "that  And we try very, very hard and out of <span style=\"color: #008080; text-decoration-color: #008080; font-weight: bold\">1</span>,<span style=\"color: #008080; text-decoration-color: #008080; font-weight: bold\">100</span> animals we do each and every year, we usually only end up with \n",
       "two or three problem animals\n",
       "</pre>\n"
      ],
      "text/plain": [
       "\u001b[1;36m74\u001b[0m  Therefore, we're opening up the door for conflict, for something to go wrong from Karl's point of view or from \n",
       "a human, when he gets a full rack of horns, he could be a dangerous animal  So we really have to be careful with \n",
       "that  And we try very, very hard and out of \u001b[1;36m1\u001b[0m,\u001b[1;36m100\u001b[0m animals we do each and every year, we usually only end up with \n",
       "two or three problem animals\n"
      ]
     },
     "metadata": {},
     "output_type": "display_data"
    },
    {
     "name": "stderr",
     "output_type": "stream",
     "text": [
      "2024-05-10 06:29:46,499 - HTTP Request: POST https://api.openai.com/v1/embeddings \"HTTP/1.1 200 OK\"\n"
     ]
    },
    {
     "data": {
      "text/html": [
       "<pre style=\"white-space:pre;overflow-x:auto;line-height:normal;font-family:Menlo,'DejaVu Sans Mono',consolas,'Courier New',monospace\"><span style=\"color: #008080; text-decoration-color: #008080; font-weight: bold\">78</span>  So getting him released to an area like Liscomb would have been perfect because he's more likely to come too \n",
       "close to people and that could cause issues  So from the deer point of view, I think he'd do fine in the wild  I \n",
       "don't think there'd be any issues at all  But from the people end of view, which we always have to consider of \n",
       "course, we need to get him as far away from the general public as possible\n",
       "</pre>\n"
      ],
      "text/plain": [
       "\u001b[1;36m78\u001b[0m  So getting him released to an area like Liscomb would have been perfect because he's more likely to come too \n",
       "close to people and that could cause issues  So from the deer point of view, I think he'd do fine in the wild  I \n",
       "don't think there'd be any issues at all  But from the people end of view, which we always have to consider of \n",
       "course, we need to get him as far away from the general public as possible\n"
      ]
     },
     "metadata": {},
     "output_type": "display_data"
    },
    {
     "data": {
      "text/html": [
       "<pre style=\"white-space:pre;overflow-x:auto;line-height:normal;font-family:Menlo,'DejaVu Sans Mono',consolas,'Courier New',monospace\"><span style=\"color: #008080; text-decoration-color: #008080; font-weight: bold\">73</span>  We always have to be careful not to let them get too tame  Between hunters and cars, a friendly deer is a dead \n",
       "deer  So, what we try and do is get the animals out as wild as they can possibly be so that they won't come in \n",
       "contact with people  And with Karl, he's the type of deer that may approach people\n",
       "</pre>\n"
      ],
      "text/plain": [
       "\u001b[1;36m73\u001b[0m  We always have to be careful not to let them get too tame  Between hunters and cars, a friendly deer is a dead \n",
       "deer  So, what we try and do is get the animals out as wild as they can possibly be so that they won't come in \n",
       "contact with people  And with Karl, he's the type of deer that may approach people\n"
      ]
     },
     "metadata": {},
     "output_type": "display_data"
    },
    {
     "data": {
      "text/html": [
       "<pre style=\"white-space:pre;overflow-x:auto;line-height:normal;font-family:Menlo,'DejaVu Sans Mono',consolas,'Courier New',monospace\"><span style=\"color: #008080; text-decoration-color: #008080; font-weight: bold\">76</span>  Reid, can you let me out the side door  I don't think they're gonna come in with me here  Okay  I think they're\n",
       "holding back <span style=\"color: #008000; text-decoration-color: #008000\">'cause I'</span>m there and they're thinking that's not normal  <span style=\"font-weight: bold\">(</span>Indiscernible audio<span style=\"font-weight: bold\">)</span> HOPE: <span style=\"font-weight: bold\">(</span>Narrating<span style=\"font-weight: bold\">)</span> No, I\n",
       "think you should stay there  Those two will go on  Okay, soon  Now, Reid  Five  Five's better than none  And \n",
       "Jenny's one of them\n",
       "</pre>\n"
      ],
      "text/plain": [
       "\u001b[1;36m76\u001b[0m  Reid, can you let me out the side door  I don't think they're gonna come in with me here  Okay  I think they're\n",
       "holding back \u001b[32m'cause I'\u001b[0mm there and they're thinking that's not normal  \u001b[1m(\u001b[0mIndiscernible audio\u001b[1m)\u001b[0m HOPE: \u001b[1m(\u001b[0mNarrating\u001b[1m)\u001b[0m No, I\n",
       "think you should stay there  Those two will go on  Okay, soon  Now, Reid  Five  Five's better than none  And \n",
       "Jenny's one of them\n"
      ]
     },
     "metadata": {},
     "output_type": "display_data"
    },
    {
     "name": "stderr",
     "output_type": "stream",
     "text": [
      "2024-05-10 06:29:46,537 - HTTP Request: POST https://api.openai.com/v1/embeddings \"HTTP/1.1 200 OK\"\n"
     ]
    },
    {
     "data": {
      "text/html": [
       "<pre style=\"white-space:pre;overflow-x:auto;line-height:normal;font-family:Menlo,'DejaVu Sans Mono',consolas,'Courier New',monospace\"><span style=\"color: #008080; text-decoration-color: #008080; font-weight: bold\">80</span>  And there's lots of tree tops that are laying down on the ground that they can feed on  Hopefully, they're all \n",
       "okay and they travelled up here safe and sound  And so when we swing open the door, I don't expect them to come \n",
       "running out  They never do  They're very cautious and curious and probably nervous because it's all new habitat to \n",
       "them  So I think they'll very cautiously, one by one climb off the trailer and head on and out\n",
       "</pre>\n"
      ],
      "text/plain": [
       "\u001b[1;36m80\u001b[0m  And there's lots of tree tops that are laying down on the ground that they can feed on  Hopefully, they're all \n",
       "okay and they travelled up here safe and sound  And so when we swing open the door, I don't expect them to come \n",
       "running out  They never do  They're very cautious and curious and probably nervous because it's all new habitat to \n",
       "them  So I think they'll very cautiously, one by one climb off the trailer and head on and out\n"
      ]
     },
     "metadata": {},
     "output_type": "display_data"
    },
    {
     "name": "stderr",
     "output_type": "stream",
     "text": [
      "2024-05-10 06:29:46,591 - HTTP Request: POST https://api.openai.com/v1/embeddings \"HTTP/1.1 200 OK\"\n"
     ]
    },
    {
     "data": {
      "text/html": [
       "<pre style=\"white-space:pre;overflow-x:auto;line-height:normal;font-family:Menlo,'DejaVu Sans Mono',consolas,'Courier New',monospace\"><span style=\"color: #008080; text-decoration-color: #008080; font-weight: bold\">81</span>  Hopefully as a group  WOMAN <span style=\"color: #008080; text-decoration-color: #008080; font-weight: bold\">3</span>: They all standing  No, they're all sitting  Our little Jenny is the first one  \n",
       "<span style=\"font-weight: bold\">(</span>♪♪<span style=\"font-weight: bold\">)</span> <span style=\"font-weight: bold\">(</span>♪♪<span style=\"font-weight: bold\">)</span> <span style=\"font-weight: bold\">(</span>♪♪<span style=\"font-weight: bold\">)</span> HOPE: <span style=\"font-weight: bold\">(</span>Narrating<span style=\"font-weight: bold\">)</span> I guess they're checking things out and they don't look at all stressed from the \n",
       "drive here  They look, you know, really comfortable and just where they should be\n",
       "</pre>\n"
      ],
      "text/plain": [
       "\u001b[1;36m81\u001b[0m  Hopefully as a group  WOMAN \u001b[1;36m3\u001b[0m: They all standing  No, they're all sitting  Our little Jenny is the first one  \n",
       "\u001b[1m(\u001b[0m♪♪\u001b[1m)\u001b[0m \u001b[1m(\u001b[0m♪♪\u001b[1m)\u001b[0m \u001b[1m(\u001b[0m♪♪\u001b[1m)\u001b[0m HOPE: \u001b[1m(\u001b[0mNarrating\u001b[1m)\u001b[0m I guess they're checking things out and they don't look at all stressed from the \n",
       "drive here  They look, you know, really comfortable and just where they should be\n"
      ]
     },
     "metadata": {},
     "output_type": "display_data"
    },
    {
     "data": {
      "text/html": [
       "<pre style=\"white-space:pre;overflow-x:auto;line-height:normal;font-family:Menlo,'DejaVu Sans Mono',consolas,'Courier New',monospace\"><span style=\"color: #008080; text-decoration-color: #008080; font-weight: bold\">45</span>  But the trip into the wilderness is a dangerous journey of its own  I've heard stories that, you know, deer \n",
       "have broken their leg because they've gotten nervous, or their back  NARRATOR: One deer doesn't make it back to the\n",
       "wild  NARRATOR: Spring hasn't even arrived yet, but things are heating up at the Hope for Wildlife Rescue and \n",
       "Rehabilitation Centre on Canada's east coast  Hope's about to release four deer she raised over the winter\n",
       "</pre>\n"
      ],
      "text/plain": [
       "\u001b[1;36m45\u001b[0m  But the trip into the wilderness is a dangerous journey of its own  I've heard stories that, you know, deer \n",
       "have broken their leg because they've gotten nervous, or their back  NARRATOR: One deer doesn't make it back to the\n",
       "wild  NARRATOR: Spring hasn't even arrived yet, but things are heating up at the Hope for Wildlife Rescue and \n",
       "Rehabilitation Centre on Canada's east coast  Hope's about to release four deer she raised over the winter\n"
      ]
     },
     "metadata": {},
     "output_type": "display_data"
    },
    {
     "name": "stderr",
     "output_type": "stream",
     "text": [
      "2024-05-10 06:29:46,612 - HTTP Request: POST https://api.openai.com/v1/embeddings \"HTTP/1.1 200 OK\"\n",
      "2024-05-10 06:29:46,615 - HTTP Request: POST https://api.openai.com/v1/embeddings \"HTTP/1.1 200 OK\"\n"
     ]
    },
    {
     "data": {
      "text/html": [
       "<pre style=\"white-space:pre;overflow-x:auto;line-height:normal;font-family:Menlo,'DejaVu Sans Mono',consolas,'Courier New',monospace\"><span style=\"color: #008080; text-decoration-color: #008080; font-weight: bold\">83</span>  She was sort of separate from them all but never too far  She's behaving perfectly normal for her  Well, it was\n",
       "funny <span style=\"color: #008000; text-decoration-color: #008000\">'cause Department of Natural Resources sort of did a rescue  The lady that caught her shimmied under the </span>\n",
       "<span style=\"color: #008000; text-decoration-color: #008000\">fence and she'</span>s just a tiny a woman, good thing 'cause she shimmied under the fence where the deer had gone and \n",
       "then got her back out that way\n",
       "</pre>\n"
      ],
      "text/plain": [
       "\u001b[1;36m83\u001b[0m  She was sort of separate from them all but never too far  She's behaving perfectly normal for her  Well, it was\n",
       "funny \u001b[32m'cause Department of Natural Resources sort of did a rescue  The lady that caught her shimmied under the \u001b[0m\n",
       "\u001b[32mfence and she'\u001b[0ms just a tiny a woman, good thing 'cause she shimmied under the fence where the deer had gone and \n",
       "then got her back out that way\n"
      ]
     },
     "metadata": {},
     "output_type": "display_data"
    },
    {
     "data": {
      "text/html": [
       "<pre style=\"white-space:pre;overflow-x:auto;line-height:normal;font-family:Menlo,'DejaVu Sans Mono',consolas,'Courier New',monospace\"><span style=\"color: #008080; text-decoration-color: #008080; font-weight: bold\">82</span>  And it'd be nice if they could meet up with other white tails and integrate into a big herd  And there's so \n",
       "much safety in numbers from the coyotes and that kind of thing  So I'm sure they'll stick together, you know  They \n",
       "might wander away a little bit, but  Our little Jenny is independent as ever  She's kind of off to the side there  \n",
       "but that's the way she was even in the enclosure\n",
       "</pre>\n"
      ],
      "text/plain": [
       "\u001b[1;36m82\u001b[0m  And it'd be nice if they could meet up with other white tails and integrate into a big herd  And there's so \n",
       "much safety in numbers from the coyotes and that kind of thing  So I'm sure they'll stick together, you know  They \n",
       "might wander away a little bit, but  Our little Jenny is independent as ever  She's kind of off to the side there  \n",
       "but that's the way she was even in the enclosure\n"
      ]
     },
     "metadata": {},
     "output_type": "display_data"
    },
    {
     "name": "stderr",
     "output_type": "stream",
     "text": [
      "2024-05-10 06:29:46,625 - HTTP Request: POST https://api.openai.com/v1/embeddings \"HTTP/1.1 200 OK\"\n"
     ]
    },
    {
     "data": {
      "text/html": [
       "<pre style=\"white-space:pre;overflow-x:auto;line-height:normal;font-family:Menlo,'DejaVu Sans Mono',consolas,'Courier New',monospace\"><span style=\"color: #008080; text-decoration-color: #008080; font-weight: bold\">84</span>  And ended up ripping her clothing and not only ripping herself, but Jenny got the rip probably on the way in, \n",
       "and got the rip from the fence too, so  They've started to move away  So, you know, deer don't do well with injury \n",
       "so we're really glad to see she recovered really well from the stitches that had been put in and that kind of thing\n",
       "Our long-term cases, it's just much easier for us naming them\n",
       "</pre>\n"
      ],
      "text/plain": [
       "\u001b[1;36m84\u001b[0m  And ended up ripping her clothing and not only ripping herself, but Jenny got the rip probably on the way in, \n",
       "and got the rip from the fence too, so  They've started to move away  So, you know, deer don't do well with injury \n",
       "so we're really glad to see she recovered really well from the stitches that had been put in and that kind of thing\n",
       "Our long-term cases, it's just much easier for us naming them\n"
      ]
     },
     "metadata": {},
     "output_type": "display_data"
    },
    {
     "name": "stderr",
     "output_type": "stream",
     "text": [
      "2024-05-10 06:29:46,667 - HTTP Request: POST https://api.openai.com/v1/embeddings \"HTTP/1.1 200 OK\"\n"
     ]
    },
    {
     "data": {
      "text/html": [
       "<pre style=\"white-space:pre;overflow-x:auto;line-height:normal;font-family:Menlo,'DejaVu Sans Mono',consolas,'Courier New',monospace\"><span style=\"color: #008080; text-decoration-color: #008080; font-weight: bold\">85</span>  It's not trying to humanize them in any way  It's just an easy way for staff to communicate about the animal  \n",
       "And it's fun  And we enjoy giving them names once in a while, so  Wouldn't it be neat to know five years from now \n",
       "she's still alive  Wish there was some way  Maybe it's better not knowing  <span style=\"font-weight: bold\">(</span>♪♪<span style=\"font-weight: bold\">)</span> Now, we should do the owl\n",
       "</pre>\n"
      ],
      "text/plain": [
       "\u001b[1;36m85\u001b[0m  It's not trying to humanize them in any way  It's just an easy way for staff to communicate about the animal  \n",
       "And it's fun  And we enjoy giving them names once in a while, so  Wouldn't it be neat to know five years from now \n",
       "she's still alive  Wish there was some way  Maybe it's better not knowing  \u001b[1m(\u001b[0m♪♪\u001b[1m)\u001b[0m Now, we should do the owl\n"
      ]
     },
     "metadata": {},
     "output_type": "display_data"
    },
    {
     "name": "stderr",
     "output_type": "stream",
     "text": [
      "2024-05-10 06:29:46,697 - HTTP Request: POST https://api.openai.com/v1/embeddings \"HTTP/1.1 200 OK\"\n"
     ]
    },
    {
     "data": {
      "text/html": [
       "<pre style=\"white-space:pre;overflow-x:auto;line-height:normal;font-family:Menlo,'DejaVu Sans Mono',consolas,'Courier New',monospace\"><span style=\"color: #008080; text-decoration-color: #008080; font-weight: bold\">79</span>  HOPE: <span style=\"font-weight: bold\">(</span>Narrating<span style=\"font-weight: bold\">)</span> We'll release Karl in a couple of weeks once we're sure he's wild enough  We microchip all \n",
       "the deer, so we'll know if Karl gets into trouble  <span style=\"font-weight: bold\">(</span>♪♪<span style=\"font-weight: bold\">)</span> HOPE: We're in Liscomb Game Sanctuary, and this time we've \n",
       "headed further into the middle of the sanctuary  And found an old logging road and good habitat for deer  They like\n",
       "freshly cut areas\n",
       "</pre>\n"
      ],
      "text/plain": [
       "\u001b[1;36m79\u001b[0m  HOPE: \u001b[1m(\u001b[0mNarrating\u001b[1m)\u001b[0m We'll release Karl in a couple of weeks once we're sure he's wild enough  We microchip all \n",
       "the deer, so we'll know if Karl gets into trouble  \u001b[1m(\u001b[0m♪♪\u001b[1m)\u001b[0m HOPE: We're in Liscomb Game Sanctuary, and this time we've \n",
       "headed further into the middle of the sanctuary  And found an old logging road and good habitat for deer  They like\n",
       "freshly cut areas\n"
      ]
     },
     "metadata": {},
     "output_type": "display_data"
    },
    {
     "name": "stderr",
     "output_type": "stream",
     "text": [
      "2024-05-10 06:29:46,710 - HTTP Request: POST https://api.openai.com/v1/embeddings \"HTTP/1.1 200 OK\"\n"
     ]
    },
    {
     "data": {
      "text/html": [
       "<pre style=\"white-space:pre;overflow-x:auto;line-height:normal;font-family:Menlo,'DejaVu Sans Mono',consolas,'Courier New',monospace\"><span style=\"color: #008080; text-decoration-color: #008080; font-weight: bold\">86</span>  HOPE: Usually when we release our owls, it's always done at dawn or dusk  So today is an exception  But \n",
       "whenever you release an owl, crows come from everywhere to torment the owl  Owls are predators  So crows don't like\n",
       "them in their habitat  So, I mean, it's around <span style=\"color: #00ff00; text-decoration-color: #00ff00; font-weight: bold\">10:00</span> in the morning  We're gonna release him, but it's gonna be \n",
       "interesting to see  I have a feeling we'll get crows\n",
       "</pre>\n"
      ],
      "text/plain": [
       "\u001b[1;36m86\u001b[0m  HOPE: Usually when we release our owls, it's always done at dawn or dusk  So today is an exception  But \n",
       "whenever you release an owl, crows come from everywhere to torment the owl  Owls are predators  So crows don't like\n",
       "them in their habitat  So, I mean, it's around \u001b[1;92m10:00\u001b[0m in the morning  We're gonna release him, but it's gonna be \n",
       "interesting to see  I have a feeling we'll get crows\n"
      ]
     },
     "metadata": {},
     "output_type": "display_data"
    },
    {
     "name": "stderr",
     "output_type": "stream",
     "text": [
      "2024-05-10 06:29:46,738 - HTTP Request: POST https://api.openai.com/v1/embeddings \"HTTP/1.1 200 OK\"\n"
     ]
    },
    {
     "data": {
      "text/html": [
       "<pre style=\"white-space:pre;overflow-x:auto;line-height:normal;font-family:Menlo,'DejaVu Sans Mono',consolas,'Courier New',monospace\"><span style=\"color: #008080; text-decoration-color: #008080; font-weight: bold\">87</span>  NARRATOR: It's an owl release into hostile territory  Hope wants to set the Great Horned free but worries angry\n",
       "crows will swarm at it as soon as it's released  Freedom could turn into a nightmare in seconds  NARRATOR: Hope \n",
       "just released five White Tailed Deer back into the wild, including a little doe named Jenny  Now she's ready to \n",
       "release a Great Horned Owl she nursed back to health over the winter\n",
       "</pre>\n"
      ],
      "text/plain": [
       "\u001b[1;36m87\u001b[0m  NARRATOR: It's an owl release into hostile territory  Hope wants to set the Great Horned free but worries angry\n",
       "crows will swarm at it as soon as it's released  Freedom could turn into a nightmare in seconds  NARRATOR: Hope \n",
       "just released five White Tailed Deer back into the wild, including a little doe named Jenny  Now she's ready to \n",
       "release a Great Horned Owl she nursed back to health over the winter\n"
      ]
     },
     "metadata": {},
     "output_type": "display_data"
    },
    {
     "name": "stderr",
     "output_type": "stream",
     "text": [
      "2024-05-10 06:29:46,745 - HTTP Request: POST https://api.openai.com/v1/embeddings \"HTTP/1.1 200 OK\"\n"
     ]
    },
    {
     "data": {
      "text/html": [
       "<pre style=\"white-space:pre;overflow-x:auto;line-height:normal;font-family:Menlo,'DejaVu Sans Mono',consolas,'Courier New',monospace\"><span style=\"color: #008080; text-decoration-color: #008080; font-weight: bold\">90</span>  So at least now it's pretty good weather from now on out too  So it's a very smooth patient  Everything went \n",
       "very well from beginning to end  And I wish all the cases were as perfect as this one  HOPE: <span style=\"font-weight: bold\">(</span>Narrating<span style=\"font-weight: bold\">)</span> Two \n",
       "successful releases  Six animals back in the wild  It doesn't get much better than that  It's a little bittersweet \n",
       "sometimes to see them go  You sorta get to know them and their personalities\n",
       "</pre>\n"
      ],
      "text/plain": [
       "\u001b[1;36m90\u001b[0m  So at least now it's pretty good weather from now on out too  So it's a very smooth patient  Everything went \n",
       "very well from beginning to end  And I wish all the cases were as perfect as this one  HOPE: \u001b[1m(\u001b[0mNarrating\u001b[1m)\u001b[0m Two \n",
       "successful releases  Six animals back in the wild  It doesn't get much better than that  It's a little bittersweet \n",
       "sometimes to see them go  You sorta get to know them and their personalities\n"
      ]
     },
     "metadata": {},
     "output_type": "display_data"
    },
    {
     "name": "stderr",
     "output_type": "stream",
     "text": [
      "2024-05-10 06:29:46,759 - HTTP Request: POST https://api.openai.com/v1/embeddings \"HTTP/1.1 200 OK\"\n",
      "2024-05-10 06:29:46,760 - HTTP Request: POST https://api.openai.com/v1/embeddings \"HTTP/1.1 200 OK\"\n"
     ]
    },
    {
     "data": {
      "text/html": [
       "<pre style=\"white-space:pre;overflow-x:auto;line-height:normal;font-family:Menlo,'DejaVu Sans Mono',consolas,'Courier New',monospace\"><span style=\"color: #008080; text-decoration-color: #008080; font-weight: bold\">91</span>  Getting these animals back into the wild is what Hope for Wildlife is all about  It's what makes all the hard \n",
       "work worth it  HOPE: <span style=\"font-weight: bold\">(</span>Narrating<span style=\"font-weight: bold\">)</span> I'm anxious to hear how Tiffany did on her first day of volunteering  Hey, guys  \n",
       "Hey, guys  Things are going good  Yeah, they are  Yeah  She's very through  And doesn't mind dirt, by the looks of \n",
       "it  Excellent  No, digs right into it\n",
       "</pre>\n"
      ],
      "text/plain": [
       "\u001b[1;36m91\u001b[0m  Getting these animals back into the wild is what Hope for Wildlife is all about  It's what makes all the hard \n",
       "work worth it  HOPE: \u001b[1m(\u001b[0mNarrating\u001b[1m)\u001b[0m I'm anxious to hear how Tiffany did on her first day of volunteering  Hey, guys  \n",
       "Hey, guys  Things are going good  Yeah, they are  Yeah  She's very through  And doesn't mind dirt, by the looks of \n",
       "it  Excellent  No, digs right into it\n"
      ]
     },
     "metadata": {},
     "output_type": "display_data"
    },
    {
     "data": {
      "text/html": [
       "<pre style=\"white-space:pre;overflow-x:auto;line-height:normal;font-family:Menlo,'DejaVu Sans Mono',consolas,'Courier New',monospace\"><span style=\"color: #008080; text-decoration-color: #008080; font-weight: bold\">88</span>  But she's worried it will be mobbed by crows the moment it's released  HOPE: <span style=\"font-weight: bold\">(</span>Narrating<span style=\"font-weight: bold\">)</span> Does anybody wanna \n",
       "sorta look right in the box at it  She's pretty beautiful  How did you weather  Oh there, look your freedom  Wow  \n",
       "He was definitely ready to go  And he flew beautifully  Did you notice the silent flight  Like you couldn't even \n",
       "hear him as he headed on the tree there\n",
       "</pre>\n"
      ],
      "text/plain": [
       "\u001b[1;36m88\u001b[0m  But she's worried it will be mobbed by crows the moment it's released  HOPE: \u001b[1m(\u001b[0mNarrating\u001b[1m)\u001b[0m Does anybody wanna \n",
       "sorta look right in the box at it  She's pretty beautiful  How did you weather  Oh there, look your freedom  Wow  \n",
       "He was definitely ready to go  And he flew beautifully  Did you notice the silent flight  Like you couldn't even \n",
       "hear him as he headed on the tree there\n"
      ]
     },
     "metadata": {},
     "output_type": "display_data"
    },
    {
     "name": "stderr",
     "output_type": "stream",
     "text": [
      "2024-05-10 06:29:46,781 - HTTP Request: POST https://api.openai.com/v1/embeddings \"HTTP/1.1 200 OK\"\n"
     ]
    },
    {
     "data": {
      "text/html": [
       "<pre style=\"white-space:pre;overflow-x:auto;line-height:normal;font-family:Menlo,'DejaVu Sans Mono',consolas,'Courier New',monospace\"><span style=\"color: #008080; text-decoration-color: #008080; font-weight: bold\">89</span>  And no crows, so that's a good thing  He was more than ready  Great Horneds breed earlier than all the other \n",
       "owls, so this at least-- It might be too late this season, for her to get out and have a nest and that kind of \n",
       "thing, but she might still have time to find a mate and reproduce  But it's, you know, would have been good to get \n",
       "her out in February but I just didn't wanna rush it\n",
       "</pre>\n"
      ],
      "text/plain": [
       "\u001b[1;36m89\u001b[0m  And no crows, so that's a good thing  He was more than ready  Great Horneds breed earlier than all the other \n",
       "owls, so this at least-- It might be too late this season, for her to get out and have a nest and that kind of \n",
       "thing, but she might still have time to find a mate and reproduce  But it's, you know, would have been good to get \n",
       "her out in February but I just didn't wanna rush it\n"
      ]
     },
     "metadata": {},
     "output_type": "display_data"
    },
    {
     "name": "stderr",
     "output_type": "stream",
     "text": [
      "2024-05-10 06:29:46,792 - HTTP Request: POST https://api.openai.com/v1/embeddings \"HTTP/1.1 200 OK\"\n"
     ]
    },
    {
     "data": {
      "text/html": [
       "<pre style=\"white-space:pre;overflow-x:auto;line-height:normal;font-family:Menlo,'DejaVu Sans Mono',consolas,'Courier New',monospace\"><span style=\"color: #008080; text-decoration-color: #008080; font-weight: bold\">93</span>  For today, I emailed seven  HOPE: <span style=\"font-weight: bold\">(</span>Narrating<span style=\"font-weight: bold\">)</span> Seven, okay  And everybody emailed me back and they all had like,\n",
       "legitimate excuses  There wasn't any that were just kind of like, <span style=\"color: #008000; text-decoration-color: #008000\">\"Oh, no, this Saturday shift's not good for me \"</span> \n",
       "Everybody had a good reason why they couldn't come out, buThat's okay  ALLISON: It's a start\n",
       "</pre>\n"
      ],
      "text/plain": [
       "\u001b[1;36m93\u001b[0m  For today, I emailed seven  HOPE: \u001b[1m(\u001b[0mNarrating\u001b[1m)\u001b[0m Seven, okay  And everybody emailed me back and they all had like,\n",
       "legitimate excuses  There wasn't any that were just kind of like, \u001b[32m\"Oh, no, this Saturday shift's not good for me \"\u001b[0m \n",
       "Everybody had a good reason why they couldn't come out, buThat's okay  ALLISON: It's a start\n"
      ]
     },
     "metadata": {},
     "output_type": "display_data"
    },
    {
     "name": "stderr",
     "output_type": "stream",
     "text": [
      "2024-05-10 06:29:46,804 - HTTP Request: POST https://api.openai.com/v1/embeddings \"HTTP/1.1 200 OK\"\n"
     ]
    },
    {
     "data": {
      "text/html": [
       "<pre style=\"white-space:pre;overflow-x:auto;line-height:normal;font-family:Menlo,'DejaVu Sans Mono',consolas,'Courier New',monospace\"><span style=\"color: #008080; text-decoration-color: #008080; font-weight: bold\">92</span>  She said the seals weren't that bad  Okay  They're one of the worst cage  She's asking good questions  Do you \n",
       "know yet if she's interested in every Saturday or every other Saturday  Every other  Every other, which would be \n",
       "good, <span style=\"color: #008000; text-decoration-color: #008000\">'cause she'</span>s got a ways to come  Yeah  We had two cancellations today, so out of three we got one  How many \n",
       "out of the <span style=\"color: #008080; text-decoration-color: #008080; font-weight: bold\">17</span>, how many have we contacted to try again\n",
       "</pre>\n"
      ],
      "text/plain": [
       "\u001b[1;36m92\u001b[0m  She said the seals weren't that bad  Okay  They're one of the worst cage  She's asking good questions  Do you \n",
       "know yet if she's interested in every Saturday or every other Saturday  Every other  Every other, which would be \n",
       "good, \u001b[32m'cause she'\u001b[0ms got a ways to come  Yeah  We had two cancellations today, so out of three we got one  How many \n",
       "out of the \u001b[1;36m17\u001b[0m, how many have we contacted to try again\n"
      ]
     },
     "metadata": {},
     "output_type": "display_data"
    },
    {
     "name": "stderr",
     "output_type": "stream",
     "text": [
      "2024-05-10 06:29:46,843 - HTTP Request: POST https://api.openai.com/v1/embeddings \"HTTP/1.1 200 OK\"\n"
     ]
    },
    {
     "data": {
      "text/html": [
       "<pre style=\"white-space:pre;overflow-x:auto;line-height:normal;font-family:Menlo,'DejaVu Sans Mono',consolas,'Courier New',monospace\"><span style=\"color: #008080; text-decoration-color: #008080; font-weight: bold\">95</span>  But it was a really good introduction and I just can't wait till there's all kinds of babies and stuff  It's \n",
       "gonna be fun, so  HOPE: <span style=\"font-weight: bold\">(</span>Narrating<span style=\"font-weight: bold\">)</span> I think Tiffany's going to work out just fine  We got Karl and the other deer \n",
       "out a few weeks later  I think Karl's gonna be just fine  And that's the end of last year's releases\n",
       "</pre>\n"
      ],
      "text/plain": [
       "\u001b[1;36m95\u001b[0m  But it was a really good introduction and I just can't wait till there's all kinds of babies and stuff  It's \n",
       "gonna be fun, so  HOPE: \u001b[1m(\u001b[0mNarrating\u001b[1m)\u001b[0m I think Tiffany's going to work out just fine  We got Karl and the other deer \n",
       "out a few weeks later  I think Karl's gonna be just fine  And that's the end of last year's releases\n"
      ]
     },
     "metadata": {},
     "output_type": "display_data"
    },
    {
     "name": "stderr",
     "output_type": "stream",
     "text": [
      "2024-05-10 06:29:46,849 - HTTP Request: POST https://api.openai.com/v1/embeddings \"HTTP/1.1 200 OK\"\n"
     ]
    },
    {
     "data": {
      "text/html": [
       "<pre style=\"white-space:pre;overflow-x:auto;line-height:normal;font-family:Menlo,'DejaVu Sans Mono',consolas,'Courier New',monospace\"><span style=\"color: #008080; text-decoration-color: #008080; font-weight: bold\">96</span>  NARRATOR: With the last of the winter releases finished, all's quiet at Hope for Wildlife  But not for long  As\n",
       "spring approaches, the wilderness is waking up  There's going to be hundreds of injured and orphaned animals any \n",
       "day now  HOPE: <span style=\"font-weight: bold\">(</span>Narrating<span style=\"font-weight: bold\">)</span> So we drove down our driveway, and sitting in the middle of the driveway, was this  It's\n",
       "a moose\n",
       "</pre>\n"
      ],
      "text/plain": [
       "\u001b[1;36m96\u001b[0m  NARRATOR: With the last of the winter releases finished, all's quiet at Hope for Wildlife  But not for long  As\n",
       "spring approaches, the wilderness is waking up  There's going to be hundreds of injured and orphaned animals any \n",
       "day now  HOPE: \u001b[1m(\u001b[0mNarrating\u001b[1m)\u001b[0m So we drove down our driveway, and sitting in the middle of the driveway, was this  It's\n",
       "a moose\n"
      ]
     },
     "metadata": {},
     "output_type": "display_data"
    },
    {
     "name": "stderr",
     "output_type": "stream",
     "text": [
      "2024-05-10 06:29:46,865 - HTTP Request: POST https://api.openai.com/v1/embeddings \"HTTP/1.1 200 OK\"\n"
     ]
    },
    {
     "data": {
      "text/html": [
       "<pre style=\"white-space:pre;overflow-x:auto;line-height:normal;font-family:Menlo,'DejaVu Sans Mono',consolas,'Courier New',monospace\"><span style=\"color: #008080; text-decoration-color: #008080; font-weight: bold\">97</span>  HOPE: It's a moose YOUNG GIRL: That's what I thought it was going to be  A hobbled moose  HOPE: <span style=\"font-weight: bold\">(</span>Narrating<span style=\"font-weight: bold\">)</span> I \n",
       "guess he'd only be a couple of days old  Oh, are you hurting, girl  <span style=\"font-weight: bold\">(</span>Indiscernible audio<span style=\"font-weight: bold\">)</span> HOPE: <span style=\"font-weight: bold\">(</span>Narrating<span style=\"font-weight: bold\">)</span> Look, \n",
       "there's a chance  VETERINARIAN: This'll happen within less than an hour\n",
       "</pre>\n"
      ],
      "text/plain": [
       "\u001b[1;36m97\u001b[0m  HOPE: It's a moose YOUNG GIRL: That's what I thought it was going to be  A hobbled moose  HOPE: \u001b[1m(\u001b[0mNarrating\u001b[1m)\u001b[0m I \n",
       "guess he'd only be a couple of days old  Oh, are you hurting, girl  \u001b[1m(\u001b[0mIndiscernible audio\u001b[1m)\u001b[0m HOPE: \u001b[1m(\u001b[0mNarrating\u001b[1m)\u001b[0m Look, \n",
       "there's a chance  VETERINARIAN: This'll happen within less than an hour\n"
      ]
     },
     "metadata": {},
     "output_type": "display_data"
    },
    {
     "name": "stderr",
     "output_type": "stream",
     "text": [
      "2024-05-10 06:29:46,869 - HTTP Request: POST https://api.openai.com/v1/embeddings \"HTTP/1.1 200 OK\"\n"
     ]
    },
    {
     "data": {
      "text/html": [
       "<pre style=\"white-space:pre;overflow-x:auto;line-height:normal;font-family:Menlo,'DejaVu Sans Mono',consolas,'Courier New',monospace\"><span style=\"color: #008080; text-decoration-color: #008080; font-weight: bold\">98</span>  We're gonna need a special emergency order for a vaccine-- It's feline panleukopenia vaccines  Today, it's just\n",
       "been like instant  Like one minute they're lapping milk and the next minute they're dying  So there's something \n",
       "going through really fast, that's for sure  HOPE: You know, there's gonna be more death and I'm just not quite sure\n",
       "if we're gonna lose them all or if we're just gonna lose a few more\n",
       "</pre>\n"
      ],
      "text/plain": [
       "\u001b[1;36m98\u001b[0m  We're gonna need a special emergency order for a vaccine-- It's feline panleukopenia vaccines  Today, it's just\n",
       "been like instant  Like one minute they're lapping milk and the next minute they're dying  So there's something \n",
       "going through really fast, that's for sure  HOPE: You know, there's gonna be more death and I'm just not quite sure\n",
       "if we're gonna lose them all or if we're just gonna lose a few more\n"
      ]
     },
     "metadata": {},
     "output_type": "display_data"
    },
    {
     "name": "stderr",
     "output_type": "stream",
     "text": [
      "2024-05-10 06:29:46,925 - HTTP Request: POST https://api.openai.com/v1/embeddings \"HTTP/1.1 200 OK\"\n"
     ]
    },
    {
     "data": {
      "text/html": [
       "<pre style=\"white-space:pre;overflow-x:auto;line-height:normal;font-family:Menlo,'DejaVu Sans Mono',consolas,'Courier New',monospace\"><span style=\"color: #008080; text-decoration-color: #008080; font-weight: bold\">99</span>  <span style=\"font-weight: bold\">(</span>♪♪<span style=\"font-weight: bold\">)</span> ♪ Hello beautiful life ♪ \n",
       "</pre>\n"
      ],
      "text/plain": [
       "\u001b[1;36m99\u001b[0m  \u001b[1m(\u001b[0m♪♪\u001b[1m)\u001b[0m ♪ Hello beautiful life ♪ \n"
      ]
     },
     "metadata": {},
     "output_type": "display_data"
    },
    {
     "name": "stderr",
     "output_type": "stream",
     "text": [
      "2024-05-10 06:29:47,269 - HTTP Request: POST https://api.openai.com/v1/embeddings \"HTTP/1.1 200 OK\"\n"
     ]
    },
    {
     "data": {
      "text/html": [
       "<pre style=\"white-space:pre;overflow-x:auto;line-height:normal;font-family:Menlo,'DejaVu Sans Mono',consolas,'Courier New',monospace\"><span style=\"color: #008080; text-decoration-color: #008080; font-weight: bold\">94</span>  HOPE: <span style=\"font-weight: bold\">(</span>Narrating<span style=\"font-weight: bold\">)</span> It looks like Tiffany's made a good impression with Allison  She works hard and she doesn't \n",
       "mind getting dirty And she really seems to enjoy herself  We need more people like that  I really enjoyed it  The \n",
       "owls are so cute  It was good, like actually seeing what they get to do and boas kinda freaked me out a little bit \n",
       "there, but we'll deal with that stuff\n",
       "</pre>\n"
      ],
      "text/plain": [
       "\u001b[1;36m94\u001b[0m  HOPE: \u001b[1m(\u001b[0mNarrating\u001b[1m)\u001b[0m It looks like Tiffany's made a good impression with Allison  She works hard and she doesn't \n",
       "mind getting dirty And she really seems to enjoy herself  We need more people like that  I really enjoyed it  The \n",
       "owls are so cute  It was good, like actually seeing what they get to do and boas kinda freaked me out a little bit \n",
       "there, but we'll deal with that stuff\n"
      ]
     },
     "metadata": {},
     "output_type": "display_data"
    },
    {
     "name": "stderr",
     "output_type": "stream",
     "text": [
      "2024-05-10 06:29:47,492 - Created 100 Leaf Embeddings\n",
      "2024-05-10 06:29:47,493 - Building All Nodes\n",
      "2024-05-10 06:29:47,538 - Using Cluster TreeBuilder\n",
      "2024-05-10 06:29:47,538 - Constructing Layer 0\n",
      "2024-05-10 06:30:02,904 - Summarization Length: 100\n",
      "2024-05-10 06:30:05,456 - HTTP Request: POST https://api.openai.com/v1/chat/completions \"HTTP/1.1 200 OK\"\n",
      "2024-05-10 06:30:05,463 - Node Texts Length: 461, Summarized Text Length: 100\n",
      "2024-05-10 06:30:06,086 - HTTP Request: POST https://api.openai.com/v1/embeddings \"HTTP/1.1 200 OK\"\n"
     ]
    },
    {
     "data": {
      "text/html": [
       "<pre style=\"white-space:pre;overflow-x:auto;line-height:normal;font-family:Menlo,'DejaVu Sans Mono',consolas,'Courier New',monospace\"><span style=\"color: #008080; text-decoration-color: #008080; font-weight: bold\">100</span> In this episode, we follow Hope, a wildlife rehabilitator, as she prepares to release a Great Horned Owl named \n",
       "Jenny who has been in her care for several weeks. Jenny was initially weak and thin, requiring intense care \n",
       "including IV fluids and monitoring. After three weeks of recovery in a nursery and six weeks in a flight cage, \n",
       "Jenny is now ready for release back into the wild. However, there are concerns that Jenny may be hesitant to leave \n",
       "the trailer. Hope is determined to release Jenny along\n",
       "</pre>\n"
      ],
      "text/plain": [
       "\u001b[1;36m100\u001b[0m In this episode, we follow Hope, a wildlife rehabilitator, as she prepares to release a Great Horned Owl named \n",
       "Jenny who has been in her care for several weeks. Jenny was initially weak and thin, requiring intense care \n",
       "including IV fluids and monitoring. After three weeks of recovery in a nursery and six weeks in a flight cage, \n",
       "Jenny is now ready for release back into the wild. However, there are concerns that Jenny may be hesitant to leave \n",
       "the trailer. Hope is determined to release Jenny along\n"
      ]
     },
     "metadata": {},
     "output_type": "display_data"
    },
    {
     "name": "stderr",
     "output_type": "stream",
     "text": [
      "2024-05-10 06:30:08,882 - HTTP Request: POST https://api.openai.com/v1/chat/completions \"HTTP/1.1 200 OK\"\n",
      "2024-05-10 06:30:08,889 - Node Texts Length: 619, Summarized Text Length: 100\n",
      "2024-05-10 06:30:09,215 - HTTP Request: POST https://api.openai.com/v1/embeddings \"HTTP/1.1 200 OK\"\n"
     ]
    },
    {
     "data": {
      "text/html": [
       "<pre style=\"white-space:pre;overflow-x:auto;line-height:normal;font-family:Menlo,'DejaVu Sans Mono',consolas,'Courier New',monospace\"><span style=\"color: #008080; text-decoration-color: #008080; font-weight: bold\">101</span> At Hope for Wildlife, various enclosures are shown, including a half-acre White-Tailed Deer unit and a large \n",
       "flight cage for bald eagles. Great Horned Owls, the largest owls at the facility and the most widespread in North \n",
       "America, are featured. The narrative follows the rehabilitation process of a Great Horned Owl named Jenny, along \n",
       "with the challenges faced by Barred Owls in suburban areas. The staff takes meticulous care in feeding the owls and\n",
       "occasionally names them for easy communication\n",
       "</pre>\n"
      ],
      "text/plain": [
       "\u001b[1;36m101\u001b[0m At Hope for Wildlife, various enclosures are shown, including a half-acre White-Tailed Deer unit and a large \n",
       "flight cage for bald eagles. Great Horned Owls, the largest owls at the facility and the most widespread in North \n",
       "America, are featured. The narrative follows the rehabilitation process of a Great Horned Owl named Jenny, along \n",
       "with the challenges faced by Barred Owls in suburban areas. The staff takes meticulous care in feeding the owls and\n",
       "occasionally names them for easy communication\n"
      ]
     },
     "metadata": {},
     "output_type": "display_data"
    },
    {
     "name": "stderr",
     "output_type": "stream",
     "text": [
      "2024-05-10 06:30:11,805 - HTTP Request: POST https://api.openai.com/v1/chat/completions \"HTTP/1.1 200 OK\"\n",
      "2024-05-10 06:30:11,812 - Node Texts Length: 180, Summarized Text Length: 100\n",
      "2024-05-10 06:30:12,215 - HTTP Request: POST https://api.openai.com/v1/embeddings \"HTTP/1.1 200 OK\"\n"
     ]
    },
    {
     "data": {
      "text/html": [
       "<pre style=\"white-space:pre;overflow-x:auto;line-height:normal;font-family:Menlo,'DejaVu Sans Mono',consolas,'Courier New',monospace\"><span style=\"color: #008080; text-decoration-color: #008080; font-weight: bold\">102</span> In this summary, a person is described as looking for a different spot while being narrated by a character \n",
       "named Hope. The person appears to be careful and not stupid, as they wrap something in a blanket to protect it from\n",
       "injury. There is a mention of not wanting to upset anyone. The narration continues as they carefully handle the \n",
       "feet of something, possibly an animal. The concern is raised about the possibility of crows mobbing the released \n",
       "item. Hope narrates someone inviting others to look at the\n",
       "</pre>\n"
      ],
      "text/plain": [
       "\u001b[1;36m102\u001b[0m In this summary, a person is described as looking for a different spot while being narrated by a character \n",
       "named Hope. The person appears to be careful and not stupid, as they wrap something in a blanket to protect it from\n",
       "injury. There is a mention of not wanting to upset anyone. The narration continues as they carefully handle the \n",
       "feet of something, possibly an animal. The concern is raised about the possibility of crows mobbing the released \n",
       "item. Hope narrates someone inviting others to look at the\n"
      ]
     },
     "metadata": {},
     "output_type": "display_data"
    },
    {
     "name": "stderr",
     "output_type": "stream",
     "text": [
      "2024-05-10 06:30:15,121 - HTTP Request: POST https://api.openai.com/v1/chat/completions \"HTTP/1.1 200 OK\"\n",
      "2024-05-10 06:30:15,125 - Node Texts Length: 293, Summarized Text Length: 100\n",
      "2024-05-10 06:30:15,491 - HTTP Request: POST https://api.openai.com/v1/embeddings \"HTTP/1.1 200 OK\"\n"
     ]
    },
    {
     "data": {
      "text/html": [
       "<pre style=\"white-space:pre;overflow-x:auto;line-height:normal;font-family:Menlo,'DejaVu Sans Mono',consolas,'Courier New',monospace\"><span style=\"color: #008080; text-decoration-color: #008080; font-weight: bold\">103</span> Summary: A group of individuals, including Allison and Tiffany, are tending to a group of <span style=\"color: #008080; text-decoration-color: #008080; font-weight: bold\">250</span> raccoons in a \n",
       "mammal nursery. While bottle-feeding one of the raccoons, the narrator accidentally gets a raccoon's foot in their \n",
       "mouth, resulting in the consumption of feces. The conversation involves discussions about the raccoons' needs, such\n",
       "as fur, bones, and pellets. The group also discusses cleaning the raccoons and the presence of waste. Despite the\n",
       "</pre>\n"
      ],
      "text/plain": [
       "\u001b[1;36m103\u001b[0m Summary: A group of individuals, including Allison and Tiffany, are tending to a group of \u001b[1;36m250\u001b[0m raccoons in a \n",
       "mammal nursery. While bottle-feeding one of the raccoons, the narrator accidentally gets a raccoon's foot in their \n",
       "mouth, resulting in the consumption of feces. The conversation involves discussions about the raccoons' needs, such\n",
       "as fur, bones, and pellets. The group also discusses cleaning the raccoons and the presence of waste. Despite the\n"
      ]
     },
     "metadata": {},
     "output_type": "display_data"
    },
    {
     "name": "stderr",
     "output_type": "stream",
     "text": [
      "2024-05-10 06:30:18,053 - HTTP Request: POST https://api.openai.com/v1/chat/completions \"HTTP/1.1 200 OK\"\n",
      "2024-05-10 06:30:18,060 - Node Texts Length: 378, Summarized Text Length: 100\n",
      "2024-05-10 06:30:18,461 - HTTP Request: POST https://api.openai.com/v1/embeddings \"HTTP/1.1 200 OK\"\n"
     ]
    },
    {
     "data": {
      "text/html": [
       "<pre style=\"white-space:pre;overflow-x:auto;line-height:normal;font-family:Menlo,'DejaVu Sans Mono',consolas,'Courier New',monospace\"><span style=\"color: #008080; text-decoration-color: #008080; font-weight: bold\">104</span> In this passage, a volunteer at a wildlife sanctuary is faced with unpleasant tasks such as handling deer legs \n",
       "and bobcats, which some find difficult to stomach. The volunteer acknowledges the necessity of these tasks for \n",
       "helping wildlife, despite their personal feelings towards the animals involved. Cleaning cages and dealing with \n",
       "sick animals are described as everyday realities in the field. The narrative highlights the importance of being \n",
       "prepared for the challenging aspects of the job, including facing death, disease, and engaging in dirty work. The \n",
       "volunteer expresses a\n",
       "</pre>\n"
      ],
      "text/plain": [
       "\u001b[1;36m104\u001b[0m In this passage, a volunteer at a wildlife sanctuary is faced with unpleasant tasks such as handling deer legs \n",
       "and bobcats, which some find difficult to stomach. The volunteer acknowledges the necessity of these tasks for \n",
       "helping wildlife, despite their personal feelings towards the animals involved. Cleaning cages and dealing with \n",
       "sick animals are described as everyday realities in the field. The narrative highlights the importance of being \n",
       "prepared for the challenging aspects of the job, including facing death, disease, and engaging in dirty work. The \n",
       "volunteer expresses a\n"
      ]
     },
     "metadata": {},
     "output_type": "display_data"
    },
    {
     "name": "stderr",
     "output_type": "stream",
     "text": [
      "2024-05-10 06:30:20,896 - HTTP Request: POST https://api.openai.com/v1/chat/completions \"HTTP/1.1 200 OK\"\n",
      "2024-05-10 06:30:20,903 - Node Texts Length: 361, Summarized Text Length: 100\n",
      "2024-05-10 06:30:21,225 - HTTP Request: POST https://api.openai.com/v1/embeddings \"HTTP/1.1 200 OK\"\n"
     ]
    },
    {
     "data": {
      "text/html": [
       "<pre style=\"white-space:pre;overflow-x:auto;line-height:normal;font-family:Menlo,'DejaVu Sans Mono',consolas,'Courier New',monospace\"><span style=\"color: #008080; text-decoration-color: #008080; font-weight: bold\">105</span> In this conversation, a person is discussing their struggles getting their pet to eat on its own. The pet, \n",
       "potentially a bird of prey, is not eating unless fed by hand and the owner is trying to encourage it to feed \n",
       "independently. The owner mentions that they have cut the food into small pieces because the pet has difficulty \n",
       "seeing its food due to blindness in one eye and a poor sense of smell. Despite trying various strategies, including\n",
       "changing the food and cleaning the cage, the pet is still not eating\n",
       "</pre>\n"
      ],
      "text/plain": [
       "\u001b[1;36m105\u001b[0m In this conversation, a person is discussing their struggles getting their pet to eat on its own. The pet, \n",
       "potentially a bird of prey, is not eating unless fed by hand and the owner is trying to encourage it to feed \n",
       "independently. The owner mentions that they have cut the food into small pieces because the pet has difficulty \n",
       "seeing its food due to blindness in one eye and a poor sense of smell. Despite trying various strategies, including\n",
       "changing the food and cleaning the cage, the pet is still not eating\n"
      ]
     },
     "metadata": {},
     "output_type": "display_data"
    },
    {
     "name": "stderr",
     "output_type": "stream",
     "text": [
      "2024-05-10 06:30:23,237 - HTTP Request: POST https://api.openai.com/v1/chat/completions \"HTTP/1.1 200 OK\"\n",
      "2024-05-10 06:30:23,239 - Node Texts Length: 263, Summarized Text Length: 100\n",
      "2024-05-10 06:30:23,543 - HTTP Request: POST https://api.openai.com/v1/embeddings \"HTTP/1.1 200 OK\"\n"
     ]
    },
    {
     "data": {
      "text/html": [
       "<pre style=\"white-space:pre;overflow-x:auto;line-height:normal;font-family:Menlo,'DejaVu Sans Mono',consolas,'Courier New',monospace\"><span style=\"color: #008080; text-decoration-color: #008080; font-weight: bold\">106</span> In this conversation, the speaker discusses the process of preparing food for different animals, including a \n",
       "bobcat that was hit by a car. The speaker emphasizes the importance of understanding zoonotic diseases, which are \n",
       "illnesses that can be transmitted from wildlife to humans. They highlight the need for animals at home to be \n",
       "vaccinated to prevent the spread of such diseases. The speaker advises keeping separate work clothes for rehab work\n",
       "and mentions the risk of raccoons carrying distemper, a disease that is often fatal to\n",
       "</pre>\n"
      ],
      "text/plain": [
       "\u001b[1;36m106\u001b[0m In this conversation, the speaker discusses the process of preparing food for different animals, including a \n",
       "bobcat that was hit by a car. The speaker emphasizes the importance of understanding zoonotic diseases, which are \n",
       "illnesses that can be transmitted from wildlife to humans. They highlight the need for animals at home to be \n",
       "vaccinated to prevent the spread of such diseases. The speaker advises keeping separate work clothes for rehab work\n",
       "and mentions the risk of raccoons carrying distemper, a disease that is often fatal to\n"
      ]
     },
     "metadata": {},
     "output_type": "display_data"
    },
    {
     "name": "stderr",
     "output_type": "stream",
     "text": [
      "2024-05-10 06:30:25,925 - HTTP Request: POST https://api.openai.com/v1/chat/completions \"HTTP/1.1 200 OK\"\n",
      "2024-05-10 06:30:25,932 - Node Texts Length: 432, Summarized Text Length: 100\n",
      "2024-05-10 06:30:26,346 - HTTP Request: POST https://api.openai.com/v1/embeddings \"HTTP/1.1 200 OK\"\n"
     ]
    },
    {
     "data": {
      "text/html": [
       "<pre style=\"white-space:pre;overflow-x:auto;line-height:normal;font-family:Menlo,'DejaVu Sans Mono',consolas,'Courier New',monospace\"><span style=\"color: #008080; text-decoration-color: #008080; font-weight: bold\">107</span> The text discusses the importance of keeping wild animals, particularly deer like Karl, from becoming too tame \n",
       "and close to humans. It highlights the risks of such interactions, mentioning that between hunters and cars, a \n",
       "friendly deer is a dead deer. The goal is to ensure that animals remain wild to avoid conflicts and potential \n",
       "dangers, especially as they mature and develop dangerous traits like full racks of horns in deer. The speaker \n",
       "emphasizes the need to release animals like Karl into the wild as far away from the general public as\n",
       "</pre>\n"
      ],
      "text/plain": [
       "\u001b[1;36m107\u001b[0m The text discusses the importance of keeping wild animals, particularly deer like Karl, from becoming too tame \n",
       "and close to humans. It highlights the risks of such interactions, mentioning that between hunters and cars, a \n",
       "friendly deer is a dead deer. The goal is to ensure that animals remain wild to avoid conflicts and potential \n",
       "dangers, especially as they mature and develop dangerous traits like full racks of horns in deer. The speaker \n",
       "emphasizes the need to release animals like Karl into the wild as far away from the general public as\n"
      ]
     },
     "metadata": {},
     "output_type": "display_data"
    },
    {
     "name": "stderr",
     "output_type": "stream",
     "text": [
      "2024-05-10 06:30:28,880 - HTTP Request: POST https://api.openai.com/v1/chat/completions \"HTTP/1.1 200 OK\"\n",
      "2024-05-10 06:30:28,886 - Node Texts Length: 279, Summarized Text Length: 100\n",
      "2024-05-10 06:30:29,185 - HTTP Request: POST https://api.openai.com/v1/embeddings \"HTTP/1.1 200 OK\"\n"
     ]
    },
    {
     "data": {
      "text/html": [
       "<pre style=\"white-space:pre;overflow-x:auto;line-height:normal;font-family:Menlo,'DejaVu Sans Mono',consolas,'Courier New',monospace\"><span style=\"color: #008080; text-decoration-color: #008080; font-weight: bold\">108</span> In the scenario described, the challenge of herding wild deer proves difficult due to their skittish nature, a \n",
       "survival instinct ingrained in them. However, efforts have been made to habituate the deer to a trailer by placing \n",
       "their food inside it over a few months. In an attempt to transport them, several deer are coaxed into the trailer, \n",
       "with a total of six successfully loaded. As the journey begins, there is concern for the deer’s well-being, given \n",
       "past incidents of deer getting\n",
       "</pre>\n"
      ],
      "text/plain": [
       "\u001b[1;36m108\u001b[0m In the scenario described, the challenge of herding wild deer proves difficult due to their skittish nature, a \n",
       "survival instinct ingrained in them. However, efforts have been made to habituate the deer to a trailer by placing \n",
       "their food inside it over a few months. In an attempt to transport them, several deer are coaxed into the trailer, \n",
       "with a total of six successfully loaded. As the journey begins, there is concern for the deer’s well-being, given \n",
       "past incidents of deer getting\n"
      ]
     },
     "metadata": {},
     "output_type": "display_data"
    },
    {
     "name": "stderr",
     "output_type": "stream",
     "text": [
      "2024-05-10 06:30:31,580 - HTTP Request: POST https://api.openai.com/v1/chat/completions \"HTTP/1.1 200 OK\"\n",
      "2024-05-10 06:30:31,586 - Node Texts Length: 191, Summarized Text Length: 100\n",
      "2024-05-10 06:30:31,978 - HTTP Request: POST https://api.openai.com/v1/embeddings \"HTTP/1.1 200 OK\"\n"
     ]
    },
    {
     "data": {
      "text/html": [
       "<pre style=\"white-space:pre;overflow-x:auto;line-height:normal;font-family:Menlo,'DejaVu Sans Mono',consolas,'Courier New',monospace\"><span style=\"color: #008080; text-decoration-color: #008080; font-weight: bold\">109</span> In the 1940s, an introduction of deer for food and sport has led to an abundance of these animals in the \n",
       "northern wilderness today. At Hope for Wildlife, a sanctuary in Nova Scotia, all animals, whether endangered or \n",
       "common, are treated with care and respect. The narrator named Hope believes that every animal matters. She \n",
       "specifically focuses on deer, aiming to release them after hunting season ends in December. By releasing them at \n",
       "this time, the deer have a better chance of survival during the winter\n",
       "</pre>\n"
      ],
      "text/plain": [
       "\u001b[1;36m109\u001b[0m In the 1940s, an introduction of deer for food and sport has led to an abundance of these animals in the \n",
       "northern wilderness today. At Hope for Wildlife, a sanctuary in Nova Scotia, all animals, whether endangered or \n",
       "common, are treated with care and respect. The narrator named Hope believes that every animal matters. She \n",
       "specifically focuses on deer, aiming to release them after hunting season ends in December. By releasing them at \n",
       "this time, the deer have a better chance of survival during the winter\n"
      ]
     },
     "metadata": {},
     "output_type": "display_data"
    },
    {
     "name": "stderr",
     "output_type": "stream",
     "text": [
      "2024-05-10 06:30:34,742 - HTTP Request: POST https://api.openai.com/v1/chat/completions \"HTTP/1.1 200 OK\"\n",
      "2024-05-10 06:30:34,744 - Node Texts Length: 370, Summarized Text Length: 100\n",
      "2024-05-10 06:30:35,152 - HTTP Request: POST https://api.openai.com/v1/embeddings \"HTTP/1.1 200 OK\"\n"
     ]
    },
    {
     "data": {
      "text/html": [
       "<pre style=\"white-space:pre;overflow-x:auto;line-height:normal;font-family:Menlo,'DejaVu Sans Mono',consolas,'Courier New',monospace\"><span style=\"color: #008080; text-decoration-color: #008080; font-weight: bold\">110</span> At the Hope for Wildlife Rescue and Rehabilitation Centre on Canada's east coast, a couple was found after \n",
       "being attacked by dogs, leading to their rescue. The center sees many cases of broken legs among the animals they \n",
       "care for, but most animals seem to do well once they are settled in with others. The veterinarian's role becomes \n",
       "less once the animals start adjusting. The hope is to release all rehabilitated animals back into the wilderness, \n",
       "but it is noted that the journey back can be dangerous, with some\n",
       "</pre>\n"
      ],
      "text/plain": [
       "\u001b[1;36m110\u001b[0m At the Hope for Wildlife Rescue and Rehabilitation Centre on Canada's east coast, a couple was found after \n",
       "being attacked by dogs, leading to their rescue. The center sees many cases of broken legs among the animals they \n",
       "care for, but most animals seem to do well once they are settled in with others. The veterinarian's role becomes \n",
       "less once the animals start adjusting. The hope is to release all rehabilitated animals back into the wilderness, \n",
       "but it is noted that the journey back can be dangerous, with some\n"
      ]
     },
     "metadata": {},
     "output_type": "display_data"
    },
    {
     "name": "stderr",
     "output_type": "stream",
     "text": [
      "2024-05-10 06:30:37,456 - HTTP Request: POST https://api.openai.com/v1/chat/completions \"HTTP/1.1 200 OK\"\n",
      "2024-05-10 06:30:37,458 - Node Texts Length: 176, Summarized Text Length: 100\n",
      "2024-05-10 06:30:37,815 - HTTP Request: POST https://api.openai.com/v1/embeddings \"HTTP/1.1 200 OK\"\n"
     ]
    },
    {
     "data": {
      "text/html": [
       "<pre style=\"white-space:pre;overflow-x:auto;line-height:normal;font-family:Menlo,'DejaVu Sans Mono',consolas,'Courier New',monospace\"><span style=\"color: #008080; text-decoration-color: #008080; font-weight: bold\">111</span> In the story, Hope narrates the nerve-racking moment before opening a door to check on a group of individuals \n",
       "on a trip. She expresses relief upon finding that they all made it safely. They are welcomed to the big, beautiful \n",
       "world before the scene transitions to Liscomb Game Sanctuary.\n",
       "\n",
       "Hope mentions that they will release Karl, a deer, in a couple of weeks once they are certain he is wild enough. \n",
       "All the deer are microchipped to keep track of them. They are currently deep\n",
       "</pre>\n"
      ],
      "text/plain": [
       "\u001b[1;36m111\u001b[0m In the story, Hope narrates the nerve-racking moment before opening a door to check on a group of individuals \n",
       "on a trip. She expresses relief upon finding that they all made it safely. They are welcomed to the big, beautiful \n",
       "world before the scene transitions to Liscomb Game Sanctuary.\n",
       "\n",
       "Hope mentions that they will release Karl, a deer, in a couple of weeks once they are certain he is wild enough. \n",
       "All the deer are microchipped to keep track of them. They are currently deep\n"
      ]
     },
     "metadata": {},
     "output_type": "display_data"
    },
    {
     "name": "stderr",
     "output_type": "stream",
     "text": [
      "2024-05-10 06:30:40,448 - HTTP Request: POST https://api.openai.com/v1/chat/completions \"HTTP/1.1 200 OK\"\n",
      "2024-05-10 06:30:40,450 - Node Texts Length: 985, Summarized Text Length: 100\n",
      "2024-05-10 06:30:40,987 - HTTP Request: POST https://api.openai.com/v1/embeddings \"HTTP/1.1 200 OK\"\n"
     ]
    },
    {
     "data": {
      "text/html": [
       "<pre style=\"white-space:pre;overflow-x:auto;line-height:normal;font-family:Menlo,'DejaVu Sans Mono',consolas,'Courier New',monospace\"><span style=\"color: #008080; text-decoration-color: #008080; font-weight: bold\">112</span> The story follows the rehabilitation and release of injured and orphaned animals at a wildlife rescue center \n",
       "called Hope for Wildlife. A juvenile bald eagle, initially in poor condition due to suspected poisoning, is now \n",
       "ready to be released back into the wild after receiving care. The center's goal is always to rehabilitate and \n",
       "release animals, but not all can be returned to the wild.\n",
       "\n",
       "The narrative shifts to the upcoming busy season at the center, with the arrival of numerous baby animals expected.\n",
       "Some White Tailed Deer\n",
       "</pre>\n"
      ],
      "text/plain": [
       "\u001b[1;36m112\u001b[0m The story follows the rehabilitation and release of injured and orphaned animals at a wildlife rescue center \n",
       "called Hope for Wildlife. A juvenile bald eagle, initially in poor condition due to suspected poisoning, is now \n",
       "ready to be released back into the wild after receiving care. The center's goal is always to rehabilitate and \n",
       "release animals, but not all can be returned to the wild.\n",
       "\n",
       "The narrative shifts to the upcoming busy season at the center, with the arrival of numerous baby animals expected.\n",
       "Some White Tailed Deer\n"
      ]
     },
     "metadata": {},
     "output_type": "display_data"
    },
    {
     "name": "stderr",
     "output_type": "stream",
     "text": [
      "2024-05-10 06:30:43,257 - HTTP Request: POST https://api.openai.com/v1/chat/completions \"HTTP/1.1 200 OK\"\n",
      "2024-05-10 06:30:43,264 - Node Texts Length: 1036, Summarized Text Length: 100\n",
      "2024-05-10 06:30:43,587 - HTTP Request: POST https://api.openai.com/v1/embeddings \"HTTP/1.1 200 OK\"\n"
     ]
    },
    {
     "data": {
      "text/html": [
       "<pre style=\"white-space:pre;overflow-x:auto;line-height:normal;font-family:Menlo,'DejaVu Sans Mono',consolas,'Courier New',monospace\"><span style=\"color: #008080; text-decoration-color: #008080; font-weight: bold\">113</span> Summary:\n",
       "\n",
       "In the scene, Hope and Reid are preparing to release four White-Tailed Deer back into the wild from a trailer. Hope\n",
       "is concerned about a small doe named Jenny, unsure if she is ready for the wild. They decide to give Jenny a chance\n",
       "to join the herd, but she hesitates and doesn't go with the others. Eventually, they decide to bring Jenny back to \n",
       "the herd and release her at a later time when she's more mature.\n",
       "\n",
       "Despite initially wanting to release all four\n",
       "</pre>\n"
      ],
      "text/plain": [
       "\u001b[1;36m113\u001b[0m Summary:\n",
       "\n",
       "In the scene, Hope and Reid are preparing to release four White-Tailed Deer back into the wild from a trailer. Hope\n",
       "is concerned about a small doe named Jenny, unsure if she is ready for the wild. They decide to give Jenny a chance\n",
       "to join the herd, but she hesitates and doesn't go with the others. Eventually, they decide to bring Jenny back to \n",
       "the herd and release her at a later time when she's more mature.\n",
       "\n",
       "Despite initially wanting to release all four\n"
      ]
     },
     "metadata": {},
     "output_type": "display_data"
    },
    {
     "name": "stderr",
     "output_type": "stream",
     "text": [
      "2024-05-10 06:30:46,111 - HTTP Request: POST https://api.openai.com/v1/chat/completions \"HTTP/1.1 200 OK\"\n",
      "2024-05-10 06:30:46,118 - Node Texts Length: 461, Summarized Text Length: 100\n",
      "2024-05-10 06:30:46,519 - HTTP Request: POST https://api.openai.com/v1/embeddings \"HTTP/1.1 200 OK\"\n"
     ]
    },
    {
     "data": {
      "text/html": [
       "<pre style=\"white-space:pre;overflow-x:auto;line-height:normal;font-family:Menlo,'DejaVu Sans Mono',consolas,'Courier New',monospace\"><span style=\"color: #008080; text-decoration-color: #008080; font-weight: bold\">114</span> In the provided dialogue, we see a glimpse behind the scenes at Hope for Wildlife, where individuals like \n",
       "Tiffany and Allison are involved in caring for animals. Tiffany is starting a new job at the organization, which \n",
       "involves one-on-one training. A key task includes feeding a juvenile Barred Owl that doesn't eat on its own. \n",
       "Despite some initial nervousness, Tiffany seems to be making a positive impression with her hard work and \n",
       "willingness to get dirty.\n",
       "\n",
       "The story also touches on successful animal releases back into the\n",
       "</pre>\n"
      ],
      "text/plain": [
       "\u001b[1;36m114\u001b[0m In the provided dialogue, we see a glimpse behind the scenes at Hope for Wildlife, where individuals like \n",
       "Tiffany and Allison are involved in caring for animals. Tiffany is starting a new job at the organization, which \n",
       "involves one-on-one training. A key task includes feeding a juvenile Barred Owl that doesn't eat on its own. \n",
       "Despite some initial nervousness, Tiffany seems to be making a positive impression with her hard work and \n",
       "willingness to get dirty.\n",
       "\n",
       "The story also touches on successful animal releases back into the\n"
      ]
     },
     "metadata": {},
     "output_type": "display_data"
    },
    {
     "name": "stderr",
     "output_type": "stream",
     "text": [
      "2024-05-10 06:30:48,889 - HTTP Request: POST https://api.openai.com/v1/chat/completions \"HTTP/1.1 200 OK\"\n",
      "2024-05-10 06:30:48,896 - Node Texts Length: 540, Summarized Text Length: 100\n",
      "2024-05-10 06:30:49,283 - HTTP Request: POST https://api.openai.com/v1/embeddings \"HTTP/1.1 200 OK\"\n"
     ]
    },
    {
     "data": {
      "text/html": [
       "<pre style=\"white-space:pre;overflow-x:auto;line-height:normal;font-family:Menlo,'DejaVu Sans Mono',consolas,'Courier New',monospace\"><span style=\"color: #008080; text-decoration-color: #008080; font-weight: bold\">115</span> The organization described in the text is experiencing challenges with volunteer retention and managing the \n",
       "high number of volunteers they receive inquiries from. They used to handle volunteers on a one-on-one basis but \n",
       "found that many would quit after about three weeks. To address this issue, they started conducting large \n",
       "orientation days four times a year, signing up <span style=\"color: #008080; text-decoration-color: #008080; font-weight: bold\">20</span> volunteers each time. However, only a small percentage of the \n",
       "volunteers remain committed in the long term. The tasks the volunteers are required to do include cutting up deer \n",
       "leg and\n",
       "</pre>\n"
      ],
      "text/plain": [
       "\u001b[1;36m115\u001b[0m The organization described in the text is experiencing challenges with volunteer retention and managing the \n",
       "high number of volunteers they receive inquiries from. They used to handle volunteers on a one-on-one basis but \n",
       "found that many would quit after about three weeks. To address this issue, they started conducting large \n",
       "orientation days four times a year, signing up \u001b[1;36m20\u001b[0m volunteers each time. However, only a small percentage of the \n",
       "volunteers remain committed in the long term. The tasks the volunteers are required to do include cutting up deer \n",
       "leg and\n"
      ]
     },
     "metadata": {},
     "output_type": "display_data"
    },
    {
     "name": "stderr",
     "output_type": "stream",
     "text": [
      "2024-05-10 06:30:51,842 - HTTP Request: POST https://api.openai.com/v1/chat/completions \"HTTP/1.1 200 OK\"\n",
      "2024-05-10 06:30:51,849 - Node Texts Length: 376, Summarized Text Length: 100\n",
      "2024-05-10 06:30:52,255 - HTTP Request: POST https://api.openai.com/v1/embeddings \"HTTP/1.1 200 OK\"\n"
     ]
    },
    {
     "data": {
      "text/html": [
       "<pre style=\"white-space:pre;overflow-x:auto;line-height:normal;font-family:Menlo,'DejaVu Sans Mono',consolas,'Courier New',monospace\"><span style=\"color: #008080; text-decoration-color: #008080; font-weight: bold\">116</span> In the story, Allison is the only full-time paid staff member at Hope for Wildlife. The organization relies \n",
       "heavily on volunteers, with grants from the government helping to create summer student jobs. The narrative follows\n",
       "volunteers Bobby and Shandon, who are highlighted as dedicated and valuable members. During an orientation day, \n",
       "Hope emphasizes the importance of hands-on tasks such as cutting meat and cleaning up animal waste to new \n",
       "volunteers.\n",
       "\n",
       "One month later, on the volunteers' first shift, only Tiffany shows up out of the three\n",
       "</pre>\n"
      ],
      "text/plain": [
       "\u001b[1;36m116\u001b[0m In the story, Allison is the only full-time paid staff member at Hope for Wildlife. The organization relies \n",
       "heavily on volunteers, with grants from the government helping to create summer student jobs. The narrative follows\n",
       "volunteers Bobby and Shandon, who are highlighted as dedicated and valuable members. During an orientation day, \n",
       "Hope emphasizes the importance of hands-on tasks such as cutting meat and cleaning up animal waste to new \n",
       "volunteers.\n",
       "\n",
       "One month later, on the volunteers' first shift, only Tiffany shows up out of the three\n"
      ]
     },
     "metadata": {},
     "output_type": "display_data"
    },
    {
     "name": "stderr",
     "output_type": "stream",
     "text": [
      "2024-05-10 06:30:54,515 - HTTP Request: POST https://api.openai.com/v1/chat/completions \"HTTP/1.1 200 OK\"\n",
      "2024-05-10 06:30:54,517 - Node Texts Length: 258, Summarized Text Length: 100\n",
      "2024-05-10 06:30:54,915 - HTTP Request: POST https://api.openai.com/v1/embeddings \"HTTP/1.1 200 OK\"\n"
     ]
    },
    {
     "data": {
      "text/html": [
       "<pre style=\"white-space:pre;overflow-x:auto;line-height:normal;font-family:Menlo,'DejaVu Sans Mono',consolas,'Courier New',monospace\"><span style=\"color: #008080; text-decoration-color: #008080; font-weight: bold\">117</span> Hope for Wildlife Society was founded by Hope, who became involved in wildlife rehabilitation after \n",
       "encountering a skunk in someone's house. The organization, established around <span style=\"color: #008080; text-decoration-color: #008080; font-weight: bold\">16</span> years ago and officially legalized\n",
       "about <span style=\"color: #008080; text-decoration-color: #008080; font-weight: bold\">11</span> years ago, focuses on rescuing injured or orphaned animals. In <span style=\"color: #008080; text-decoration-color: #008080; font-weight: bold\">2008</span>, they released over <span style=\"color: #008080; text-decoration-color: #008080; font-weight: bold\">1</span>,<span style=\"color: #008080; text-decoration-color: #008080; font-weight: bold\">100</span> different \n",
       "birds and mammals back into the wild. Animals are either rescued by the team or brought in by the Department of \n",
       "Natural Resources or concerned individuals. Hope's transition to legality was\n",
       "</pre>\n"
      ],
      "text/plain": [
       "\u001b[1;36m117\u001b[0m Hope for Wildlife Society was founded by Hope, who became involved in wildlife rehabilitation after \n",
       "encountering a skunk in someone's house. The organization, established around \u001b[1;36m16\u001b[0m years ago and officially legalized\n",
       "about \u001b[1;36m11\u001b[0m years ago, focuses on rescuing injured or orphaned animals. In \u001b[1;36m2008\u001b[0m, they released over \u001b[1;36m1\u001b[0m,\u001b[1;36m100\u001b[0m different \n",
       "birds and mammals back into the wild. Animals are either rescued by the team or brought in by the Department of \n",
       "Natural Resources or concerned individuals. Hope's transition to legality was\n"
      ]
     },
     "metadata": {},
     "output_type": "display_data"
    },
    {
     "name": "stderr",
     "output_type": "stream",
     "text": [
      "2024-05-10 06:30:57,545 - HTTP Request: POST https://api.openai.com/v1/chat/completions \"HTTP/1.1 200 OK\"\n",
      "2024-05-10 06:30:57,547 - Node Texts Length: 460, Summarized Text Length: 100\n",
      "2024-05-10 06:30:57,874 - HTTP Request: POST https://api.openai.com/v1/embeddings \"HTTP/1.1 200 OK\"\n"
     ]
    },
    {
     "data": {
      "text/html": [
       "<pre style=\"white-space:pre;overflow-x:auto;line-height:normal;font-family:Menlo,'DejaVu Sans Mono',consolas,'Courier New',monospace\"><span style=\"color: #008080; text-decoration-color: #008080; font-weight: bold\">118</span> The text describes the challenging and rewarding work of running a wildlife rehabilitation facility, focusing \n",
       "on the experiences of a woman named Hope. Hope manages a veterinary hospital in the city for <span style=\"color: #008080; text-decoration-color: #008080; font-weight: bold\">40</span> hours a week and \n",
       "also runs a wildlife rehabilitation program in her free time, which has grown to care for over <span style=\"color: #008080; text-decoration-color: #008080; font-weight: bold\">1</span>,<span style=\"color: #008080; text-decoration-color: #008080; font-weight: bold\">000</span> animals a year\n",
       "on her farm. She relies on volunteers and donations to support this massive operation. The narrative also \n",
       "introduces a group of new recruits who are about to witness the demanding and sometimes grim\n",
       "</pre>\n"
      ],
      "text/plain": [
       "\u001b[1;36m118\u001b[0m The text describes the challenging and rewarding work of running a wildlife rehabilitation facility, focusing \n",
       "on the experiences of a woman named Hope. Hope manages a veterinary hospital in the city for \u001b[1;36m40\u001b[0m hours a week and \n",
       "also runs a wildlife rehabilitation program in her free time, which has grown to care for over \u001b[1;36m1\u001b[0m,\u001b[1;36m000\u001b[0m animals a year\n",
       "on her farm. She relies on volunteers and donations to support this massive operation. The narrative also \n",
       "introduces a group of new recruits who are about to witness the demanding and sometimes grim\n"
      ]
     },
     "metadata": {},
     "output_type": "display_data"
    },
    {
     "name": "stderr",
     "output_type": "stream",
     "text": [
      "2024-05-10 06:31:00,344 - HTTP Request: POST https://api.openai.com/v1/chat/completions \"HTTP/1.1 200 OK\"\n",
      "2024-05-10 06:31:00,350 - Node Texts Length: 375, Summarized Text Length: 100\n",
      "2024-05-10 06:31:00,752 - HTTP Request: POST https://api.openai.com/v1/embeddings \"HTTP/1.1 200 OK\"\n"
     ]
    },
    {
     "data": {
      "text/html": [
       "<pre style=\"white-space:pre;overflow-x:auto;line-height:normal;font-family:Menlo,'DejaVu Sans Mono',consolas,'Courier New',monospace\"><span style=\"color: #008080; text-decoration-color: #008080; font-weight: bold\">119</span> Hope for Wildlife is a wildlife rehabilitation center in Nova Scotia that aims to fix the problems created by \n",
       "humans in nature. They focus on connecting people to wildlife through knowledge and understanding, rather than just\n",
       "rehabilitation. The center often deals with injured or orphaned animals, including meat-eating birds of prey, which\n",
       "can be costly to feed. Despite the challenges, the staff find joy in helping animals recover and be released back \n",
       "into the wild. One of their educational animals, Julie, had a sad story of being\n",
       "</pre>\n"
      ],
      "text/plain": [
       "\u001b[1;36m119\u001b[0m Hope for Wildlife is a wildlife rehabilitation center in Nova Scotia that aims to fix the problems created by \n",
       "humans in nature. They focus on connecting people to wildlife through knowledge and understanding, rather than just\n",
       "rehabilitation. The center often deals with injured or orphaned animals, including meat-eating birds of prey, which\n",
       "can be costly to feed. Despite the challenges, the staff find joy in helping animals recover and be released back \n",
       "into the wild. One of their educational animals, Julie, had a sad story of being\n"
      ]
     },
     "metadata": {},
     "output_type": "display_data"
    },
    {
     "name": "stderr",
     "output_type": "stream",
     "text": [
      "2024-05-10 06:31:03,108 - HTTP Request: POST https://api.openai.com/v1/chat/completions \"HTTP/1.1 200 OK\"\n",
      "2024-05-10 06:31:03,115 - Node Texts Length: 281, Summarized Text Length: 100\n",
      "2024-05-10 06:31:03,518 - HTTP Request: POST https://api.openai.com/v1/embeddings \"HTTP/1.1 200 OK\"\n"
     ]
    },
    {
     "data": {
      "text/html": [
       "<pre style=\"white-space:pre;overflow-x:auto;line-height:normal;font-family:Menlo,'DejaVu Sans Mono',consolas,'Courier New',monospace\"><span style=\"color: #008080; text-decoration-color: #008080; font-weight: bold\">120</span> Hope for Wildlife Rescue and Rehabilitation Centre, located in Nova Scotia on Canada's east coast, is a \n",
       "sanctuary where over <span style=\"color: #008080; text-decoration-color: #008080; font-weight: bold\">1</span>,<span style=\"color: #008080; text-decoration-color: #008080; font-weight: bold\">000</span> injured and orphaned birds and mammals are cared for annually. Hope Swinimer, the \n",
       "compassionate founder, envisions giving wildlife a second chance. The center serves as both a rehabilitation \n",
       "facility and a home for Hope, situated at the boundary between human civilization and natural wilderness. As winter\n",
       "approaches, preparations are made for the expected influx of animals in need during spring. The\n",
       "</pre>\n"
      ],
      "text/plain": [
       "\u001b[1;36m120\u001b[0m Hope for Wildlife Rescue and Rehabilitation Centre, located in Nova Scotia on Canada's east coast, is a \n",
       "sanctuary where over \u001b[1;36m1\u001b[0m,\u001b[1;36m000\u001b[0m injured and orphaned birds and mammals are cared for annually. Hope Swinimer, the \n",
       "compassionate founder, envisions giving wildlife a second chance. The center serves as both a rehabilitation \n",
       "facility and a home for Hope, situated at the boundary between human civilization and natural wilderness. As winter\n",
       "approaches, preparations are made for the expected influx of animals in need during spring. The\n"
      ]
     },
     "metadata": {},
     "output_type": "display_data"
    },
    {
     "name": "stderr",
     "output_type": "stream",
     "text": [
      "2024-05-10 06:31:05,771 - HTTP Request: POST https://api.openai.com/v1/chat/completions \"HTTP/1.1 200 OK\"\n",
      "2024-05-10 06:31:05,776 - Node Texts Length: 296, Summarized Text Length: 100\n",
      "2024-05-10 06:31:06,180 - HTTP Request: POST https://api.openai.com/v1/embeddings \"HTTP/1.1 200 OK\"\n"
     ]
    },
    {
     "data": {
      "text/html": [
       "<pre style=\"white-space:pre;overflow-x:auto;line-height:normal;font-family:Menlo,'DejaVu Sans Mono',consolas,'Courier New',monospace\"><span style=\"color: #008080; text-decoration-color: #008080; font-weight: bold\">121</span> Hope narrates about her work in rescuing and caring for animals during the summer, as it seems nobody else does\n",
       "it. She discusses how they typically receive hundreds of raccoons, songbirds, eagles, owls, birds of prey, and a \n",
       "dozen or more deer each year. The workload varies depending on the cycles of nature.\n",
       "\n",
       "Allison explains that their facility is usually a mammal nursery, but there are no mammals at the moment since they\n",
       "typically care for them in the summer.\n",
       "</pre>\n"
      ],
      "text/plain": [
       "\u001b[1;36m121\u001b[0m Hope narrates about her work in rescuing and caring for animals during the summer, as it seems nobody else does\n",
       "it. She discusses how they typically receive hundreds of raccoons, songbirds, eagles, owls, birds of prey, and a \n",
       "dozen or more deer each year. The workload varies depending on the cycles of nature.\n",
       "\n",
       "Allison explains that their facility is usually a mammal nursery, but there are no mammals at the moment since they\n",
       "typically care for them in the summer.\n"
      ]
     },
     "metadata": {},
     "output_type": "display_data"
    },
    {
     "name": "stderr",
     "output_type": "stream",
     "text": [
      "2024-05-10 06:31:06,188 - Constructing Layer 1\n",
      "2024-05-10 06:31:08,006 - Summarization Length: 100\n",
      "2024-05-10 06:31:10,200 - HTTP Request: POST https://api.openai.com/v1/chat/completions \"HTTP/1.1 200 OK\"\n",
      "2024-05-10 06:31:10,207 - Node Texts Length: 304, Summarized Text Length: 100\n",
      "2024-05-10 06:31:10,584 - HTTP Request: POST https://api.openai.com/v1/embeddings \"HTTP/1.1 200 OK\"\n"
     ]
    },
    {
     "data": {
      "text/html": [
       "<pre style=\"white-space:pre;overflow-x:auto;line-height:normal;font-family:Menlo,'DejaVu Sans Mono',consolas,'Courier New',monospace\"><span style=\"color: #008080; text-decoration-color: #008080; font-weight: bold\">122</span> In this episode of Hope for Wildlife, we meet Hope, a dedicated wildlife rehabilitator, as she prepares to \n",
       "release a Great Horned Owl named Jenny back into the wild. Jenny had been weak and thin, requiring intensive care \n",
       "including IV fluids and monitoring. After three weeks in a nursery and six weeks in a flight cage, she is now ready\n",
       "for release, though there are concerns she may be hesitant to leave the trailer. The episode showcases various \n",
       "enclosures at Hope for Wildlife, including a half-acre\n",
       "</pre>\n"
      ],
      "text/plain": [
       "\u001b[1;36m122\u001b[0m In this episode of Hope for Wildlife, we meet Hope, a dedicated wildlife rehabilitator, as she prepares to \n",
       "release a Great Horned Owl named Jenny back into the wild. Jenny had been weak and thin, requiring intensive care \n",
       "including IV fluids and monitoring. After three weeks in a nursery and six weeks in a flight cage, she is now ready\n",
       "for release, though there are concerns she may be hesitant to leave the trailer. The episode showcases various \n",
       "enclosures at Hope for Wildlife, including a half-acre\n"
      ]
     },
     "metadata": {},
     "output_type": "display_data"
    },
    {
     "name": "stderr",
     "output_type": "stream",
     "text": [
      "2024-05-10 06:31:12,900 - HTTP Request: POST https://api.openai.com/v1/chat/completions \"HTTP/1.1 200 OK\"\n",
      "2024-05-10 06:31:12,906 - Node Texts Length: 506, Summarized Text Length: 100\n",
      "2024-05-10 06:31:13,244 - HTTP Request: POST https://api.openai.com/v1/embeddings \"HTTP/1.1 200 OK\"\n"
     ]
    },
    {
     "data": {
      "text/html": [
       "<pre style=\"white-space:pre;overflow-x:auto;line-height:normal;font-family:Menlo,'DejaVu Sans Mono',consolas,'Courier New',monospace\"><span style=\"color: #008080; text-decoration-color: #008080; font-weight: bold\">123</span> In the provided dialogue, we witness the inner workings of Hope for Wildlife, an organization dedicated to \n",
       "caring for animals. Tiffany, a new employee, is undergoing one-on-one training and is tasked with feeding a \n",
       "juvenile Barred Owl that struggles to eat on its own. Despite her initial nervousness, Tiffany impresses with her \n",
       "hard work and readiness to get her hands dirty. The organization faces challenges with volunteer retention, having \n",
       "switched from individual training to larger orientation days to accommodate the high number of inquiries they \n",
       "receive\n",
       "</pre>\n"
      ],
      "text/plain": [
       "\u001b[1;36m123\u001b[0m In the provided dialogue, we witness the inner workings of Hope for Wildlife, an organization dedicated to \n",
       "caring for animals. Tiffany, a new employee, is undergoing one-on-one training and is tasked with feeding a \n",
       "juvenile Barred Owl that struggles to eat on its own. Despite her initial nervousness, Tiffany impresses with her \n",
       "hard work and readiness to get her hands dirty. The organization faces challenges with volunteer retention, having \n",
       "switched from individual training to larger orientation days to accommodate the high number of inquiries they \n",
       "receive\n"
      ]
     },
     "metadata": {},
     "output_type": "display_data"
    },
    {
     "name": "stderr",
     "output_type": "stream",
     "text": [
      "2024-05-10 06:31:15,704 - HTTP Request: POST https://api.openai.com/v1/chat/completions \"HTTP/1.1 200 OK\"\n",
      "2024-05-10 06:31:15,706 - Node Texts Length: 609, Summarized Text Length: 100\n",
      "2024-05-10 06:31:16,113 - HTTP Request: POST https://api.openai.com/v1/embeddings \"HTTP/1.1 200 OK\"\n"
     ]
    },
    {
     "data": {
      "text/html": [
       "<pre style=\"white-space:pre;overflow-x:auto;line-height:normal;font-family:Menlo,'DejaVu Sans Mono',consolas,'Courier New',monospace\"><span style=\"color: #008080; text-decoration-color: #008080; font-weight: bold\">124</span> Hope, a character in the text, narrates a story where a person is carefully handling something wrapped in a \n",
       "blanket, showing concern about protecting it from harm. Hope mentions the importance of not upsetting anyone and \n",
       "the risk of crows mobbing the released item. The text emphasizes the need to keep wild animals, like a deer named \n",
       "Karl, from becoming too tame to avoid conflicts and dangers. It describes the challenge of herding wild deer due to\n",
       "their skittish nature and efforts to habituate them\n",
       "</pre>\n"
      ],
      "text/plain": [
       "\u001b[1;36m124\u001b[0m Hope, a character in the text, narrates a story where a person is carefully handling something wrapped in a \n",
       "blanket, showing concern about protecting it from harm. Hope mentions the importance of not upsetting anyone and \n",
       "the risk of crows mobbing the released item. The text emphasizes the need to keep wild animals, like a deer named \n",
       "Karl, from becoming too tame to avoid conflicts and dangers. It describes the challenge of herding wild deer due to\n",
       "their skittish nature and efforts to habituate them\n"
      ]
     },
     "metadata": {},
     "output_type": "display_data"
    },
    {
     "name": "stderr",
     "output_type": "stream",
     "text": [
      "2024-05-10 06:31:18,542 - HTTP Request: POST https://api.openai.com/v1/chat/completions \"HTTP/1.1 200 OK\"\n",
      "2024-05-10 06:31:18,549 - Node Texts Length: 404, Summarized Text Length: 100\n",
      "2024-05-10 06:31:18,980 - HTTP Request: POST https://api.openai.com/v1/embeddings \"HTTP/1.1 200 OK\"\n"
     ]
    },
    {
     "data": {
      "text/html": [
       "<pre style=\"white-space:pre;overflow-x:auto;line-height:normal;font-family:Menlo,'DejaVu Sans Mono',consolas,'Courier New',monospace\"><span style=\"color: #008080; text-decoration-color: #008080; font-weight: bold\">125</span> The Hope for Wildlife Rescue and Rehabilitation Centre, situated on Canada's east coast in Nova Scotia, is a \n",
       "sanctuary founded by Hope Swinimer. The organization concentrates on rescuing injured or orphaned animals and has \n",
       "been operational for around <span style=\"color: #008080; text-decoration-color: #008080; font-weight: bold\">16</span> years, becoming officially legalized about <span style=\"color: #008080; text-decoration-color: #008080; font-weight: bold\">11</span> years ago. The center annually cares \n",
       "for over <span style=\"color: #008080; text-decoration-color: #008080; font-weight: bold\">1</span>,<span style=\"color: #008080; text-decoration-color: #008080; font-weight: bold\">000</span> birds and mammals, with a focus on rehabilitating and releasing them back into the wild. The \n",
       "facility welcomes animals rescued both by their team and external sources like\n",
       "</pre>\n"
      ],
      "text/plain": [
       "\u001b[1;36m125\u001b[0m The Hope for Wildlife Rescue and Rehabilitation Centre, situated on Canada's east coast in Nova Scotia, is a \n",
       "sanctuary founded by Hope Swinimer. The organization concentrates on rescuing injured or orphaned animals and has \n",
       "been operational for around \u001b[1;36m16\u001b[0m years, becoming officially legalized about \u001b[1;36m11\u001b[0m years ago. The center annually cares \n",
       "for over \u001b[1;36m1\u001b[0m,\u001b[1;36m000\u001b[0m birds and mammals, with a focus on rehabilitating and releasing them back into the wild. The \n",
       "facility welcomes animals rescued both by their team and external sources like\n"
      ]
     },
     "metadata": {},
     "output_type": "display_data"
    },
    {
     "name": "stderr",
     "output_type": "stream",
     "text": [
      "2024-05-10 06:31:21,132 - HTTP Request: POST https://api.openai.com/v1/chat/completions \"HTTP/1.1 200 OK\"\n",
      "2024-05-10 06:31:21,138 - Node Texts Length: 404, Summarized Text Length: 100\n",
      "2024-05-10 06:31:21,481 - HTTP Request: POST https://api.openai.com/v1/embeddings \"HTTP/1.1 200 OK\"\n"
     ]
    },
    {
     "data": {
      "text/html": [
       "<pre style=\"white-space:pre;overflow-x:auto;line-height:normal;font-family:Menlo,'DejaVu Sans Mono',consolas,'Courier New',monospace\"><span style=\"color: #008080; text-decoration-color: #008080; font-weight: bold\">126</span> In summary, the passage involves multiple conversations within a wildlife sanctuary setting. The first scenario\n",
       "features individuals caring for a group of <span style=\"color: #008080; text-decoration-color: #008080; font-weight: bold\">250</span> raccoons in a mammal nursery, with a humorous anecdote about \n",
       "accidentally consuming raccoon feces while bottle-feeding. Discussions revolve around the raccoons' needs, cleaning\n",
       "them, and managing waste. The second scenario touches on the challenging aspects of volunteering, including dealing\n",
       "with sick animals and dirty work. The importance of being prepared for such hardships is highlighted\n",
       "</pre>\n"
      ],
      "text/plain": [
       "\u001b[1;36m126\u001b[0m In summary, the passage involves multiple conversations within a wildlife sanctuary setting. The first scenario\n",
       "features individuals caring for a group of \u001b[1;36m250\u001b[0m raccoons in a mammal nursery, with a humorous anecdote about \n",
       "accidentally consuming raccoon feces while bottle-feeding. Discussions revolve around the raccoons' needs, cleaning\n",
       "them, and managing waste. The second scenario touches on the challenging aspects of volunteering, including dealing\n",
       "with sick animals and dirty work. The importance of being prepared for such hardships is highlighted\n"
      ]
     },
     "metadata": {},
     "output_type": "display_data"
    },
    {
     "name": "stderr",
     "output_type": "stream",
     "text": [
      "2024-05-10 06:31:21,489 - Constructing Layer 2\n",
      "2024-05-10 06:31:21,490 - Stopping Layer construction: Cannot Create More Layers. Total Layers in tree: 2\n",
      "2024-05-10 06:31:21,491 - Successfully initialized TreeRetriever with Config \n",
      "        TreeRetrieverConfig:\n",
      "            Tokenizer: <Encoding 'cl100k_base'>\n",
      "            Threshold: 0.5\n",
      "            Top K: 5\n",
      "            Selection Mode: top_k\n",
      "            Context Embedding Model: OpenAI\n",
      "            Embedding Model: <raptor.EmbeddingModels.OpenAIEmbeddingModel object at 0x7a3efbcbb0a0>\n",
      "            Num Layers: None\n",
      "            Start Layer: None\n",
      "        \n"
     ]
    }
   ],
   "source": [
    "RA.add_documents(txt.read_text())"
   ]
  },
  {
   "cell_type": "code",
   "execution_count": 17,
   "metadata": {},
   "outputs": [
    {
     "name": "stderr",
     "output_type": "stream",
     "text": [
      "2024-05-08 23:11:50,557 - Using collapsed_tree\n",
      "2024-05-08 23:11:51,470 - HTTP Request: POST https://api.openai.com/v1/embeddings \"HTTP/1.1 200 OK\"\n",
      "2024-05-08 23:11:54,218 - HTTP Request: POST https://api.openai.com/v1/chat/completions \"HTTP/1.1 200 OK\"\n"
     ]
    },
    {
     "data": {
      "text/html": [
       "<pre style=\"white-space:pre;overflow-x:auto;line-height:normal;font-family:Menlo,'DejaVu Sans Mono',consolas,'Courier New',monospace\">The narrator describes Hope's experience working at an animal rehabilitation center, where she cares for various \n",
       "animals such as raccoons, songbirds, eagles, owls, birds of prey, and deer. Hope mentions that she does the work \n",
       "for the animals since there are no other helpers, and the center receives numerous injured and orphaned animals in \n",
       "tune with the cycles of nature. The narrator also highlights the challenges faced in wildlife rehabilitation, \n",
       "emphasizing the dedication required to give these animals a second chance at survival.\n",
       "</pre>\n"
      ],
      "text/plain": [
       "The narrator describes Hope's experience working at an animal rehabilitation center, where she cares for various \n",
       "animals such as raccoons, songbirds, eagles, owls, birds of prey, and deer. Hope mentions that she does the work \n",
       "for the animals since there are no other helpers, and the center receives numerous injured and orphaned animals in \n",
       "tune with the cycles of nature. The narrator also highlights the challenges faced in wildlife rehabilitation, \n",
       "emphasizing the dedication required to give these animals a second chance at survival.\n"
      ]
     },
     "metadata": {},
     "output_type": "display_data"
    }
   ],
   "source": [
    "print(RA.answer_question(\"what does the narrator say\"))"
   ]
  }
 ],
 "metadata": {
  "kernelspec": {
   "display_name": "Python 3 (ipykernel)",
   "language": "python",
   "name": "python3"
  },
  "language_info": {
   "codemirror_mode": {
    "name": "ipython",
    "version": 3
   },
   "file_extension": ".py",
   "mimetype": "text/x-python",
   "name": "python",
   "nbconvert_exporter": "python",
   "pygments_lexer": "ipython3",
   "version": "3.10.12"
  }
 },
 "nbformat": 4,
 "nbformat_minor": 4
}
